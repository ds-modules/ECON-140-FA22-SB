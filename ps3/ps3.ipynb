{
 "cells": [
  {
   "cell_type": "code",
   "execution_count": 2,
   "metadata": {
    "deletable": false,
    "editable": false
   },
   "outputs": [],
   "source": [
    "# Initialize Otter\n",
    "import otter\n",
    "grader = otter.Notebook(\"ps3.ipynb\")"
   ]
  },
  {
   "cell_type": "markdown",
   "metadata": {
    "cell_id": "00001-ca52b513-e287-4e2a-8ade-c0cf134daa33",
    "deepnote_cell_type": "markdown"
   },
   "source": [
    "# Econ 140 – Problem Set 3"
   ]
  },
  {
   "cell_type": "markdown",
   "metadata": {
    "cell_id": "00002-3104cae3-0cdc-4ac6-be4c-254ffa97eab8",
    "deepnote_cell_type": "markdown"
   },
   "source": [
    "We'll go through a demonstration on how to do multivariable regression, however we also went through a breif demonstration in PS0 so it might be worth going through that one as well. It is very similar to single variable. The only difference is we need to select multiple columns for our independent `X` variable. Suppose we have a dataset called `df` that has three columns of observations, one called `wage`, another `educ`, and another `parents_wealth`, and suppose we want to regress `wage` onto `educ`, `parents_wealth`, and a constant. To do so, we would first identify the endogenous (dependent) variable and the exogenous (independent) variables.\n",
    "\n",
    "```python\n",
    "y = df['wage']\n",
    "X = sm.add_constant(df[['educ', 'parents_wealth']])\n",
    "```\n",
    "\n",
    "Notice the double square brackets when we select multiple columns. `df['educ', 'parents_wealth']` will not work.\n",
    "\n",
    "Next, we will pass in our endogenous and exogenous variables (in that order) to `sm.OLS`, just like before.\n",
    "\n",
    "```python\n",
    "my_ols_model = sm.OLS(y, X)\n",
    "results = my_ols_model.fit(cov_type = 'HC1')\n",
    "results.summary()\n",
    "```\n",
    "\n",
    "And that's it!"
   ]
  },
  {
   "cell_type": "markdown",
   "metadata": {
    "cell_id": "00003-bb62f2c7-dc3b-4f96-a9d0-e7320f8331e8",
    "deepnote_cell_type": "markdown"
   },
   "source": [
    "Before getting started on the assignment, run the cell at the very top that imports `otter` and the cell below which will import the packages we need.\n",
    "\n",
    "**Important:** As mentioned in problem set 0, if you leave this notebook alone for a while and come back, to save memory datahub will \"forget\" which code cells you have run, and you may need to restart your kernel and run all of the cells from the top. That includes this code cell that imports packages. If you get `<something> not defined` errors, this is because you didn't run an earlier code cell that you needed to run. It might be this cell or the `otter` cell above."
   ]
  },
  {
   "cell_type": "code",
   "execution_count": 3,
   "metadata": {
    "cell_id": "00004-124fd5e0-e46e-40ae-bd12-66ece6c3dad6",
    "deepnote_cell_type": "code",
    "deepnote_to_be_reexecuted": false,
    "execution_millis": 1221,
    "execution_start": 1614203535679,
    "source_hash": "e4b16df7"
   },
   "outputs": [],
   "source": [
    "import numpy as np\n",
    "import pandas as pd\n",
    "import statsmodels.api as sm"
   ]
  },
  {
   "cell_type": "markdown",
   "metadata": {
    "cell_id": "00005-74d89028-ea55-4598-93b9-8daa08cb79d4",
    "deepnote_cell_type": "markdown"
   },
   "source": [
    "## Problem 1. Multivariate Linear Regression\n",
    "\n",
    "This problem will create a dataset by having generated variables in the same way as we did in Problem Set 2. A main advantage of such an exercise is that we can control the true data generating process (“DGP”), which is not possible in practical econometric analysis."
   ]
  },
  {
   "cell_type": "markdown",
   "metadata": {
    "cell_id": "00006-0898cc71-5728-43c6-a932-d130d3f29df0",
    "deepnote_cell_type": "markdown",
    "deletable": false,
    "editable": false
   },
   "source": [
    "<!-- BEGIN QUESTION -->\n",
    "\n",
    "**Question 1.a.**\n",
    "Set the sample size at 1,000 and generate an error term, $u_i$, by randomly selecting from a normal distribution with mean 0, and standard deviation 5. Draw an explanatory variable, $X_{1i}$, from a standard normal distribution, $\\mathcal{N}(0,1)$, and then define a second explanatory variable, $X_{2i}$, to be equal to $e^{X_{1i}}$ for all $i$. Finally, set the dependent variable to be linearly related to the two regressors plus an additive error term: $y_i = 2 + 4X_{1i} − 6X_{2i} + u_i$. Note that, by construction, the error term of this multivariate linear regression is homoskedastic.\n",
    "\n",
    "*Hint*: You may want to refer to how you did this in Problem Set 2. Also, the function `np.exp()` takes a list/array of numbers and applies the exponential function to each element. This is basically the opposite funciton of `np.log()`.\n",
    "\n",
    "<!--\n",
    "BEGIN QUESTION\n",
    "name: q1_a\n",
    "manual: true\n",
    "-->"
   ]
  },
  {
   "cell_type": "code",
   "execution_count": 3,
   "metadata": {
    "cell_id": "00007-544307b8-5dac-4acc-8d7f-f0b6ccf79389",
    "deepnote_cell_type": "code",
    "deepnote_to_be_reexecuted": false,
    "execution_millis": 1,
    "execution_start": 1614206780793,
    "source_hash": "10d30cb1"
   },
   "outputs": [],
   "source": [
    "u = np.random.normal(0,5,1000)\n",
    "X1 = np.random.normal(0,1,1000)\n",
    "X2 = np.exp(X1)\n",
    "y = 2+4*X1-6*X2+u"
   ]
  },
  {
   "cell_type": "markdown",
   "metadata": {
    "cell_id": "00008-0e5a7849-da76-46a6-808e-234157957f4d",
    "deepnote_cell_type": "markdown",
    "deletable": false,
    "editable": false
   },
   "source": [
    "<!-- END QUESTION -->\n",
    "\n",
    "<!-- BEGIN QUESTION -->\n",
    "\n",
    "**Question 1.b.**\n",
    "Regress $y$ on $X_1$ with homoskedasticity-only standard errors (`statsmodels` does this by default, just don't specify a `cov_type` like we usually do to get robust errors). Do the same analysis for $y$ and $X_2$. Compare the results with the true data generating process. Explain why differences arise between the population slopes and the estimated slopes, if there are any.\n",
    "\n",
    "This question is for your code, the next is for your explanation.\n",
    "\n",
    "<!--\n",
    "BEGIN QUESTION\n",
    "name: q1_b\n",
    "manual: true\n",
    "-->"
   ]
  },
  {
   "cell_type": "code",
   "execution_count": 4,
   "metadata": {
    "cell_id": "00009-eb7e663f-d5ce-4621-983f-faf679d54eff",
    "deepnote_cell_type": "code",
    "deepnote_to_be_reexecuted": false,
    "execution_millis": 16,
    "execution_start": 1614206848811,
    "source_hash": "240c4729"
   },
   "outputs": [
    {
     "data": {
      "text/html": [
       "<table class=\"simpletable\">\n",
       "<caption>OLS Regression Results</caption>\n",
       "<tr>\n",
       "  <th>Dep. Variable:</th>            <td>y</td>        <th>  R-squared:         </th> <td>   0.283</td>\n",
       "</tr>\n",
       "<tr>\n",
       "  <th>Model:</th>                   <td>OLS</td>       <th>  Adj. R-squared:    </th> <td>   0.283</td>\n",
       "</tr>\n",
       "<tr>\n",
       "  <th>Method:</th>             <td>Least Squares</td>  <th>  F-statistic:       </th> <td>   394.7</td>\n",
       "</tr>\n",
       "<tr>\n",
       "  <th>Date:</th>             <td>Sat, 06 Mar 2021</td> <th>  Prob (F-statistic):</th> <td>2.88e-74</td>\n",
       "</tr>\n",
       "<tr>\n",
       "  <th>Time:</th>                 <td>17:10:14</td>     <th>  Log-Likelihood:    </th> <td> -3541.6</td>\n",
       "</tr>\n",
       "<tr>\n",
       "  <th>No. Observations:</th>      <td>  1000</td>      <th>  AIC:               </th> <td>   7087.</td>\n",
       "</tr>\n",
       "<tr>\n",
       "  <th>Df Residuals:</th>          <td>   998</td>      <th>  BIC:               </th> <td>   7097.</td>\n",
       "</tr>\n",
       "<tr>\n",
       "  <th>Df Model:</th>              <td>     1</td>      <th>                     </th>     <td> </td>   \n",
       "</tr>\n",
       "<tr>\n",
       "  <th>Covariance Type:</th>      <td>nonrobust</td>    <th>                     </th>     <td> </td>   \n",
       "</tr>\n",
       "</table>\n",
       "<table class=\"simpletable\">\n",
       "<tr>\n",
       "    <td></td>       <th>coef</th>     <th>std err</th>      <th>t</th>      <th>P>|t|</th>  <th>[0.025</th>    <th>0.975]</th>  \n",
       "</tr>\n",
       "<tr>\n",
       "  <th>const</th> <td>   -7.7675</td> <td>    0.264</td> <td>  -29.370</td> <td> 0.000</td> <td>   -8.287</td> <td>   -7.249</td>\n",
       "</tr>\n",
       "<tr>\n",
       "  <th>x1</th>    <td>   -5.2744</td> <td>    0.265</td> <td>  -19.867</td> <td> 0.000</td> <td>   -5.795</td> <td>   -4.753</td>\n",
       "</tr>\n",
       "</table>\n",
       "<table class=\"simpletable\">\n",
       "<tr>\n",
       "  <th>Omnibus:</th>       <td>493.785</td> <th>  Durbin-Watson:     </th> <td>   1.950</td>\n",
       "</tr>\n",
       "<tr>\n",
       "  <th>Prob(Omnibus):</th> <td> 0.000</td>  <th>  Jarque-Bera (JB):  </th> <td>4573.134</td>\n",
       "</tr>\n",
       "<tr>\n",
       "  <th>Skew:</th>          <td>-2.056</td>  <th>  Prob(JB):          </th> <td>    0.00</td>\n",
       "</tr>\n",
       "<tr>\n",
       "  <th>Kurtosis:</th>      <td>12.636</td>  <th>  Cond. No.          </th> <td>    1.02</td>\n",
       "</tr>\n",
       "</table><br/><br/>Warnings:<br/>[1] Standard Errors assume that the covariance matrix of the errors is correctly specified."
      ],
      "text/plain": [
       "<class 'statsmodels.iolib.summary.Summary'>\n",
       "\"\"\"\n",
       "                            OLS Regression Results                            \n",
       "==============================================================================\n",
       "Dep. Variable:                      y   R-squared:                       0.283\n",
       "Model:                            OLS   Adj. R-squared:                  0.283\n",
       "Method:                 Least Squares   F-statistic:                     394.7\n",
       "Date:                Sat, 06 Mar 2021   Prob (F-statistic):           2.88e-74\n",
       "Time:                        17:10:14   Log-Likelihood:                -3541.6\n",
       "No. Observations:                1000   AIC:                             7087.\n",
       "Df Residuals:                     998   BIC:                             7097.\n",
       "Df Model:                           1                                         \n",
       "Covariance Type:            nonrobust                                         \n",
       "==============================================================================\n",
       "                 coef    std err          t      P>|t|      [0.025      0.975]\n",
       "------------------------------------------------------------------------------\n",
       "const         -7.7675      0.264    -29.370      0.000      -8.287      -7.249\n",
       "x1            -5.2744      0.265    -19.867      0.000      -5.795      -4.753\n",
       "==============================================================================\n",
       "Omnibus:                      493.785   Durbin-Watson:                   1.950\n",
       "Prob(Omnibus):                  0.000   Jarque-Bera (JB):             4573.134\n",
       "Skew:                          -2.056   Prob(JB):                         0.00\n",
       "Kurtosis:                      12.636   Cond. No.                         1.02\n",
       "==============================================================================\n",
       "\n",
       "Warnings:\n",
       "[1] Standard Errors assume that the covariance matrix of the errors is correctly specified.\n",
       "\"\"\""
      ]
     },
     "execution_count": 4,
     "metadata": {},
     "output_type": "execute_result"
    }
   ],
   "source": [
    "X1_const = sm.add_constant(X1)\n",
    "model_1b_X1 = sm.OLS(y,X1_const)\n",
    "results_1b_X1 = model_1b_X1.fit()\n",
    "results_1b_X1.summary()"
   ]
  },
  {
   "cell_type": "markdown",
   "metadata": {
    "deletable": false,
    "editable": false
   },
   "source": [
    "<!-- END QUESTION -->"
   ]
  },
  {
   "cell_type": "code",
   "execution_count": 5,
   "metadata": {
    "cell_id": "00010-e9523a6c-7024-4c2b-bdd8-009951964710",
    "deepnote_cell_type": "code",
    "deepnote_to_be_reexecuted": false,
    "execution_millis": 13,
    "execution_start": 1614206850399,
    "source_hash": "3b354923",
    "tags": []
   },
   "outputs": [
    {
     "data": {
      "text/html": [
       "<table class=\"simpletable\">\n",
       "<caption>OLS Regression Results</caption>\n",
       "<tr>\n",
       "  <th>Dep. Variable:</th>            <td>y</td>        <th>  R-squared:         </th> <td>   0.677</td> \n",
       "</tr>\n",
       "<tr>\n",
       "  <th>Model:</th>                   <td>OLS</td>       <th>  Adj. R-squared:    </th> <td>   0.677</td> \n",
       "</tr>\n",
       "<tr>\n",
       "  <th>Method:</th>             <td>Least Squares</td>  <th>  F-statistic:       </th> <td>   2093.</td> \n",
       "</tr>\n",
       "<tr>\n",
       "  <th>Date:</th>             <td>Sat, 06 Mar 2021</td> <th>  Prob (F-statistic):</th> <td>2.92e-247</td>\n",
       "</tr>\n",
       "<tr>\n",
       "  <th>Time:</th>                 <td>17:11:53</td>     <th>  Log-Likelihood:    </th> <td> -3142.9</td> \n",
       "</tr>\n",
       "<tr>\n",
       "  <th>No. Observations:</th>      <td>  1000</td>      <th>  AIC:               </th> <td>   6290.</td> \n",
       "</tr>\n",
       "<tr>\n",
       "  <th>Df Residuals:</th>          <td>   998</td>      <th>  BIC:               </th> <td>   6300.</td> \n",
       "</tr>\n",
       "<tr>\n",
       "  <th>Df Model:</th>              <td>     1</td>      <th>                     </th>     <td> </td>    \n",
       "</tr>\n",
       "<tr>\n",
       "  <th>Covariance Type:</th>      <td>nonrobust</td>    <th>                     </th>     <td> </td>    \n",
       "</tr>\n",
       "</table>\n",
       "<table class=\"simpletable\">\n",
       "<tr>\n",
       "    <td></td>       <th>coef</th>     <th>std err</th>      <th>t</th>      <th>P>|t|</th>  <th>[0.025</th>    <th>0.975]</th>  \n",
       "</tr>\n",
       "<tr>\n",
       "  <th>const</th> <td>   -0.7883</td> <td>    0.233</td> <td>   -3.388</td> <td> 0.001</td> <td>   -1.245</td> <td>   -0.332</td>\n",
       "</tr>\n",
       "<tr>\n",
       "  <th>x1</th>    <td>   -4.3046</td> <td>    0.094</td> <td>  -45.754</td> <td> 0.000</td> <td>   -4.489</td> <td>   -4.120</td>\n",
       "</tr>\n",
       "</table>\n",
       "<table class=\"simpletable\">\n",
       "<tr>\n",
       "  <th>Omnibus:</th>       <td> 6.945</td> <th>  Durbin-Watson:     </th> <td>   2.003</td>\n",
       "</tr>\n",
       "<tr>\n",
       "  <th>Prob(Omnibus):</th> <td> 0.031</td> <th>  Jarque-Bera (JB):  </th> <td>   6.838</td>\n",
       "</tr>\n",
       "<tr>\n",
       "  <th>Skew:</th>          <td>-0.194</td> <th>  Prob(JB):          </th> <td>  0.0327</td>\n",
       "</tr>\n",
       "<tr>\n",
       "  <th>Kurtosis:</th>      <td> 3.115</td> <th>  Cond. No.          </th> <td>    3.49</td>\n",
       "</tr>\n",
       "</table><br/><br/>Warnings:<br/>[1] Standard Errors assume that the covariance matrix of the errors is correctly specified."
      ],
      "text/plain": [
       "<class 'statsmodels.iolib.summary.Summary'>\n",
       "\"\"\"\n",
       "                            OLS Regression Results                            \n",
       "==============================================================================\n",
       "Dep. Variable:                      y   R-squared:                       0.677\n",
       "Model:                            OLS   Adj. R-squared:                  0.677\n",
       "Method:                 Least Squares   F-statistic:                     2093.\n",
       "Date:                Sat, 06 Mar 2021   Prob (F-statistic):          2.92e-247\n",
       "Time:                        17:11:53   Log-Likelihood:                -3142.9\n",
       "No. Observations:                1000   AIC:                             6290.\n",
       "Df Residuals:                     998   BIC:                             6300.\n",
       "Df Model:                           1                                         \n",
       "Covariance Type:            nonrobust                                         \n",
       "==============================================================================\n",
       "                 coef    std err          t      P>|t|      [0.025      0.975]\n",
       "------------------------------------------------------------------------------\n",
       "const         -0.7883      0.233     -3.388      0.001      -1.245      -0.332\n",
       "x1            -4.3046      0.094    -45.754      0.000      -4.489      -4.120\n",
       "==============================================================================\n",
       "Omnibus:                        6.945   Durbin-Watson:                   2.003\n",
       "Prob(Omnibus):                  0.031   Jarque-Bera (JB):                6.838\n",
       "Skew:                          -0.194   Prob(JB):                       0.0327\n",
       "Kurtosis:                       3.115   Cond. No.                         3.49\n",
       "==============================================================================\n",
       "\n",
       "Warnings:\n",
       "[1] Standard Errors assume that the covariance matrix of the errors is correctly specified.\n",
       "\"\"\""
      ]
     },
     "execution_count": 5,
     "metadata": {},
     "output_type": "execute_result"
    }
   ],
   "source": [
    "X2_const = sm.add_constant(X2)\n",
    "model_1b_X2 = sm.OLS(y,X2_const)\n",
    "results_1b_X2 = model_1b_X2.fit()\n",
    "results_1b_X2.summary()"
   ]
  },
  {
   "cell_type": "markdown",
   "metadata": {
    "cell_id": "00010-d4827cbc-78e7-4bab-b16d-ca792990dd0b",
    "deepnote_cell_type": "markdown",
    "deletable": false,
    "editable": false
   },
   "source": [
    "<!-- BEGIN QUESTION -->\n",
    "\n",
    "**Question 1.c.**\n",
    "Explain.\n",
    "\n",
    "<!--\n",
    "BEGIN QUESTION\n",
    "name: q1_c\n",
    "manual: true\n",
    "-->"
   ]
  },
  {
   "cell_type": "markdown",
   "metadata": {},
   "source": [
    "_Type your answer here, replacing this text._"
   ]
  },
  {
   "cell_type": "markdown",
   "metadata": {
    "cell_id": "00014-cbcd1bf1-5f23-46d7-acf9-780eb9d38cc4",
    "deepnote_cell_type": "markdown",
    "deletable": false,
    "editable": false
   },
   "source": [
    "<!-- END QUESTION -->\n",
    "\n",
    "<!-- BEGIN QUESTION -->\n",
    "\n",
    "**Question 1.d.**\n",
    "Next, regress $y$ on both $X_1$ and $X_2$. Compare the estimation results with those you did in part (b/c), especially the model with only the regressor $X_1$. Examine differences across the three regressions in terms of the coefficient estimates, their standard errors, the $R^2$, and the adjusted $R^2$.\n",
    "\n",
    "This question is for your code, the next is for your explanation.\n",
    "\n",
    "<!--\n",
    "BEGIN QUESTION\n",
    "name: q1_d\n",
    "manual: true\n",
    "-->"
   ]
  },
  {
   "cell_type": "code",
   "execution_count": 6,
   "metadata": {
    "cell_id": "00015-d596f7eb-1715-4d20-81d9-7e366b1ad641",
    "deepnote_cell_type": "code",
    "deepnote_to_be_reexecuted": false,
    "execution_millis": 27,
    "execution_start": 1614207107211,
    "source_hash": "daed3fa4",
    "tags": []
   },
   "outputs": [
    {
     "data": {
      "text/html": [
       "<table class=\"simpletable\">\n",
       "<caption>OLS Regression Results</caption>\n",
       "<tr>\n",
       "  <th>Dep. Variable:</th>            <td>y</td>        <th>  R-squared:         </th> <td>   0.735</td> \n",
       "</tr>\n",
       "<tr>\n",
       "  <th>Model:</th>                   <td>OLS</td>       <th>  Adj. R-squared:    </th> <td>   0.735</td> \n",
       "</tr>\n",
       "<tr>\n",
       "  <th>Method:</th>             <td>Least Squares</td>  <th>  F-statistic:       </th> <td>   1385.</td> \n",
       "</tr>\n",
       "<tr>\n",
       "  <th>Date:</th>             <td>Sat, 06 Mar 2021</td> <th>  Prob (F-statistic):</th> <td>1.58e-288</td>\n",
       "</tr>\n",
       "<tr>\n",
       "  <th>Time:</th>                 <td>17:12:56</td>     <th>  Log-Likelihood:    </th> <td> -3043.6</td> \n",
       "</tr>\n",
       "<tr>\n",
       "  <th>No. Observations:</th>      <td>  1000</td>      <th>  AIC:               </th> <td>   6093.</td> \n",
       "</tr>\n",
       "<tr>\n",
       "  <th>Df Residuals:</th>          <td>   997</td>      <th>  BIC:               </th> <td>   6108.</td> \n",
       "</tr>\n",
       "<tr>\n",
       "  <th>Df Model:</th>              <td>     2</td>      <th>                     </th>     <td> </td>    \n",
       "</tr>\n",
       "<tr>\n",
       "  <th>Covariance Type:</th>      <td>nonrobust</td>    <th>                     </th>     <td> </td>    \n",
       "</tr>\n",
       "</table>\n",
       "<table class=\"simpletable\">\n",
       "<tr>\n",
       "    <td></td>       <th>coef</th>     <th>std err</th>      <th>t</th>      <th>P>|t|</th>  <th>[0.025</th>    <th>0.975]</th>  \n",
       "</tr>\n",
       "<tr>\n",
       "  <th>const</th> <td>    2.1377</td> <td>    0.289</td> <td>    7.399</td> <td> 0.000</td> <td>    1.571</td> <td>    2.705</td>\n",
       "</tr>\n",
       "<tr>\n",
       "  <th>x1</th>    <td>    4.1370</td> <td>    0.279</td> <td>   14.805</td> <td> 0.000</td> <td>    3.589</td> <td>    4.685</td>\n",
       "</tr>\n",
       "<tr>\n",
       "  <th>x2</th>    <td>   -6.0874</td> <td>    0.148</td> <td>  -41.263</td> <td> 0.000</td> <td>   -6.377</td> <td>   -5.798</td>\n",
       "</tr>\n",
       "</table>\n",
       "<table class=\"simpletable\">\n",
       "<tr>\n",
       "  <th>Omnibus:</th>       <td> 4.230</td> <th>  Durbin-Watson:     </th> <td>   2.010</td>\n",
       "</tr>\n",
       "<tr>\n",
       "  <th>Prob(Omnibus):</th> <td> 0.121</td> <th>  Jarque-Bera (JB):  </th> <td>   4.088</td>\n",
       "</tr>\n",
       "<tr>\n",
       "  <th>Skew:</th>          <td>-0.147</td> <th>  Prob(JB):          </th> <td>   0.130</td>\n",
       "</tr>\n",
       "<tr>\n",
       "  <th>Kurtosis:</th>      <td> 3.105</td> <th>  Cond. No.          </th> <td>    6.43</td>\n",
       "</tr>\n",
       "</table><br/><br/>Warnings:<br/>[1] Standard Errors assume that the covariance matrix of the errors is correctly specified."
      ],
      "text/plain": [
       "<class 'statsmodels.iolib.summary.Summary'>\n",
       "\"\"\"\n",
       "                            OLS Regression Results                            \n",
       "==============================================================================\n",
       "Dep. Variable:                      y   R-squared:                       0.735\n",
       "Model:                            OLS   Adj. R-squared:                  0.735\n",
       "Method:                 Least Squares   F-statistic:                     1385.\n",
       "Date:                Sat, 06 Mar 2021   Prob (F-statistic):          1.58e-288\n",
       "Time:                        17:12:56   Log-Likelihood:                -3043.6\n",
       "No. Observations:                1000   AIC:                             6093.\n",
       "Df Residuals:                     997   BIC:                             6108.\n",
       "Df Model:                           2                                         \n",
       "Covariance Type:            nonrobust                                         \n",
       "==============================================================================\n",
       "                 coef    std err          t      P>|t|      [0.025      0.975]\n",
       "------------------------------------------------------------------------------\n",
       "const          2.1377      0.289      7.399      0.000       1.571       2.705\n",
       "x1             4.1370      0.279     14.805      0.000       3.589       4.685\n",
       "x2            -6.0874      0.148    -41.263      0.000      -6.377      -5.798\n",
       "==============================================================================\n",
       "Omnibus:                        4.230   Durbin-Watson:                   2.010\n",
       "Prob(Omnibus):                  0.121   Jarque-Bera (JB):                4.088\n",
       "Skew:                          -0.147   Prob(JB):                        0.130\n",
       "Kurtosis:                       3.105   Cond. No.                         6.43\n",
       "==============================================================================\n",
       "\n",
       "Warnings:\n",
       "[1] Standard Errors assume that the covariance matrix of the errors is correctly specified.\n",
       "\"\"\""
      ]
     },
     "execution_count": 6,
     "metadata": {},
     "output_type": "execute_result"
    }
   ],
   "source": [
    "X_const = sm.add_constant(np.stack([X1, X2], axis=1)) # This just puts our two variables together with a const\n",
    "model_1d = sm.OLS(y,X_const)\n",
    "results_1d = model_1d.fit()\n",
    "results_1d.summary()"
   ]
  },
  {
   "cell_type": "markdown",
   "metadata": {
    "cell_id": "00016-19e95021-cf8e-4062-ab1f-1ac196160a34",
    "deepnote_cell_type": "markdown",
    "deletable": false,
    "editable": false,
    "tags": []
   },
   "source": [
    "<!-- END QUESTION -->\n",
    "\n",
    "<!-- BEGIN QUESTION -->\n",
    "\n",
    "**Question 1.e.**\n",
    "Explain.\n",
    "\n",
    "<!--\n",
    "BEGIN QUESTION\n",
    "name: q1_e\n",
    "manual: true\n",
    "-->"
   ]
  },
  {
   "cell_type": "markdown",
   "metadata": {},
   "source": [
    "_Type your answer here, replacing this text._"
   ]
  },
  {
   "cell_type": "markdown",
   "metadata": {
    "cell_id": "00016-1518c1c4-cb04-428e-9b3e-0ce469a0501f",
    "deepnote_cell_type": "markdown",
    "deletable": false,
    "editable": false
   },
   "source": [
    "<!-- END QUESTION -->\n",
    "\n",
    "<!-- BEGIN QUESTION -->\n",
    "\n",
    "**Question 1.f.**\n",
    "Generate a third regressor: $X_{3i} = 1 + X_{1i} − X_{2i} + v_i$ where $v_i$ is drawn from a normal distribution with mean 0 and standard deviation 0.5. Estimate the model $y_i = \\beta_0 + \\beta_1X_{1i} + \\beta_2X_{2i} + \\beta_3X_{3i} + w_i$. Compare the result with part (d/e). Do changes in OLS estimates, standard errors, the $R^2$, and the adjusted $R_2$ make sense to you? Explain why or why not.\n",
    "\n",
    "*Hint: Think about the concept of “imperfect multicollinearity\".*\n",
    "\n",
    "This question is for your code, the next is for your explanation.\n",
    "\n",
    "<!--\n",
    "BEGIN QUESTION\n",
    "name: q1_f\n",
    "manual: true\n",
    "-->"
   ]
  },
  {
   "cell_type": "code",
   "execution_count": 8,
   "metadata": {
    "cell_id": "00017-ac333129-9807-42ce-945a-750af65ea761",
    "deepnote_cell_type": "code",
    "deepnote_to_be_reexecuted": false,
    "execution_millis": 13,
    "execution_start": 1614207665251,
    "source_hash": "38a28725"
   },
   "outputs": [
    {
     "data": {
      "text/html": [
       "<table class=\"simpletable\">\n",
       "<caption>OLS Regression Results</caption>\n",
       "<tr>\n",
       "  <th>Dep. Variable:</th>            <td>y</td>        <th>  R-squared:         </th> <td>   0.736</td> \n",
       "</tr>\n",
       "<tr>\n",
       "  <th>Model:</th>                   <td>OLS</td>       <th>  Adj. R-squared:    </th> <td>   0.735</td> \n",
       "</tr>\n",
       "<tr>\n",
       "  <th>Method:</th>             <td>Least Squares</td>  <th>  F-statistic:       </th> <td>   924.7</td> \n",
       "</tr>\n",
       "<tr>\n",
       "  <th>Date:</th>             <td>Sat, 06 Mar 2021</td> <th>  Prob (F-statistic):</th> <td>2.83e-287</td>\n",
       "</tr>\n",
       "<tr>\n",
       "  <th>Time:</th>                 <td>17:15:43</td>     <th>  Log-Likelihood:    </th> <td> -3042.7</td> \n",
       "</tr>\n",
       "<tr>\n",
       "  <th>No. Observations:</th>      <td>  1000</td>      <th>  AIC:               </th> <td>   6093.</td> \n",
       "</tr>\n",
       "<tr>\n",
       "  <th>Df Residuals:</th>          <td>   996</td>      <th>  BIC:               </th> <td>   6113.</td> \n",
       "</tr>\n",
       "<tr>\n",
       "  <th>Df Model:</th>              <td>     3</td>      <th>                     </th>     <td> </td>    \n",
       "</tr>\n",
       "<tr>\n",
       "  <th>Covariance Type:</th>      <td>nonrobust</td>    <th>                     </th>     <td> </td>    \n",
       "</tr>\n",
       "</table>\n",
       "<table class=\"simpletable\">\n",
       "<tr>\n",
       "    <td></td>       <th>coef</th>     <th>std err</th>      <th>t</th>      <th>P>|t|</th>  <th>[0.025</th>    <th>0.975]</th>  \n",
       "</tr>\n",
       "<tr>\n",
       "  <th>const</th> <td>    2.5354</td> <td>    0.420</td> <td>    6.043</td> <td> 0.000</td> <td>    1.712</td> <td>    3.359</td>\n",
       "</tr>\n",
       "<tr>\n",
       "  <th>x1</th>    <td>    4.5511</td> <td>    0.422</td> <td>   10.775</td> <td> 0.000</td> <td>    3.722</td> <td>    5.380</td>\n",
       "</tr>\n",
       "<tr>\n",
       "  <th>x2</th>    <td>   -6.4950</td> <td>    0.345</td> <td>  -18.825</td> <td> 0.000</td> <td>   -7.172</td> <td>   -5.818</td>\n",
       "</tr>\n",
       "<tr>\n",
       "  <th>x3</th>    <td>   -0.4047</td> <td>    0.310</td> <td>   -1.307</td> <td> 0.192</td> <td>   -1.012</td> <td>    0.203</td>\n",
       "</tr>\n",
       "</table>\n",
       "<table class=\"simpletable\">\n",
       "<tr>\n",
       "  <th>Omnibus:</th>       <td> 3.820</td> <th>  Durbin-Watson:     </th> <td>   2.013</td>\n",
       "</tr>\n",
       "<tr>\n",
       "  <th>Prob(Omnibus):</th> <td> 0.148</td> <th>  Jarque-Bera (JB):  </th> <td>   3.674</td>\n",
       "</tr>\n",
       "<tr>\n",
       "  <th>Skew:</th>          <td>-0.136</td> <th>  Prob(JB):          </th> <td>   0.159</td>\n",
       "</tr>\n",
       "<tr>\n",
       "  <th>Kurtosis:</th>      <td> 3.118</td> <th>  Cond. No.          </th> <td>    12.9</td>\n",
       "</tr>\n",
       "</table><br/><br/>Warnings:<br/>[1] Standard Errors assume that the covariance matrix of the errors is correctly specified."
      ],
      "text/plain": [
       "<class 'statsmodels.iolib.summary.Summary'>\n",
       "\"\"\"\n",
       "                            OLS Regression Results                            \n",
       "==============================================================================\n",
       "Dep. Variable:                      y   R-squared:                       0.736\n",
       "Model:                            OLS   Adj. R-squared:                  0.735\n",
       "Method:                 Least Squares   F-statistic:                     924.7\n",
       "Date:                Sat, 06 Mar 2021   Prob (F-statistic):          2.83e-287\n",
       "Time:                        17:15:43   Log-Likelihood:                -3042.7\n",
       "No. Observations:                1000   AIC:                             6093.\n",
       "Df Residuals:                     996   BIC:                             6113.\n",
       "Df Model:                           3                                         \n",
       "Covariance Type:            nonrobust                                         \n",
       "==============================================================================\n",
       "                 coef    std err          t      P>|t|      [0.025      0.975]\n",
       "------------------------------------------------------------------------------\n",
       "const          2.5354      0.420      6.043      0.000       1.712       3.359\n",
       "x1             4.5511      0.422     10.775      0.000       3.722       5.380\n",
       "x2            -6.4950      0.345    -18.825      0.000      -7.172      -5.818\n",
       "x3            -0.4047      0.310     -1.307      0.192      -1.012       0.203\n",
       "==============================================================================\n",
       "Omnibus:                        3.820   Durbin-Watson:                   2.013\n",
       "Prob(Omnibus):                  0.148   Jarque-Bera (JB):                3.674\n",
       "Skew:                          -0.136   Prob(JB):                        0.159\n",
       "Kurtosis:                       3.118   Cond. No.                         12.9\n",
       "==============================================================================\n",
       "\n",
       "Warnings:\n",
       "[1] Standard Errors assume that the covariance matrix of the errors is correctly specified.\n",
       "\"\"\""
      ]
     },
     "execution_count": 8,
     "metadata": {},
     "output_type": "execute_result"
    }
   ],
   "source": [
    "v = np.random.normal(0,0.5,1000)\n",
    "X3 = 1+X1-X2+v\n",
    "\n",
    "X_const_f = sm.add_constant(np.stack([X1, X2, X3], axis=1))\n",
    "model_1f = sm.OLS(y,X_const_f)\n",
    "results_1f = model_1f.fit()\n",
    "results_1f.summary()"
   ]
  },
  {
   "cell_type": "markdown",
   "metadata": {
    "cell_id": "00017-283403b6-a167-44c9-8a1c-f9220491ead0",
    "deepnote_cell_type": "markdown",
    "deletable": false,
    "editable": false,
    "tags": []
   },
   "source": [
    "<!-- END QUESTION -->\n",
    "\n",
    "<!-- BEGIN QUESTION -->\n",
    "\n",
    "**Question 1.g.**\n",
    "Explain.\n",
    "\n",
    "<!--\n",
    "BEGIN QUESTION\n",
    "name: q1_g\n",
    "manual: true\n",
    "-->"
   ]
  },
  {
   "cell_type": "markdown",
   "metadata": {},
   "source": [
    "_Type your answer here, replacing this text._"
   ]
  },
  {
   "cell_type": "markdown",
   "metadata": {
    "cell_id": "00022-135420ef-61de-4116-bde9-c547bf9ddf2a",
    "deepnote_cell_type": "markdown"
   },
   "source": [
    "<!-- END QUESTION -->\n",
    "\n",
    "\n",
    "\n",
    "---"
   ]
  },
  {
   "cell_type": "markdown",
   "metadata": {
    "cell_id": "00023-f096d1da-fc6d-47b9-aafa-58843bf94515",
    "deepnote_cell_type": "markdown"
   },
   "source": [
    "## Problem 2. Teaching Ratings\n",
    "\n",
    "We will use `teaching_ratings.csv` which contains data on course evaluations, course characteristics, and professor characteristics for 463 courses at the University of Texas at Austin. One of the characteristics is an index of the professor’s “beauty” as rated by a panel of six judges. The variable `course_eval` is an overall teaching evaluation score, on a scale of 1 (very unsatisfactory) to 5 (excellent). In this exercise, you will investigate how course evaluations are related to the professor’s beauty."
   ]
  },
  {
   "cell_type": "code",
   "execution_count": 9,
   "metadata": {
    "cell_id": "00024-0a702a6c-752a-42cd-bbaf-55bbe7826bda",
    "deepnote_cell_type": "code",
    "deepnote_to_be_reexecuted": false,
    "execution_millis": 54,
    "execution_start": 1614206124441,
    "source_hash": "5dde41c8"
   },
   "outputs": [
    {
     "data": {
      "text/html": [
       "<div>\n",
       "<style scoped>\n",
       "    .dataframe tbody tr th:only-of-type {\n",
       "        vertical-align: middle;\n",
       "    }\n",
       "\n",
       "    .dataframe tbody tr th {\n",
       "        vertical-align: top;\n",
       "    }\n",
       "\n",
       "    .dataframe thead th {\n",
       "        text-align: right;\n",
       "    }\n",
       "</style>\n",
       "<table border=\"1\" class=\"dataframe\">\n",
       "  <thead>\n",
       "    <tr style=\"text-align: right;\">\n",
       "      <th></th>\n",
       "      <th>minority</th>\n",
       "      <th>age</th>\n",
       "      <th>female</th>\n",
       "      <th>onecredit</th>\n",
       "      <th>beauty</th>\n",
       "      <th>course_eval</th>\n",
       "      <th>intro</th>\n",
       "      <th>nnenglish</th>\n",
       "    </tr>\n",
       "  </thead>\n",
       "  <tbody>\n",
       "    <tr>\n",
       "      <th>0</th>\n",
       "      <td>1.0</td>\n",
       "      <td>36.0</td>\n",
       "      <td>1.0</td>\n",
       "      <td>0</td>\n",
       "      <td>0.289916</td>\n",
       "      <td>4.3</td>\n",
       "      <td>0.0</td>\n",
       "      <td>0.0</td>\n",
       "    </tr>\n",
       "    <tr>\n",
       "      <th>1</th>\n",
       "      <td>0.0</td>\n",
       "      <td>59.0</td>\n",
       "      <td>0.0</td>\n",
       "      <td>0</td>\n",
       "      <td>-0.737732</td>\n",
       "      <td>4.5</td>\n",
       "      <td>0.0</td>\n",
       "      <td>0.0</td>\n",
       "    </tr>\n",
       "    <tr>\n",
       "      <th>2</th>\n",
       "      <td>0.0</td>\n",
       "      <td>51.0</td>\n",
       "      <td>0.0</td>\n",
       "      <td>0</td>\n",
       "      <td>-0.571984</td>\n",
       "      <td>3.7</td>\n",
       "      <td>0.0</td>\n",
       "      <td>0.0</td>\n",
       "    </tr>\n",
       "    <tr>\n",
       "      <th>3</th>\n",
       "      <td>0.0</td>\n",
       "      <td>40.0</td>\n",
       "      <td>1.0</td>\n",
       "      <td>0</td>\n",
       "      <td>-0.677963</td>\n",
       "      <td>4.3</td>\n",
       "      <td>0.0</td>\n",
       "      <td>0.0</td>\n",
       "    </tr>\n",
       "    <tr>\n",
       "      <th>4</th>\n",
       "      <td>0.0</td>\n",
       "      <td>31.0</td>\n",
       "      <td>1.0</td>\n",
       "      <td>0</td>\n",
       "      <td>1.509794</td>\n",
       "      <td>4.4</td>\n",
       "      <td>0.0</td>\n",
       "      <td>0.0</td>\n",
       "    </tr>\n",
       "  </tbody>\n",
       "</table>\n",
       "</div>"
      ],
      "text/plain": [
       "   minority   age  female  onecredit    beauty  course_eval  intro  nnenglish\n",
       "0       1.0  36.0     1.0          0  0.289916          4.3    0.0        0.0\n",
       "1       0.0  59.0     0.0          0 -0.737732          4.5    0.0        0.0\n",
       "2       0.0  51.0     0.0          0 -0.571984          3.7    0.0        0.0\n",
       "3       0.0  40.0     1.0          0 -0.677963          4.3    0.0        0.0\n",
       "4       0.0  31.0     1.0          0  1.509794          4.4    0.0        0.0"
      ]
     },
     "execution_count": 9,
     "metadata": {},
     "output_type": "execute_result"
    }
   ],
   "source": [
    "ratings = pd.read_csv(\"teaching_ratings.csv\")\n",
    "ratings.head()"
   ]
  },
  {
   "cell_type": "markdown",
   "metadata": {
    "cell_id": "00025-dffa01c8-658c-4dfe-8e30-d24a06e5954d",
    "deepnote_cell_type": "markdown",
    "deletable": false,
    "editable": false
   },
   "source": [
    "<!-- BEGIN QUESTION -->\n",
    "\n",
    "**Question 2.a.**\n",
    "Run a regression of `course_eval` on `beauty` using robust standard errors. What is the estimated slope? Is it statistically significant?\n",
    "\n",
    "This question is for your code, the next is for your explanation.\n",
    "\n",
    "<!--\n",
    "BEGIN QUESTION\n",
    "name: q2_a\n",
    "manual: true\n",
    "-->"
   ]
  },
  {
   "cell_type": "code",
   "execution_count": 11,
   "metadata": {
    "cell_id": "00026-62c954b2-26cc-408f-be69-97f120054c1a",
    "deepnote_cell_type": "code",
    "deepnote_to_be_reexecuted": false,
    "execution_millis": 50,
    "execution_start": 1614206265068,
    "source_hash": "2e46acea",
    "tags": []
   },
   "outputs": [
    {
     "data": {
      "text/html": [
       "<table class=\"simpletable\">\n",
       "<caption>OLS Regression Results</caption>\n",
       "<tr>\n",
       "  <th>Dep. Variable:</th>       <td>course_eval</td>   <th>  R-squared:         </th> <td>   0.036</td>\n",
       "</tr>\n",
       "<tr>\n",
       "  <th>Model:</th>                   <td>OLS</td>       <th>  Adj. R-squared:    </th> <td>   0.034</td>\n",
       "</tr>\n",
       "<tr>\n",
       "  <th>Method:</th>             <td>Least Squares</td>  <th>  F-statistic:       </th> <td>   16.94</td>\n",
       "</tr>\n",
       "<tr>\n",
       "  <th>Date:</th>             <td>Sat, 06 Mar 2021</td> <th>  Prob (F-statistic):</th> <td>4.58e-05</td>\n",
       "</tr>\n",
       "<tr>\n",
       "  <th>Time:</th>                 <td>17:26:17</td>     <th>  Log-Likelihood:    </th> <td> -375.32</td>\n",
       "</tr>\n",
       "<tr>\n",
       "  <th>No. Observations:</th>      <td>   463</td>      <th>  AIC:               </th> <td>   754.6</td>\n",
       "</tr>\n",
       "<tr>\n",
       "  <th>Df Residuals:</th>          <td>   461</td>      <th>  BIC:               </th> <td>   762.9</td>\n",
       "</tr>\n",
       "<tr>\n",
       "  <th>Df Model:</th>              <td>     1</td>      <th>                     </th>     <td> </td>   \n",
       "</tr>\n",
       "<tr>\n",
       "  <th>Covariance Type:</th>         <td>HC1</td>       <th>                     </th>     <td> </td>   \n",
       "</tr>\n",
       "</table>\n",
       "<table class=\"simpletable\">\n",
       "<tr>\n",
       "     <td></td>       <th>coef</th>     <th>std err</th>      <th>z</th>      <th>P>|z|</th>  <th>[0.025</th>    <th>0.975]</th>  \n",
       "</tr>\n",
       "<tr>\n",
       "  <th>const</th>  <td>    3.9983</td> <td>    0.025</td> <td>  157.727</td> <td> 0.000</td> <td>    3.949</td> <td>    4.048</td>\n",
       "</tr>\n",
       "<tr>\n",
       "  <th>beauty</th> <td>    0.1330</td> <td>    0.032</td> <td>    4.115</td> <td> 0.000</td> <td>    0.070</td> <td>    0.196</td>\n",
       "</tr>\n",
       "</table>\n",
       "<table class=\"simpletable\">\n",
       "<tr>\n",
       "  <th>Omnibus:</th>       <td>15.399</td> <th>  Durbin-Watson:     </th> <td>   1.410</td>\n",
       "</tr>\n",
       "<tr>\n",
       "  <th>Prob(Omnibus):</th> <td> 0.000</td> <th>  Jarque-Bera (JB):  </th> <td>  16.405</td>\n",
       "</tr>\n",
       "<tr>\n",
       "  <th>Skew:</th>          <td>-0.453</td> <th>  Prob(JB):          </th> <td>0.000274</td>\n",
       "</tr>\n",
       "<tr>\n",
       "  <th>Kurtosis:</th>      <td> 2.831</td> <th>  Cond. No.          </th> <td>    1.27</td>\n",
       "</tr>\n",
       "</table><br/><br/>Warnings:<br/>[1] Standard Errors are heteroscedasticity robust (HC1)"
      ],
      "text/plain": [
       "<class 'statsmodels.iolib.summary.Summary'>\n",
       "\"\"\"\n",
       "                            OLS Regression Results                            \n",
       "==============================================================================\n",
       "Dep. Variable:            course_eval   R-squared:                       0.036\n",
       "Model:                            OLS   Adj. R-squared:                  0.034\n",
       "Method:                 Least Squares   F-statistic:                     16.94\n",
       "Date:                Sat, 06 Mar 2021   Prob (F-statistic):           4.58e-05\n",
       "Time:                        17:26:17   Log-Likelihood:                -375.32\n",
       "No. Observations:                 463   AIC:                             754.6\n",
       "Df Residuals:                     461   BIC:                             762.9\n",
       "Df Model:                           1                                         \n",
       "Covariance Type:                  HC1                                         \n",
       "==============================================================================\n",
       "                 coef    std err          z      P>|z|      [0.025      0.975]\n",
       "------------------------------------------------------------------------------\n",
       "const          3.9983      0.025    157.727      0.000       3.949       4.048\n",
       "beauty         0.1330      0.032      4.115      0.000       0.070       0.196\n",
       "==============================================================================\n",
       "Omnibus:                       15.399   Durbin-Watson:                   1.410\n",
       "Prob(Omnibus):                  0.000   Jarque-Bera (JB):               16.405\n",
       "Skew:                          -0.453   Prob(JB):                     0.000274\n",
       "Kurtosis:                       2.831   Cond. No.                         1.27\n",
       "==============================================================================\n",
       "\n",
       "Warnings:\n",
       "[1] Standard Errors are heteroscedasticity robust (HC1)\n",
       "\"\"\""
      ]
     },
     "execution_count": 11,
     "metadata": {},
     "output_type": "execute_result"
    }
   ],
   "source": [
    "y_2a = ratings['course_eval']\n",
    "X_2a = sm.add_constant(ratings['beauty'])\n",
    "model_2a = sm.OLS(y_2a,X_2a)\n",
    "results_2a = model_2a.fit(cov_type='HC1')\n",
    "results_2a.summary()"
   ]
  },
  {
   "cell_type": "markdown",
   "metadata": {
    "cell_id": "00027-9d8b6c77-36c1-4d00-af6b-6ebe0dae8c67",
    "deepnote_cell_type": "markdown",
    "deletable": false,
    "editable": false
   },
   "source": [
    "<!-- END QUESTION -->\n",
    "\n",
    "<!-- BEGIN QUESTION -->\n",
    "\n",
    "**Question 2.b.**\n",
    "Explain.\n",
    "\n",
    "<!--\n",
    "BEGIN QUESTION\n",
    "name: q2_b\n",
    "manual: true\n",
    "-->"
   ]
  },
  {
   "cell_type": "markdown",
   "metadata": {},
   "source": [
    "_Type your answer here, replacing this text._"
   ]
  },
  {
   "cell_type": "markdown",
   "metadata": {
    "cell_id": "00029-bf9194ea-1669-42b7-bee7-2863575c2a43",
    "deepnote_cell_type": "markdown",
    "deletable": false,
    "editable": false
   },
   "source": [
    "<!-- END QUESTION -->\n",
    "\n",
    "<!-- BEGIN QUESTION -->\n",
    "\n",
    "**Question 2.c.**\n",
    "Run a regression of `course_eval` on `beauty`, including some additional variables to control for the type of course and professor characteristics. In particular, include as additional regressors `intro`, `onecredit`, `female`, `minority`, and `nnenglish`. What is the estimated effect of `beauty` on `course_eval`? Does the regression in (a) suffer from important omitted variable bias (OVB)? What happens with the $R^2$? Based on\n",
    "the confidence interval from the regression, can you reject the null hypothesis that the effect of beauty is the same as in part (a)? What can you say about the effect of the new variables included?\n",
    "\n",
    "This question is for your code, the next is for your explanation.\n",
    "\n",
    "<!--\n",
    "BEGIN QUESTION\n",
    "name: q2_c\n",
    "manual: true\n",
    "-->"
   ]
  },
  {
   "cell_type": "code",
   "execution_count": 12,
   "metadata": {
    "cell_id": "00030-e4943cf4-4586-4aec-8989-d94e4675aa3a",
    "deepnote_cell_type": "code",
    "deepnote_to_be_reexecuted": false,
    "execution_millis": 25,
    "execution_start": 1614206341459,
    "source_hash": "f50839b"
   },
   "outputs": [
    {
     "data": {
      "text/html": [
       "<table class=\"simpletable\">\n",
       "<caption>OLS Regression Results</caption>\n",
       "<tr>\n",
       "  <th>Dep. Variable:</th>       <td>course_eval</td>   <th>  R-squared:         </th> <td>   0.155</td>\n",
       "</tr>\n",
       "<tr>\n",
       "  <th>Model:</th>                   <td>OLS</td>       <th>  Adj. R-squared:    </th> <td>   0.144</td>\n",
       "</tr>\n",
       "<tr>\n",
       "  <th>Method:</th>             <td>Least Squares</td>  <th>  F-statistic:       </th> <td>   17.03</td>\n",
       "</tr>\n",
       "<tr>\n",
       "  <th>Date:</th>             <td>Sat, 06 Mar 2021</td> <th>  Prob (F-statistic):</th> <td>8.67e-18</td>\n",
       "</tr>\n",
       "<tr>\n",
       "  <th>Time:</th>                 <td>17:28:49</td>     <th>  Log-Likelihood:    </th> <td> -344.85</td>\n",
       "</tr>\n",
       "<tr>\n",
       "  <th>No. Observations:</th>      <td>   463</td>      <th>  AIC:               </th> <td>   703.7</td>\n",
       "</tr>\n",
       "<tr>\n",
       "  <th>Df Residuals:</th>          <td>   456</td>      <th>  BIC:               </th> <td>   732.7</td>\n",
       "</tr>\n",
       "<tr>\n",
       "  <th>Df Model:</th>              <td>     6</td>      <th>                     </th>     <td> </td>   \n",
       "</tr>\n",
       "<tr>\n",
       "  <th>Covariance Type:</th>         <td>HC1</td>       <th>                     </th>     <td> </td>   \n",
       "</tr>\n",
       "</table>\n",
       "<table class=\"simpletable\">\n",
       "<tr>\n",
       "      <td></td>         <th>coef</th>     <th>std err</th>      <th>z</th>      <th>P>|z|</th>  <th>[0.025</th>    <th>0.975]</th>  \n",
       "</tr>\n",
       "<tr>\n",
       "  <th>const</th>     <td>    4.0683</td> <td>    0.037</td> <td>  109.926</td> <td> 0.000</td> <td>    3.996</td> <td>    4.141</td>\n",
       "</tr>\n",
       "<tr>\n",
       "  <th>beauty</th>    <td>    0.1656</td> <td>    0.032</td> <td>    5.246</td> <td> 0.000</td> <td>    0.104</td> <td>    0.227</td>\n",
       "</tr>\n",
       "<tr>\n",
       "  <th>intro</th>     <td>    0.0113</td> <td>    0.056</td> <td>    0.202</td> <td> 0.840</td> <td>   -0.099</td> <td>    0.121</td>\n",
       "</tr>\n",
       "<tr>\n",
       "  <th>onecredit</th> <td>    0.6345</td> <td>    0.108</td> <td>    5.871</td> <td> 0.000</td> <td>    0.423</td> <td>    0.846</td>\n",
       "</tr>\n",
       "<tr>\n",
       "  <th>female</th>    <td>   -0.1735</td> <td>    0.049</td> <td>   -3.505</td> <td> 0.000</td> <td>   -0.270</td> <td>   -0.076</td>\n",
       "</tr>\n",
       "<tr>\n",
       "  <th>minority</th>  <td>   -0.1666</td> <td>    0.067</td> <td>   -2.472</td> <td> 0.013</td> <td>   -0.299</td> <td>   -0.034</td>\n",
       "</tr>\n",
       "<tr>\n",
       "  <th>nnenglish</th> <td>   -0.2442</td> <td>    0.094</td> <td>   -2.608</td> <td> 0.009</td> <td>   -0.428</td> <td>   -0.061</td>\n",
       "</tr>\n",
       "</table>\n",
       "<table class=\"simpletable\">\n",
       "<tr>\n",
       "  <th>Omnibus:</th>       <td>22.413</td> <th>  Durbin-Watson:     </th> <td>   1.516</td>\n",
       "</tr>\n",
       "<tr>\n",
       "  <th>Prob(Omnibus):</th> <td> 0.000</td> <th>  Jarque-Bera (JB):  </th> <td>  24.406</td>\n",
       "</tr>\n",
       "<tr>\n",
       "  <th>Skew:</th>          <td>-0.555</td> <th>  Prob(JB):          </th> <td>5.02e-06</td>\n",
       "</tr>\n",
       "<tr>\n",
       "  <th>Kurtosis:</th>      <td> 3.179</td> <th>  Cond. No.          </th> <td>    5.81</td>\n",
       "</tr>\n",
       "</table><br/><br/>Warnings:<br/>[1] Standard Errors are heteroscedasticity robust (HC1)"
      ],
      "text/plain": [
       "<class 'statsmodels.iolib.summary.Summary'>\n",
       "\"\"\"\n",
       "                            OLS Regression Results                            \n",
       "==============================================================================\n",
       "Dep. Variable:            course_eval   R-squared:                       0.155\n",
       "Model:                            OLS   Adj. R-squared:                  0.144\n",
       "Method:                 Least Squares   F-statistic:                     17.03\n",
       "Date:                Sat, 06 Mar 2021   Prob (F-statistic):           8.67e-18\n",
       "Time:                        17:28:49   Log-Likelihood:                -344.85\n",
       "No. Observations:                 463   AIC:                             703.7\n",
       "Df Residuals:                     456   BIC:                             732.7\n",
       "Df Model:                           6                                         \n",
       "Covariance Type:                  HC1                                         \n",
       "==============================================================================\n",
       "                 coef    std err          z      P>|z|      [0.025      0.975]\n",
       "------------------------------------------------------------------------------\n",
       "const          4.0683      0.037    109.926      0.000       3.996       4.141\n",
       "beauty         0.1656      0.032      5.246      0.000       0.104       0.227\n",
       "intro          0.0113      0.056      0.202      0.840      -0.099       0.121\n",
       "onecredit      0.6345      0.108      5.871      0.000       0.423       0.846\n",
       "female        -0.1735      0.049     -3.505      0.000      -0.270      -0.076\n",
       "minority      -0.1666      0.067     -2.472      0.013      -0.299      -0.034\n",
       "nnenglish     -0.2442      0.094     -2.608      0.009      -0.428      -0.061\n",
       "==============================================================================\n",
       "Omnibus:                       22.413   Durbin-Watson:                   1.516\n",
       "Prob(Omnibus):                  0.000   Jarque-Bera (JB):               24.406\n",
       "Skew:                          -0.555   Prob(JB):                     5.02e-06\n",
       "Kurtosis:                       3.179   Cond. No.                         5.81\n",
       "==============================================================================\n",
       "\n",
       "Warnings:\n",
       "[1] Standard Errors are heteroscedasticity robust (HC1)\n",
       "\"\"\""
      ]
     },
     "execution_count": 12,
     "metadata": {},
     "output_type": "execute_result"
    }
   ],
   "source": [
    "y_2c = ratings['course_eval']\n",
    "X_2c = sm.add_constant(ratings[['beauty','intro','onecredit','female','minority','nnenglish']])\n",
    "model_2c = sm.OLS(y_2c,X_2c)\n",
    "results_2c = model_2c.fit(cov_type='HC1')\n",
    "results_2c.summary()"
   ]
  },
  {
   "cell_type": "markdown",
   "metadata": {
    "cell_id": "00031-0527a9ce-8263-4f76-9e12-0eb773feacc2",
    "deepnote_cell_type": "markdown",
    "deletable": false,
    "editable": false
   },
   "source": [
    "<!-- END QUESTION -->\n",
    "\n",
    "<!-- BEGIN QUESTION -->\n",
    "\n",
    "**Question 2.d.**\n",
    "Explain.\n",
    "\n",
    "<!--\n",
    "BEGIN QUESTION\n",
    "name: q2_d\n",
    "manual: true\n",
    "-->"
   ]
  },
  {
   "cell_type": "markdown",
   "metadata": {},
   "source": [
    "_Type your answer here, replacing this text._"
   ]
  },
  {
   "cell_type": "markdown",
   "metadata": {
    "cell_id": "00033-1490c8f8-fa08-4ea3-b4f8-70613759e385",
    "deepnote_cell_type": "markdown",
    "deletable": false,
    "editable": false,
    "tags": []
   },
   "source": [
    "<!-- END QUESTION -->\n",
    "\n",
    "<!-- BEGIN QUESTION -->\n",
    "\n",
    "**Question 2.e.**\n",
    "Estimate the coefficient on beauty for the multiple regression model in (c) using the three-step process in Appendix 6.3 (the Frisch-Waugh theorem). Verify that the three-step process yields the same estimated coefficient for beauty as that obtained in (c). Comment.\n",
    "\n",
    "*Hint: Recall that if your regression results are called `results`, you could get the residuals using `results.resid`.*\n",
    "\n",
    "This question is for your code, the next is for your explanation.\n",
    "\n",
    "<!--\n",
    "BEGIN QUESTION\n",
    "name: q2_e\n",
    "manual: true\n",
    "-->"
   ]
  },
  {
   "cell_type": "code",
   "execution_count": 14,
   "metadata": {
    "cell_id": "00033-54fc2a4f-66b3-45bd-8421-20a4065e68ed",
    "deepnote_cell_type": "code",
    "deepnote_to_be_reexecuted": false,
    "execution_millis": 34,
    "execution_start": 1614207523300,
    "source_hash": "f2fe423a",
    "tags": []
   },
   "outputs": [],
   "source": [
    "# Do the first step here (regress the outcome variable on covariates)\n",
    "course_eval = ...\n",
    "covariates = ...\n",
    "model_eval_on_covariates = ...\n",
    "results_eval = ...\n",
    "eval_residuals = ...\n",
    "\n",
    "# Do the second step here (regress the explanatory variable on covariates)\n",
    "beauty = ...\n",
    "model_beauty_on_covariates = ...\n",
    "results_beauty = ...\n",
    "beauty_residuals = ...\n",
    "\n",
    "# Do the last step here (regress the outcome variable's residuals on the explanatory variable's residuals)\n",
    "model_fw = ...\n",
    "results_fw = ...\n",
    "results_fw.summary()"
   ]
  },
  {
   "cell_type": "markdown",
   "metadata": {
    "cell_id": "00034-9ab608ef-4b43-4d58-8c95-88be026fb214",
    "deepnote_cell_type": "markdown",
    "deletable": false,
    "editable": false,
    "tags": []
   },
   "source": [
    "<!-- END QUESTION -->\n",
    "\n",
    "<!-- BEGIN QUESTION -->\n",
    "\n",
    "**Question 2.f.**\n",
    "Explain.\n",
    "\n",
    "<!--\n",
    "BEGIN QUESTION\n",
    "name: q2_f\n",
    "manual: true\n",
    "-->"
   ]
  },
  {
   "cell_type": "markdown",
   "metadata": {},
   "source": [
    "_Type your answer here, replacing this text._"
   ]
  },
  {
   "cell_type": "markdown",
   "metadata": {
    "cell_id": "00035-873d51bb-70e8-4f2d-b50f-c49f7224814f",
    "deepnote_cell_type": "markdown",
    "deletable": false,
    "editable": false,
    "tags": []
   },
   "source": [
    "<!-- END QUESTION -->\n",
    "\n",
    "<!-- BEGIN QUESTION -->\n",
    "\n",
    "**Question 2.g.**\n",
    "Professor Smith is a black male with average beauty and is a native English speaker. He teaches a three-credit upper-division course. Predict Professor Smith’s course evaluation.\n",
    "\n",
    "<!--\n",
    "BEGIN QUESTION\n",
    "name: q2_g\n",
    "manual: true\n",
    "-->"
   ]
  },
  {
   "cell_type": "markdown",
   "metadata": {},
   "source": [
    "_Type your answer here, replacing this text._"
   ]
  },
  {
   "cell_type": "markdown",
   "metadata": {
    "cell_id": "00049-6a77a9e5-2d2b-4354-8519-a56f3d6b070c",
    "deepnote_cell_type": "markdown"
   },
   "source": [
    "<!-- END QUESTION -->\n",
    "\n",
    "\n",
    "\n",
    "---"
   ]
  },
  {
   "cell_type": "markdown",
   "metadata": {
    "cell_id": "00050-bf253edb-b4ea-4f08-bdb7-937626fca198",
    "deepnote_cell_type": "markdown"
   },
   "source": [
    "## Problem 3. Education and Distance to College\n",
    "\n",
    "The file `college_distance.csv` contains data from a random sample of high school seniors interviewed in 1980 and re-interviewed in 1986. A detailed description is given in `college_distance_description.pdf`, which will be shared on Piazza and bCourses. In this exercise, you will use these data to investigate the relationship between the number of completed years of education for young adults and the distance from each student’s high school to the nearest four-year college."
   ]
  },
  {
   "cell_type": "code",
   "execution_count": 13,
   "metadata": {
    "cell_id": "00043-dff9d576-2482-45d5-bdee-6744cdd8b741",
    "deepnote_cell_type": "code",
    "deepnote_to_be_reexecuted": false,
    "execution_millis": 56,
    "execution_start": 1614207620356,
    "source_hash": "50691826",
    "tags": []
   },
   "outputs": [
    {
     "data": {
      "text/html": [
       "<div>\n",
       "<style scoped>\n",
       "    .dataframe tbody tr th:only-of-type {\n",
       "        vertical-align: middle;\n",
       "    }\n",
       "\n",
       "    .dataframe tbody tr th {\n",
       "        vertical-align: top;\n",
       "    }\n",
       "\n",
       "    .dataframe thead th {\n",
       "        text-align: right;\n",
       "    }\n",
       "</style>\n",
       "<table border=\"1\" class=\"dataframe\">\n",
       "  <thead>\n",
       "    <tr style=\"text-align: right;\">\n",
       "      <th></th>\n",
       "      <th>female</th>\n",
       "      <th>black</th>\n",
       "      <th>hispanic</th>\n",
       "      <th>bytest</th>\n",
       "      <th>dadcoll</th>\n",
       "      <th>momcoll</th>\n",
       "      <th>ownhome</th>\n",
       "      <th>urban</th>\n",
       "      <th>cue80</th>\n",
       "      <th>stwmfg80</th>\n",
       "      <th>dist</th>\n",
       "      <th>tuition</th>\n",
       "      <th>yrsed</th>\n",
       "      <th>incomehi</th>\n",
       "    </tr>\n",
       "  </thead>\n",
       "  <tbody>\n",
       "    <tr>\n",
       "      <th>0</th>\n",
       "      <td>0.0</td>\n",
       "      <td>0.0</td>\n",
       "      <td>0.0</td>\n",
       "      <td>39.15</td>\n",
       "      <td>1.0</td>\n",
       "      <td>0.0</td>\n",
       "      <td>1.0</td>\n",
       "      <td>1.0</td>\n",
       "      <td>6.2</td>\n",
       "      <td>8.09</td>\n",
       "      <td>0.2</td>\n",
       "      <td>0.88915</td>\n",
       "      <td>12.0</td>\n",
       "      <td>1.0</td>\n",
       "    </tr>\n",
       "    <tr>\n",
       "      <th>1</th>\n",
       "      <td>1.0</td>\n",
       "      <td>0.0</td>\n",
       "      <td>0.0</td>\n",
       "      <td>48.87</td>\n",
       "      <td>0.0</td>\n",
       "      <td>0.0</td>\n",
       "      <td>1.0</td>\n",
       "      <td>1.0</td>\n",
       "      <td>6.2</td>\n",
       "      <td>8.09</td>\n",
       "      <td>0.2</td>\n",
       "      <td>0.88915</td>\n",
       "      <td>12.0</td>\n",
       "      <td>0.0</td>\n",
       "    </tr>\n",
       "    <tr>\n",
       "      <th>2</th>\n",
       "      <td>0.0</td>\n",
       "      <td>0.0</td>\n",
       "      <td>0.0</td>\n",
       "      <td>48.74</td>\n",
       "      <td>0.0</td>\n",
       "      <td>0.0</td>\n",
       "      <td>1.0</td>\n",
       "      <td>1.0</td>\n",
       "      <td>6.2</td>\n",
       "      <td>8.09</td>\n",
       "      <td>0.2</td>\n",
       "      <td>0.88915</td>\n",
       "      <td>12.0</td>\n",
       "      <td>0.0</td>\n",
       "    </tr>\n",
       "    <tr>\n",
       "      <th>3</th>\n",
       "      <td>0.0</td>\n",
       "      <td>1.0</td>\n",
       "      <td>0.0</td>\n",
       "      <td>40.40</td>\n",
       "      <td>0.0</td>\n",
       "      <td>0.0</td>\n",
       "      <td>1.0</td>\n",
       "      <td>1.0</td>\n",
       "      <td>6.2</td>\n",
       "      <td>8.09</td>\n",
       "      <td>0.2</td>\n",
       "      <td>0.88915</td>\n",
       "      <td>12.0</td>\n",
       "      <td>0.0</td>\n",
       "    </tr>\n",
       "    <tr>\n",
       "      <th>4</th>\n",
       "      <td>1.0</td>\n",
       "      <td>0.0</td>\n",
       "      <td>0.0</td>\n",
       "      <td>40.48</td>\n",
       "      <td>0.0</td>\n",
       "      <td>0.0</td>\n",
       "      <td>0.0</td>\n",
       "      <td>1.0</td>\n",
       "      <td>5.6</td>\n",
       "      <td>8.09</td>\n",
       "      <td>0.4</td>\n",
       "      <td>0.88915</td>\n",
       "      <td>13.0</td>\n",
       "      <td>0.0</td>\n",
       "    </tr>\n",
       "  </tbody>\n",
       "</table>\n",
       "</div>"
      ],
      "text/plain": [
       "   female  black  hispanic  bytest  dadcoll  momcoll  ownhome  urban  cue80  \\\n",
       "0     0.0    0.0       0.0   39.15      1.0      0.0      1.0    1.0    6.2   \n",
       "1     1.0    0.0       0.0   48.87      0.0      0.0      1.0    1.0    6.2   \n",
       "2     0.0    0.0       0.0   48.74      0.0      0.0      1.0    1.0    6.2   \n",
       "3     0.0    1.0       0.0   40.40      0.0      0.0      1.0    1.0    6.2   \n",
       "4     1.0    0.0       0.0   40.48      0.0      0.0      0.0    1.0    5.6   \n",
       "\n",
       "   stwmfg80  dist  tuition  yrsed  incomehi  \n",
       "0      8.09   0.2  0.88915   12.0       1.0  \n",
       "1      8.09   0.2  0.88915   12.0       0.0  \n",
       "2      8.09   0.2  0.88915   12.0       0.0  \n",
       "3      8.09   0.2  0.88915   12.0       0.0  \n",
       "4      8.09   0.4  0.88915   13.0       0.0  "
      ]
     },
     "execution_count": 13,
     "metadata": {},
     "output_type": "execute_result"
    }
   ],
   "source": [
    "dist = pd.read_csv(\"college_distance.csv\")\n",
    "dist.head()"
   ]
  },
  {
   "cell_type": "markdown",
   "metadata": {
    "cell_id": "00051-5b8135da-21d1-4879-a347-cd6793c12a74",
    "deepnote_cell_type": "markdown",
    "deletable": false,
    "editable": false
   },
   "source": [
    "<!-- BEGIN QUESTION -->\n",
    "\n",
    "**Question 3.a.**\n",
    "What do you expect for the sign of the relationship and what mechanism can you think about to explain it?\n",
    "\n",
    "<!--\n",
    "BEGIN QUESTION\n",
    "name: q3_a\n",
    "manual: true\n",
    "-->"
   ]
  },
  {
   "cell_type": "markdown",
   "metadata": {},
   "source": [
    "_Type your answer here, replacing this text._"
   ]
  },
  {
   "cell_type": "markdown",
   "metadata": {
    "cell_id": "00053-dbf726bd-f429-410f-979a-b253344305c2",
    "deepnote_cell_type": "markdown",
    "deletable": false,
    "editable": false
   },
   "source": [
    "<!-- END QUESTION -->\n",
    "\n",
    "<!-- BEGIN QUESTION -->\n",
    "\n",
    "**Question 3.b.**\n",
    "Run a regression of years of completed education (`yrsed`) on distance to the nearest college (`dist`), measured in tens of miles (For example, dist = 2 means that the distance is 20 miles). What is the estimated slope? Is it statistically significant? Does distance to college explain a large fraction of the variance in educational attainment across individuals? Explain.\n",
    "\n",
    "This question is for your code, the next is for your explanation.\n",
    "\n",
    "<!--\n",
    "BEGIN QUESTION\n",
    "name: q3_b\n",
    "manual: true\n",
    "-->"
   ]
  },
  {
   "cell_type": "code",
   "execution_count": 16,
   "metadata": {
    "cell_id": "00043-e6bdc56b-7b02-45ca-8c1f-39d1850b9286",
    "deepnote_cell_type": "code",
    "deepnote_to_be_reexecuted": false,
    "execution_millis": 30,
    "execution_start": 1614207716726,
    "source_hash": "4c5e996f",
    "tags": []
   },
   "outputs": [
    {
     "data": {
      "text/html": [
       "<table class=\"simpletable\">\n",
       "<caption>OLS Regression Results</caption>\n",
       "<tr>\n",
       "  <th>Dep. Variable:</th>          <td>yrsed</td>      <th>  R-squared:         </th> <td>   0.283</td> \n",
       "</tr>\n",
       "<tr>\n",
       "  <th>Model:</th>                   <td>OLS</td>       <th>  Adj. R-squared:    </th> <td>   0.281</td> \n",
       "</tr>\n",
       "<tr>\n",
       "  <th>Method:</th>             <td>Least Squares</td>  <th>  F-statistic:       </th> <td>   183.5</td> \n",
       "</tr>\n",
       "<tr>\n",
       "  <th>Date:</th>             <td>Sat, 06 Mar 2021</td> <th>  Prob (F-statistic):</th>  <td>  0.00</td>  \n",
       "</tr>\n",
       "<tr>\n",
       "  <th>Time:</th>                 <td>17:38:58</td>     <th>  Log-Likelihood:    </th> <td> -7015.1</td> \n",
       "</tr>\n",
       "<tr>\n",
       "  <th>No. Observations:</th>      <td>  3796</td>      <th>  AIC:               </th> <td>1.405e+04</td>\n",
       "</tr>\n",
       "<tr>\n",
       "  <th>Df Residuals:</th>          <td>  3784</td>      <th>  BIC:               </th> <td>1.413e+04</td>\n",
       "</tr>\n",
       "<tr>\n",
       "  <th>Df Model:</th>              <td>    11</td>      <th>                     </th>     <td> </td>    \n",
       "</tr>\n",
       "<tr>\n",
       "  <th>Covariance Type:</th>         <td>HC1</td>       <th>                     </th>     <td> </td>    \n",
       "</tr>\n",
       "</table>\n",
       "<table class=\"simpletable\">\n",
       "<tr>\n",
       "      <td></td>        <th>coef</th>     <th>std err</th>      <th>z</th>      <th>P>|z|</th>  <th>[0.025</th>    <th>0.975]</th>  \n",
       "</tr>\n",
       "<tr>\n",
       "  <th>const</th>    <td>    8.8614</td> <td>    0.241</td> <td>   36.757</td> <td> 0.000</td> <td>    8.389</td> <td>    9.334</td>\n",
       "</tr>\n",
       "<tr>\n",
       "  <th>dist</th>     <td>   -0.0308</td> <td>    0.012</td> <td>   -2.651</td> <td> 0.008</td> <td>   -0.054</td> <td>   -0.008</td>\n",
       "</tr>\n",
       "<tr>\n",
       "  <th>bytest</th>   <td>    0.0924</td> <td>    0.003</td> <td>   30.806</td> <td> 0.000</td> <td>    0.087</td> <td>    0.098</td>\n",
       "</tr>\n",
       "<tr>\n",
       "  <th>female</th>   <td>    0.1434</td> <td>    0.050</td> <td>    2.851</td> <td> 0.004</td> <td>    0.045</td> <td>    0.242</td>\n",
       "</tr>\n",
       "<tr>\n",
       "  <th>black</th>    <td>    0.3538</td> <td>    0.067</td> <td>    5.242</td> <td> 0.000</td> <td>    0.222</td> <td>    0.486</td>\n",
       "</tr>\n",
       "<tr>\n",
       "  <th>hispanic</th> <td>    0.4024</td> <td>    0.074</td> <td>    5.457</td> <td> 0.000</td> <td>    0.258</td> <td>    0.547</td>\n",
       "</tr>\n",
       "<tr>\n",
       "  <th>incomehi</th> <td>    0.3666</td> <td>    0.062</td> <td>    5.890</td> <td> 0.000</td> <td>    0.245</td> <td>    0.489</td>\n",
       "</tr>\n",
       "<tr>\n",
       "  <th>ownhome</th>  <td>    0.1456</td> <td>    0.065</td> <td>    2.247</td> <td> 0.025</td> <td>    0.019</td> <td>    0.273</td>\n",
       "</tr>\n",
       "<tr>\n",
       "  <th>dadcoll</th>  <td>    0.5699</td> <td>    0.076</td> <td>    7.474</td> <td> 0.000</td> <td>    0.420</td> <td>    0.719</td>\n",
       "</tr>\n",
       "<tr>\n",
       "  <th>momcoll</th>  <td>    0.3792</td> <td>    0.084</td> <td>    4.536</td> <td> 0.000</td> <td>    0.215</td> <td>    0.543</td>\n",
       "</tr>\n",
       "<tr>\n",
       "  <th>cue80</th>    <td>    0.0244</td> <td>    0.009</td> <td>    2.634</td> <td> 0.008</td> <td>    0.006</td> <td>    0.043</td>\n",
       "</tr>\n",
       "<tr>\n",
       "  <th>stwmfg80</th> <td>   -0.0502</td> <td>    0.020</td> <td>   -2.563</td> <td> 0.010</td> <td>   -0.089</td> <td>   -0.012</td>\n",
       "</tr>\n",
       "</table>\n",
       "<table class=\"simpletable\">\n",
       "<tr>\n",
       "  <th>Omnibus:</th>       <td>116.663</td> <th>  Durbin-Watson:     </th> <td>   1.928</td>\n",
       "</tr>\n",
       "<tr>\n",
       "  <th>Prob(Omnibus):</th> <td> 0.000</td>  <th>  Jarque-Bera (JB):  </th> <td>  98.499</td>\n",
       "</tr>\n",
       "<tr>\n",
       "  <th>Skew:</th>          <td> 0.326</td>  <th>  Prob(JB):          </th> <td>4.08e-22</td>\n",
       "</tr>\n",
       "<tr>\n",
       "  <th>Kurtosis:</th>      <td> 2.554</td>  <th>  Cond. No.          </th> <td>    539.</td>\n",
       "</tr>\n",
       "</table><br/><br/>Warnings:<br/>[1] Standard Errors are heteroscedasticity robust (HC1)"
      ],
      "text/plain": [
       "<class 'statsmodels.iolib.summary.Summary'>\n",
       "\"\"\"\n",
       "                            OLS Regression Results                            \n",
       "==============================================================================\n",
       "Dep. Variable:                  yrsed   R-squared:                       0.283\n",
       "Model:                            OLS   Adj. R-squared:                  0.281\n",
       "Method:                 Least Squares   F-statistic:                     183.5\n",
       "Date:                Sat, 06 Mar 2021   Prob (F-statistic):               0.00\n",
       "Time:                        17:38:58   Log-Likelihood:                -7015.1\n",
       "No. Observations:                3796   AIC:                         1.405e+04\n",
       "Df Residuals:                    3784   BIC:                         1.413e+04\n",
       "Df Model:                          11                                         \n",
       "Covariance Type:                  HC1                                         \n",
       "==============================================================================\n",
       "                 coef    std err          z      P>|z|      [0.025      0.975]\n",
       "------------------------------------------------------------------------------\n",
       "const          8.8614      0.241     36.757      0.000       8.389       9.334\n",
       "dist          -0.0308      0.012     -2.651      0.008      -0.054      -0.008\n",
       "bytest         0.0924      0.003     30.806      0.000       0.087       0.098\n",
       "female         0.1434      0.050      2.851      0.004       0.045       0.242\n",
       "black          0.3538      0.067      5.242      0.000       0.222       0.486\n",
       "hispanic       0.4024      0.074      5.457      0.000       0.258       0.547\n",
       "incomehi       0.3666      0.062      5.890      0.000       0.245       0.489\n",
       "ownhome        0.1456      0.065      2.247      0.025       0.019       0.273\n",
       "dadcoll        0.5699      0.076      7.474      0.000       0.420       0.719\n",
       "momcoll        0.3792      0.084      4.536      0.000       0.215       0.543\n",
       "cue80          0.0244      0.009      2.634      0.008       0.006       0.043\n",
       "stwmfg80      -0.0502      0.020     -2.563      0.010      -0.089      -0.012\n",
       "==============================================================================\n",
       "Omnibus:                      116.663   Durbin-Watson:                   1.928\n",
       "Prob(Omnibus):                  0.000   Jarque-Bera (JB):               98.499\n",
       "Skew:                           0.326   Prob(JB):                     4.08e-22\n",
       "Kurtosis:                       2.554   Cond. No.                         539.\n",
       "==============================================================================\n",
       "\n",
       "Warnings:\n",
       "[1] Standard Errors are heteroscedasticity robust (HC1)\n",
       "\"\"\""
      ]
     },
     "execution_count": 16,
     "metadata": {},
     "output_type": "execute_result"
    }
   ],
   "source": [
    "model_3b = sm.OLS(dist['yrsed'],sm.add_constant(dist[['dist','bytest','female','black','hispanic','incomehi','ownhome','dadcoll','momcoll','cue80','stwmfg80']]))\n",
    "results_3b = model_3b.fit(cov_type='HC1')\n",
    "results_3b.summary()"
   ]
  },
  {
   "cell_type": "markdown",
   "metadata": {
    "cell_id": "00055-6530c1a1-5c8e-40d7-a116-49a09a9081cb",
    "deepnote_cell_type": "markdown",
    "deletable": false,
    "editable": false
   },
   "source": [
    "<!-- END QUESTION -->\n",
    "\n",
    "<!-- BEGIN QUESTION -->\n",
    "\n",
    "**Question 3.c.**\n",
    "Explain.\n",
    "\n",
    "<!--\n",
    "BEGIN QUESTION\n",
    "name: q3_c\n",
    "manual: true\n",
    "-->"
   ]
  },
  {
   "cell_type": "markdown",
   "metadata": {},
   "source": [
    "_Type your answer here, replacing this text._"
   ]
  },
  {
   "cell_type": "markdown",
   "metadata": {
    "cell_id": "00057-3c9b50ec-c489-4b24-8f8a-d1e16bebbaa5",
    "deepnote_cell_type": "markdown",
    "deletable": false,
    "editable": false
   },
   "source": [
    "<!-- END QUESTION -->\n",
    "\n",
    "<!-- BEGIN QUESTION -->\n",
    "\n",
    "**Question 3.d.**\n",
    "Now run a regression of `yrsed` on `dist`, but include some additional regressors to control for characteristics of the student, the student’s family, and the local labor market. In particular, include as additional regressors: `bytest`, `female`, `black`, `hispanic`, `incomehi`, `ownhome`, `dadcoll`, `cue80`, and `stwmfg80`.  What is the estimated effect of `dist` on `yrsed`?  Is it substantively different from the regression in (b)? Based on this, does the regression in (b) seem to suffer from important omitted variable bias?\n",
    "\n",
    "This question is for your code, the next is for your explanation.\n",
    "\n",
    "<!--\n",
    "BEGIN QUESTION\n",
    "name: q3_d\n",
    "manual: true\n",
    "-->"
   ]
  },
  {
   "cell_type": "code",
   "execution_count": 17,
   "metadata": {
    "cell_id": "00047-97438cd2-edd2-420a-ac38-f48e90cd04f9",
    "deepnote_cell_type": "code",
    "deepnote_to_be_reexecuted": false,
    "execution_millis": 35,
    "execution_start": 1614208006275,
    "source_hash": "b00760a2",
    "tags": []
   },
   "outputs": [],
   "source": [
    "y_3d = ...\n",
    "X_3d = ...\n",
    "model_3d = ...\n",
    "results_3d = ...\n",
    "results_3d.summary()"
   ]
  },
  {
   "cell_type": "markdown",
   "metadata": {
    "cell_id": "00059-4312e28e-25c5-4cb1-ac14-e8705ce9faac",
    "deepnote_cell_type": "markdown",
    "deletable": false,
    "editable": false
   },
   "source": [
    "<!-- END QUESTION -->\n",
    "\n",
    "<!-- BEGIN QUESTION -->\n",
    "\n",
    "**Question 3.e.**\n",
    "Explain.\n",
    "\n",
    "<!--\n",
    "BEGIN QUESTION\n",
    "name: q3_e\n",
    "manual: true\n",
    "-->"
   ]
  },
  {
   "cell_type": "markdown",
   "metadata": {},
   "source": [
    "_Type your answer here, replacing this text._"
   ]
  },
  {
   "cell_type": "markdown",
   "metadata": {
    "cell_id": "00061-9b95f49d-c761-4b67-95b9-14b3950419c6",
    "deepnote_cell_type": "markdown",
    "deletable": false,
    "editable": false,
    "tags": []
   },
   "source": [
    "<!-- END QUESTION -->\n",
    "\n",
    "<!-- BEGIN QUESTION -->\n",
    "\n",
    "**Question 3.f.**\n",
    "The value of the coefficient on `dadcoll` is positive. What does this coefficient measure?\n",
    "Interpret this effect.\n",
    "\n",
    "<!--\n",
    "BEGIN QUESTION\n",
    "name: q3_f\n",
    "manual: true\n",
    "-->"
   ]
  },
  {
   "cell_type": "markdown",
   "metadata": {},
   "source": [
    "_Type your answer here, replacing this text._"
   ]
  },
  {
   "cell_type": "markdown",
   "metadata": {
    "cell_id": "00052-e2509a53-6f4c-49b0-b388-f1407a6ed8c1",
    "deepnote_cell_type": "markdown",
    "deletable": false,
    "editable": false,
    "tags": []
   },
   "source": [
    "<!-- END QUESTION -->\n",
    "\n",
    "<!-- BEGIN QUESTION -->\n",
    "\n",
    "**Question 3.g.** Explain why `cue80` and `stwmfg80` appear in the regression. Are the signs of their estimated coefficients what you would have believed? Explain.\n",
    "\n",
    "<!--\n",
    "BEGIN QUESTION\n",
    "name: q3_g\n",
    "manual: true\n",
    "-->"
   ]
  },
  {
   "cell_type": "markdown",
   "metadata": {},
   "source": [
    "_Type your answer here, replacing this text._"
   ]
  },
  {
   "cell_type": "markdown",
   "metadata": {
    "cell_id": "00054-deff4fba-f409-4356-ace2-5e622e1d2d6c",
    "deepnote_cell_type": "markdown",
    "deletable": false,
    "editable": false,
    "tags": []
   },
   "source": [
    "<!-- END QUESTION -->\n",
    "\n",
    "<!-- BEGIN QUESTION -->\n",
    "\n",
    "**Question 3.h.**\n",
    "Bob is a black male. His high school was 20 miles from the nearest college. His base-year composite test score (`bytest`) was 58. His family income in 1980 was \\\\$26,000, and his family owned a home. His mother attended college, but his father did not. The unemployment rate in his county was 7.5%, and the state average manufacturing hourly wage was \\\\$9.75. Predict Bob’s years of completed schooling using the regression in (d).\n",
    "\n",
    "<!--\n",
    "BEGIN QUESTION\n",
    "name: q3_h\n",
    "manual: true\n",
    "-->"
   ]
  },
  {
   "cell_type": "markdown",
   "metadata": {},
   "source": [
    "_Type your answer here, replacing this text._"
   ]
  },
  {
   "cell_type": "markdown",
   "metadata": {
    "cell_id": "00063-d3afd5d5-9f5a-44e6-99ca-6267c0ffe86f",
    "deepnote_cell_type": "markdown"
   },
   "source": [
    "<!-- END QUESTION -->\n",
    "\n",
    "\n",
    "\n",
    "---"
   ]
  },
  {
   "cell_type": "markdown",
   "metadata": {
    "cell_id": "00064-fde2024f-4db7-4308-9b29-62a77d8e0ba7",
    "deepnote_cell_type": "markdown"
   },
   "source": [
    "## Problem 4. The Sheepskin Effect\n",
    "\n",
    "The table of results that will be shared on Piazza and bCourses is copied from a paper by Jaeger and Page (1996) entitled “Degrees Matter: New Evidence on Sheepskin Effects in the Returns to Education,” The Review of Economics and Statistics. The question is whether employers pay in relation to years of education or whether there is an additional premium for obtaining a degree. Such premium might be called the “sheepskin effect” (because diplomas at one time were printed on a sheet of sheepskin) or the “diploma effect.” The Jaeger and Page paper estimates the magnitude of this effect. Note: an empty cell in the table means that variable is not included in the regression."
   ]
  },
  {
   "cell_type": "markdown",
   "metadata": {
    "cell_id": "00066-81b68ae7-471f-48ed-b805-92604a314502",
    "deepnote_cell_type": "markdown",
    "deletable": false,
    "editable": false
   },
   "source": [
    "<!-- BEGIN QUESTION -->\n",
    "\n",
    "**Question 4.a.**\n",
    "Why do you think Jaeger and Page estimate their model using only people of a single race and gender (in this particular case the sample consists of white males)?\n",
    "\n",
    "<!--\n",
    "BEGIN QUESTION\n",
    "name: q4_a\n",
    "manual: true\n",
    "-->"
   ]
  },
  {
   "cell_type": "markdown",
   "metadata": {},
   "source": [
    "_Type your answer here, replacing this text._"
   ]
  },
  {
   "cell_type": "markdown",
   "metadata": {
    "cell_id": "00068-f4015901-663e-4f0d-9de0-527b810ccbfd",
    "deepnote_cell_type": "markdown",
    "deletable": false,
    "editable": false,
    "tags": []
   },
   "source": [
    "<!-- END QUESTION -->\n",
    "\n",
    "<!-- BEGIN QUESTION -->\n",
    "\n",
    "**Question 4.b.**\n",
    "Look at column (3) of the table. In words, interpret the coefficient on the dummy variable “9”.\n",
    "\n",
    "*Hint: Note that “12” is the omitted category.*\n",
    "\n",
    "<!--\n",
    "BEGIN QUESTION\n",
    "name: q4_b\n",
    "manual: true\n",
    "-->"
   ]
  },
  {
   "cell_type": "markdown",
   "metadata": {},
   "source": [
    "_Type your answer here, replacing this text._"
   ]
  },
  {
   "cell_type": "markdown",
   "metadata": {
    "cell_id": "00070-8fac87f0-90bc-4ea7-8d4c-60663dd5c4a1",
    "deepnote_cell_type": "markdown",
    "deletable": false,
    "editable": false,
    "tags": []
   },
   "source": [
    "<!-- END QUESTION -->\n",
    "\n",
    "<!-- BEGIN QUESTION -->\n",
    "\n",
    "**Question 4.c.**\n",
    "Why do you think the effect of the 14th year of education is larger than that of the 15th?\n",
    "\n",
    "<!--\n",
    "BEGIN QUESTION\n",
    "name: q4_c\n",
    "manual: true\n",
    "-->"
   ]
  },
  {
   "cell_type": "markdown",
   "metadata": {},
   "source": [
    "_Type your answer here, replacing this text._"
   ]
  },
  {
   "cell_type": "markdown",
   "metadata": {
    "cell_id": "00072-8adaeee8-ad7f-4c29-b2b0-959756585fec",
    "deepnote_cell_type": "markdown",
    "deletable": false,
    "editable": false
   },
   "source": [
    "<!-- END QUESTION -->\n",
    "\n",
    "<!-- BEGIN QUESTION -->\n",
    "\n",
    "**Question 4.d.**\n",
    "Now look at column (4). Think about a student who is currently a senior. What is the average difference in the student's wage now and the one that the student could get at the end of the year following graduation?\n",
    "\n",
    "<!--\n",
    "BEGIN QUESTION\n",
    "name: q4_d\n",
    "manual: true\n",
    "-->"
   ]
  },
  {
   "cell_type": "markdown",
   "metadata": {},
   "source": [
    "_Type your answer here, replacing this text._"
   ]
  },
  {
   "cell_type": "markdown",
   "metadata": {
    "cell_id": "00074-bce3ace1-882c-498d-a077-7be14c91ddc4",
    "deepnote_cell_type": "markdown",
    "deletable": false,
    "editable": false
   },
   "source": [
    "<!-- END QUESTION -->\n",
    "\n",
    "<!-- BEGIN QUESTION -->\n",
    "\n",
    "**Question 4.e.**\n",
    "Based on the results presented in this column, would you rather choose to complete a PhD or a professional degree? Explain.\n",
    "\n",
    "<!--\n",
    "BEGIN QUESTION\n",
    "name: q4_e\n",
    "manual: true\n",
    "-->"
   ]
  },
  {
   "cell_type": "markdown",
   "metadata": {},
   "source": [
    "_Type your answer here, replacing this text._"
   ]
  },
  {
   "cell_type": "markdown",
   "metadata": {
    "cell_id": "00076-6f328c00-634b-4369-b1e6-4542df5af659",
    "deepnote_cell_type": "markdown",
    "deletable": false,
    "editable": false,
    "tags": []
   },
   "source": [
    "<!-- END QUESTION -->\n",
    "\n",
    "<!-- BEGIN QUESTION -->\n",
    "\n",
    "**Question 4.f.**\n",
    "Using the results from columns (3) and (4), how would you test the presence of a “diploma effect”? Carry out the test at a 5% significance level.\n",
    "\n",
    "*Hint: You may find some of the information you need in the footnote of the table.*\n",
    "\n",
    "<!--\n",
    "BEGIN QUESTION\n",
    "name: q4_f\n",
    "manual: true\n",
    "-->"
   ]
  },
  {
   "cell_type": "markdown",
   "metadata": {},
   "source": [
    "_Type your answer here, replacing this text._"
   ]
  },
  {
   "cell_type": "markdown",
   "metadata": {
    "cell_id": "00086-cfc3c3af-1bb2-4b41-8033-353944114298",
    "deepnote_cell_type": "markdown",
    "tags": []
   },
   "source": [
    "<!-- END QUESTION -->\n",
    "\n",
    "\n",
    "\n",
    "---"
   ]
  },
  {
   "cell_type": "markdown",
   "metadata": {
    "deletable": false,
    "editable": false
   },
   "source": [
    "## Submission\n",
    "\n",
    "Make sure you have run all cells in your notebook in order before running the cell below, so that all images/graphs appear in the output. The cell below will generate a zip file for you to submit. **Please save before exporting!**"
   ]
  },
  {
   "cell_type": "code",
   "execution_count": 4,
   "metadata": {
    "deletable": false,
    "editable": false
   },
   "outputs": [
    {
     "data": {
      "application/javascript": [
       "Jupyter.notebook.save_checkpoint();"
      ],
      "text/plain": [
       "<IPython.core.display.Javascript object>"
      ]
     },
     "metadata": {},
     "output_type": "display_data"
    },
    {
     "data": {
      "text/html": [
       "\n",
       "                <p>Your file has been exported. Download it by right-clicking\n",
       "                <a href=\"ps3.pdf\" target=\"_blank\">here</a> and selecting <strong>Save Link As</strong>.\n",
       "                "
      ],
      "text/plain": [
       "<IPython.core.display.HTML object>"
      ]
     },
     "metadata": {},
     "output_type": "display_data"
    }
   ],
   "source": [
    "# Save your notebook first, then run this cell to export your submission.\n",
    "grader.to_pdf(pagebreaks=False, display_link=True)"
   ]
  },
  {
   "cell_type": "markdown",
   "metadata": {},
   "source": [
    " "
   ]
  }
 ],
 "metadata": {
  "deepnote": {},
  "deepnote_execution_queue": [],
  "deepnote_notebook_id": "2ccc7b13-9577-476b-b25c-4a9ed2a520e2",
  "history": [
   {
    "code": "crime = pd.read_stata(\"PS1data(campus crime).dta\")\ncrime.head()",
    "id": "6ff7917995244c5e86a88c19fa2d81e1",
    "idx": 44,
    "time": "2021-01-18T07:09:23.823Z",
    "type": "execution"
   },
   {
    "id": "6ff7917995244c5e86a88c19fa2d81e1",
    "time": "2021-01-18T07:09:23.936Z",
    "type": "completion"
   },
   {
    "code": "import numpy as np\nimport pandas as pd\nimport statsmodels.api as sm\nimport scipy",
    "id": "c077fd8ff0c749a6aa9264a01f374de5",
    "idx": 1,
    "time": "2021-01-18T07:09:27.098Z",
    "type": "execution"
   },
   {
    "id": "c077fd8ff0c749a6aa9264a01f374de5",
    "time": "2021-01-18T07:09:28.128Z",
    "type": "completion"
   },
   {
    "code": "crime = pd.read_stata(\"PS1data(campus crime).dta\")\ncrime.head()",
    "id": "6ff7917995244c5e86a88c19fa2d81e1",
    "idx": 44,
    "time": "2021-01-18T07:09:32.183Z",
    "type": "execution"
   },
   {
    "id": "6ff7917995244c5e86a88c19fa2d81e1",
    "time": "2021-01-18T07:09:32.279Z",
    "type": "completion"
   },
   {
    "code": "crime.describe()",
    "id": "135cbd699ea54ab18331f85ed0bf8823",
    "idx": 45,
    "time": "2021-01-18T07:11:03.161Z",
    "type": "execution"
   },
   {
    "id": "135cbd699ea54ab18331f85ed0bf8823",
    "time": "2021-01-18T07:11:03.251Z",
    "type": "completion"
   },
   {
    "code": "# This code cell is for question 2.a.\n",
    "id": "e46e3004a663426b85c8e39cc37dcdb0",
    "idx": 46,
    "time": "2021-01-18T07:24:16.050Z",
    "type": "execution"
   },
   {
    "id": "e46e3004a663426b85c8e39cc37dcdb0",
    "time": "2021-01-18T07:24:16.116Z",
    "type": "completion"
   },
   {
    "code": "pollution = pd.read_stata(\"PS1data(pollution).dta\")\npollution.head()",
    "id": "ade11aa832d5421ea99ca9c650c186be",
    "idx": 63,
    "time": "2021-01-18T07:59:56.188Z",
    "type": "execution"
   },
   {
    "id": "ade11aa832d5421ea99ca9c650c186be",
    "time": "2021-01-18T07:59:56.394Z",
    "type": "completion"
   },
   {
    "code": "import numpy as np\nimport pandas as pd\nimport scipy\nimport matplotlib.pyplot as plt",
    "id": "c077fd8ff0c749a6aa9264a01f374de5",
    "idx": 1,
    "time": "2021-01-18T08:10:35.509Z",
    "type": "execution"
   },
   {
    "id": "c077fd8ff0c749a6aa9264a01f374de5",
    "time": "2021-01-18T08:10:38.601Z",
    "type": "completion"
   },
   {
    "code": "plt.scatter()",
    "id": "6ea4c625a7ba46578b86fb5510d63287",
    "idx": 71,
    "time": "2021-01-18T08:10:48.711Z",
    "type": "execution"
   },
   {
    "id": "6ea4c625a7ba46578b86fb5510d63287",
    "time": "2021-01-18T08:10:48.861Z",
    "type": "completion"
   },
   {
    "code": "pollution = pd.read_stata(\"PS1data(pollution).dta\")\npollution.head()",
    "id": "ade11aa832d5421ea99ca9c650c186be",
    "idx": 63,
    "time": "2021-01-18T08:17:38.420Z",
    "type": "execution"
   },
   {
    "id": "ade11aa832d5421ea99ca9c650c186be",
    "time": "2021-01-18T08:17:38.560Z",
    "type": "completion"
   },
   {
    "code": "la = pd.read_stata(\"PS1data(LA wages).dta\")\nla.head()",
    "id": "9f9659cd5f024d7498664666f150a8f1",
    "idx": 75,
    "time": "2021-01-18T08:18:05.621Z",
    "type": "execution"
   },
   {
    "id": "9f9659cd5f024d7498664666f150a8f1",
    "time": "2021-01-18T08:18:05.838Z",
    "type": "completion"
   },
   {
    "code": "la['wage']",
    "id": "5e8c1ef38b9a4a2ea99e7007d38bdcfd",
    "idx": 77,
    "time": "2021-01-18T09:24:15.105Z",
    "type": "execution"
   },
   {
    "id": "5e8c1ef38b9a4a2ea99e7007d38bdcfd",
    "time": "2021-01-18T09:24:15.317Z",
    "type": "completion"
   },
   {
    "code": "import numpy as np\nimport pandas as pd\nimport scipy\nimport matplotlib.pyplot as plt",
    "id": "c077fd8ff0c749a6aa9264a01f374de5",
    "idx": 1,
    "time": "2021-01-18T09:24:20.258Z",
    "type": "execution"
   },
   {
    "id": "c077fd8ff0c749a6aa9264a01f374de5",
    "time": "2021-01-18T09:24:21.004Z",
    "type": "completion"
   },
   {
    "code": "la = pd.read_stata(\"PS1data(LA wages).dta\")\nla.head()",
    "id": "9f9659cd5f024d7498664666f150a8f1",
    "idx": 75,
    "time": "2021-01-18T09:24:24.656Z",
    "type": "execution"
   },
   {
    "id": "9f9659cd5f024d7498664666f150a8f1",
    "time": "2021-01-18T09:24:24.788Z",
    "type": "completion"
   },
   {
    "code": "la['wage']",
    "id": "5e8c1ef38b9a4a2ea99e7007d38bdcfd",
    "idx": 77,
    "time": "2021-01-18T09:24:26.726Z",
    "type": "execution"
   },
   {
    "id": "5e8c1ef38b9a4a2ea99e7007d38bdcfd",
    "time": "2021-01-18T09:24:26.831Z",
    "type": "completion"
   },
   {
    "code": "la['wage'].hist()",
    "id": "5e8c1ef38b9a4a2ea99e7007d38bdcfd",
    "idx": 77,
    "time": "2021-01-18T09:24:30.291Z",
    "type": "execution"
   },
   {
    "id": "5e8c1ef38b9a4a2ea99e7007d38bdcfd",
    "time": "2021-01-18T09:24:30.532Z",
    "type": "completion"
   },
   {
    "code": "la.hist(column='wage')",
    "id": "5e8c1ef38b9a4a2ea99e7007d38bdcfd",
    "idx": 77,
    "time": "2021-01-18T09:25:07.361Z",
    "type": "execution"
   },
   {
    "id": "5e8c1ef38b9a4a2ea99e7007d38bdcfd",
    "time": "2021-01-18T09:25:07.591Z",
    "type": "completion"
   },
   {
    "code": "la.hist(column='wage', bins=20)",
    "id": "5e8c1ef38b9a4a2ea99e7007d38bdcfd",
    "idx": 77,
    "time": "2021-01-18T09:25:31.566Z",
    "type": "execution"
   },
   {
    "id": "5e8c1ef38b9a4a2ea99e7007d38bdcfd",
    "time": "2021-01-18T09:25:31.792Z",
    "type": "completion"
   },
   {
    "code": "la.hist(column='wage', bins=80)",
    "id": "5e8c1ef38b9a4a2ea99e7007d38bdcfd",
    "idx": 77,
    "time": "2021-01-18T09:25:38.477Z",
    "type": "execution"
   },
   {
    "id": "5e8c1ef38b9a4a2ea99e7007d38bdcfd",
    "time": "2021-01-18T09:25:38.863Z",
    "type": "completion"
   },
   {
    "code": "la.hist(column='wage', bins=80, density=True)",
    "id": "5e8c1ef38b9a4a2ea99e7007d38bdcfd",
    "idx": 78,
    "time": "2021-01-18T09:32:17.612Z",
    "type": "execution"
   },
   {
    "id": "5e8c1ef38b9a4a2ea99e7007d38bdcfd",
    "time": "2021-01-18T09:32:17.947Z",
    "type": "completion"
   },
   {
    "code": "la.hist(column='wage', bins=2, density=True)",
    "id": "5e8c1ef38b9a4a2ea99e7007d38bdcfd",
    "idx": 78,
    "time": "2021-01-18T09:35:08.803Z",
    "type": "execution"
   },
   {
    "id": "5e8c1ef38b9a4a2ea99e7007d38bdcfd",
    "time": "2021-01-18T09:35:09.018Z",
    "type": "completion"
   },
   {
    "code": "la.hist(column='wage', bins=2, density=False)",
    "id": "5e8c1ef38b9a4a2ea99e7007d38bdcfd",
    "idx": 78,
    "time": "2021-01-18T09:35:20.210Z",
    "type": "execution"
   },
   {
    "id": "5e8c1ef38b9a4a2ea99e7007d38bdcfd",
    "time": "2021-01-18T09:35:20.394Z",
    "type": "completion"
   },
   {
    "code": "la.hist(column='wage', bins=2, density=True)",
    "id": "5e8c1ef38b9a4a2ea99e7007d38bdcfd",
    "idx": 78,
    "time": "2021-01-18T09:35:29.312Z",
    "type": "execution"
   },
   {
    "id": "5e8c1ef38b9a4a2ea99e7007d38bdcfd",
    "time": "2021-01-18T09:35:29.520Z",
    "type": "completion"
   },
   {
    "code": "plt.hist(la['wage'])",
    "id": "47e4aac55f07470c8fa51b2b90261851",
    "idx": 79,
    "time": "2021-01-18T09:35:42.316Z",
    "type": "execution"
   },
   {
    "id": "47e4aac55f07470c8fa51b2b90261851",
    "time": "2021-01-18T09:35:42.565Z",
    "type": "completion"
   },
   {
    "code": "plt.hist(la['wage'], bins=2)",
    "id": "47e4aac55f07470c8fa51b2b90261851",
    "idx": 79,
    "time": "2021-01-18T09:35:47.435Z",
    "type": "execution"
   },
   {
    "id": "47e4aac55f07470c8fa51b2b90261851",
    "time": "2021-01-18T09:35:47.611Z",
    "type": "completion"
   },
   {
    "code": "plt.hist(la['wage'], bins=2, density=True)",
    "id": "47e4aac55f07470c8fa51b2b90261851",
    "idx": 79,
    "time": "2021-01-18T09:35:52.150Z",
    "type": "execution"
   },
   {
    "id": "47e4aac55f07470c8fa51b2b90261851",
    "time": "2021-01-18T09:35:52.341Z",
    "type": "completion"
   },
   {
    "code": "la.hist(column='wage', bins=2)",
    "id": "5e8c1ef38b9a4a2ea99e7007d38bdcfd",
    "idx": 78,
    "time": "2021-01-18T09:37:29.191Z",
    "type": "execution"
   },
   {
    "id": "5e8c1ef38b9a4a2ea99e7007d38bdcfd",
    "time": "2021-01-18T09:37:29.385Z",
    "type": "completion"
   },
   {
    "code": "la.hist(column='wage', bins=80)",
    "id": "5e8c1ef38b9a4a2ea99e7007d38bdcfd",
    "idx": 78,
    "time": "2021-01-18T09:37:33.703Z",
    "type": "execution"
   },
   {
    "id": "5e8c1ef38b9a4a2ea99e7007d38bdcfd",
    "time": "2021-01-18T09:37:34.121Z",
    "type": "completion"
   },
   {
    "code": "la.hist(column='wage', bins=80);",
    "id": "5e8c1ef38b9a4a2ea99e7007d38bdcfd",
    "idx": 78,
    "time": "2021-01-18T09:38:29.829Z",
    "type": "execution"
   },
   {
    "id": "5e8c1ef38b9a4a2ea99e7007d38bdcfd",
    "time": "2021-01-18T09:38:30.184Z",
    "type": "completion"
   },
   {
    "code": "la.skew()",
    "id": "b72d792a6ced4f81854002eb6f256630",
    "idx": 79,
    "time": "2021-01-18T09:41:16.207Z",
    "type": "execution"
   },
   {
    "id": "b72d792a6ced4f81854002eb6f256630",
    "time": "2021-01-18T09:41:16.437Z",
    "type": "completion"
   },
   {
    "code": "la['education'].value_counts()",
    "id": "e1f798625e02470185f6ca12c36a1ed9",
    "idx": 82,
    "time": "2021-01-18T09:51:54.245Z",
    "type": "execution"
   },
   {
    "id": "e1f798625e02470185f6ca12c36a1ed9",
    "time": "2021-01-18T09:51:54.483Z",
    "type": "completion"
   },
   {
    "code": "la['education'].value_counts(sort=False)",
    "id": "e1f798625e02470185f6ca12c36a1ed9",
    "idx": 82,
    "time": "2021-01-18T09:52:17.915Z",
    "type": "execution"
   },
   {
    "id": "e1f798625e02470185f6ca12c36a1ed9",
    "time": "2021-01-18T09:52:18.043Z",
    "type": "completion"
   },
   {
    "code": "la.value_counts(sort=False)",
    "id": "e1f798625e02470185f6ca12c36a1ed9",
    "idx": 84,
    "time": "2021-01-18T09:55:32.462Z",
    "type": "execution"
   },
   {
    "id": "e1f798625e02470185f6ca12c36a1ed9",
    "time": "2021-01-18T09:55:32.557Z",
    "type": "completion"
   },
   {
    "code": "la.value_counts(subset='education', sort=False)",
    "id": "e1f798625e02470185f6ca12c36a1ed9",
    "idx": 84,
    "time": "2021-01-18T09:55:44.949Z",
    "type": "execution"
   },
   {
    "id": "e1f798625e02470185f6ca12c36a1ed9",
    "time": "2021-01-18T09:55:45.051Z",
    "type": "completion"
   },
   {
    "code": "la.value_counts(subset='education', sort=False, normalize=True)",
    "id": "e1f798625e02470185f6ca12c36a1ed9",
    "idx": 84,
    "time": "2021-01-18T09:56:21.567Z",
    "type": "execution"
   },
   {
    "id": "e1f798625e02470185f6ca12c36a1ed9",
    "time": "2021-01-18T09:56:21.684Z",
    "type": "completion"
   },
   {
    "code": "\"\"\" # BEGIN PROMPT\nnba['payoff'] = ...\n\nnba_guard = ...\nnba_not_guard = ...\n\nttest_1j = scipy.stats.ttest_ind(..., ...)\n\ntstat_1j = ttest_1j.statistic\npval_1j = ttest_1j.pvalue\n\"\"\" # END PROMPT\n# BEGIN SOLUTION NO PROMPT\nnba['payoff'] = nba['index'] / nba['wage']\n\nnba_guard = nba[nba['guard'] == 1]\nnba_not_guard = nba[nba['guard'] == 0]\n\nttest_1j = scipy.stats.ttest_ind(nba_guard['payoff'], nba_not_guard['payoff'])\n\ntstat_1j = ttest_1j.statistic\npval_1j = ttest_1j.pvalue\n# END SOLUTION\n\nprint(\"t-stat: {}\".format(tstat_1j))\nprint(\"p-value: {}\".format(pval_1j))",
    "id": "49e0c29ac3324d018fd3ddcb268cace1",
    "idx": 24,
    "time": "2021-01-18T10:25:51.299Z",
    "type": "execution"
   },
   {
    "id": "49e0c29ac3324d018fd3ddcb268cace1",
    "time": "2021-01-18T10:25:51.432Z",
    "type": "completion"
   },
   {
    "code": "nba = pd.read_stata(\"PS1data(NBA).dta\")\nnba.head()",
    "id": "4e02ffc0b72a40e9874ce8b8316d398d",
    "idx": 4,
    "time": "2021-01-18T10:29:02.028Z",
    "type": "execution"
   },
   {
    "id": "4e02ffc0b72a40e9874ce8b8316d398d",
    "time": "2021-01-18T10:29:02.224Z",
    "type": "completion"
   },
   {
    "code": "\"\"\" # BEGIN PROMPT\nnba_guard = ...\nnba_not_guard = ...\n\nttest_1a = scipy.stats.ttest_ind(..., ...)\n\ntstat_1a = ttest_1a.statistic\npval_1a = ttest_1a.pvalue\n\"\"\" # END PROMPT\n# BEGIN SOLUTION NO PROMPT\nnba_guard = nba[nba['guard'] == 1]\nnba_not_guard = nba[nba['guard'] == 0]\n\nttest_1a = scipy.stats.ttest_ind(nba_guard['wage'], nba_not_guard['wage'])\n\ntstat_1a = ttest_1a.statistic\npval_1a = ttest_1a.pvalue\n# END SOLUTION\n\nprint(\"t-stat: {}\".format(tstat_1a))\nprint(\"p-value: {}\".format(pval_1a))",
    "id": "cee70a4e21134d118f6fd5e8d61db10a",
    "idx": 6,
    "time": "2021-01-18T10:29:02.380Z",
    "type": "execution"
   },
   {
    "id": "cee70a4e21134d118f6fd5e8d61db10a",
    "time": "2021-01-18T10:29:02.477Z",
    "type": "completion"
   },
   {
    "code": "\"\"\" # BEGIN PROMPT\nnba['degree'] = ...\n\nnba_degree = ...\nnba_no_degree = ...\n\nttest_1c = scipy.stats.ttest_ind(..., ...)\n\ntstat_1c = ttest_1c.statistic\npval_1c = ttest_1c.pvalue\n\"\"\" # END PROMPT\n# BEGIN SOLUTION NO PROMPT\nnba['degree'] = nba['coll'] >= 4\n\nnba_degree = nba[nba['degree'] == True]\nnba_no_degree = nba[nba['degree'] == False]\n\nttest_1c = scipy.stats.ttest_ind(nba_degree['wage'], nba_no_degree['wage'])\n\ntstat_1c = ttest_1c.statistic\npval_1c = ttest_1c.pvalue\n# END SOLUTION\n\nprint(\"t-stat: {}\".format(tstat_1c))\nprint(\"p-value: {}\".format(pval_1c))",
    "id": "f24dc03a82554ba58d97ec7cdf9bd782",
    "idx": 10,
    "time": "2021-01-18T10:29:03.074Z",
    "type": "execution"
   },
   {
    "id": "f24dc03a82554ba58d97ec7cdf9bd782",
    "time": "2021-01-18T10:29:03.145Z",
    "type": "completion"
   },
   {
    "code": "\"\"\" # BEGIN PROMPT\nnba['productivity'] = ...\n\nnba_guard = ...\nnba_not_guard = ...\n\nttest_1e = scipy.stats.ttest_ind(..., ...)\n\ntstat_1e = ttest_1e.statistic\npval_1e = ttest_1e.pvalue\n\"\"\" # END PROMPT\n# BEGIN SOLUTION NO PROMPT\nnba['productivity'] = nba['points'] / (nba['minutes'] / nba['games'])\n\nnba_guard = nba[nba['guard'] == 1]\nnba_not_guard = nba[nba['guard'] == 0]\n\nttest_1e = scipy.stats.ttest_ind(nba_guard['productivity'], nba_not_guard['productivity'])\n\ntstat_1e = ttest_1e.statistic\npval_1e = ttest_1e.pvalue\n# END SOLUTION\n\nprint(\"t-stat: {}\".format(tstat_1e))\nprint(\"p-value: {}\".format(pval_1e))",
    "id": "2da5d4823b87454298e702f7068e8c83",
    "idx": 14,
    "time": "2021-01-18T10:29:04.040Z",
    "type": "execution"
   },
   {
    "id": "2da5d4823b87454298e702f7068e8c83",
    "time": "2021-01-18T10:29:04.200Z",
    "type": "completion"
   },
   {
    "code": "import numpy as np\nimport pandas as pd\nfrom scipy import stats\nimport matplotlib.pyplot as plt",
    "id": "c077fd8ff0c749a6aa9264a01f374de5",
    "idx": 1,
    "time": "2021-01-18T10:29:54.240Z",
    "type": "execution"
   },
   {
    "id": "c077fd8ff0c749a6aa9264a01f374de5",
    "time": "2021-01-18T10:29:54.576Z",
    "type": "completion"
   },
   {
    "code": "\"\"\" # BEGIN PROMPT\nnba_guard = ...\nnba_not_guard = ...\n\nttest_1a = scipy.stats.ttest_ind(..., ...)\n\ntstat_1a = ttest_1a.statistic\npval_1a = ttest_1a.pvalue\n\"\"\" # END PROMPT\n# BEGIN SOLUTION NO PROMPT\nnba_guard = nba[nba['guard'] == 1]\nnba_not_guard = nba[nba['guard'] == 0]\n\nttest_1a = stats.ttest_ind(nba_guard['wage'], nba_not_guard['wage'])\n\ntstat_1a = ttest_1a.statistic\npval_1a = ttest_1a.pvalue\n# END SOLUTION\n\nprint(\"t-stat: {}\".format(tstat_1a))\nprint(\"p-value: {}\".format(pval_1a))",
    "id": "cee70a4e21134d118f6fd5e8d61db10a",
    "idx": 6,
    "time": "2021-01-18T10:30:03.679Z",
    "type": "execution"
   },
   {
    "id": "cee70a4e21134d118f6fd5e8d61db10a",
    "time": "2021-01-18T10:30:03.771Z",
    "type": "completion"
   },
   {
    "code": "nba = pd.read_stata(\"PS1data(NBA).dta\")\nnba.head()",
    "id": "4e02ffc0b72a40e9874ce8b8316d398d",
    "idx": 4,
    "time": "2021-01-18T10:30:42.527Z",
    "type": "execution"
   },
   {
    "id": "4e02ffc0b72a40e9874ce8b8316d398d",
    "time": "2021-01-18T10:30:42.658Z",
    "type": "completion"
   },
   {
    "code": "\"\"\" # BEGIN PROMPT\nnba_guard = ...\nnba_not_guard = ...\n\nttest_1a = scipy.stats.ttest_ind(..., ...)\n\ntstat_1a = ttest_1a.statistic\npval_1a = ttest_1a.pvalue\n\"\"\" # END PROMPT\n# BEGIN SOLUTION NO PROMPT\nnba_guard = nba[nba['guard'] == 1]\nnba_not_guard = nba[nba['guard'] == 0]\n\nttest_1a = stats.ttest_ind(nba_guard['wage'], nba_not_guard['wage'])\n\ntstat_1a = ttest_1a.statistic\npval_1a = ttest_1a.pvalue\n# END SOLUTION\n\nprint(\"t-stat: {}\".format(tstat_1a))\nprint(\"p-value: {}\".format(pval_1a))",
    "id": "cee70a4e21134d118f6fd5e8d61db10a",
    "idx": 6,
    "time": "2021-01-18T10:30:43.042Z",
    "type": "execution"
   },
   {
    "id": "cee70a4e21134d118f6fd5e8d61db10a",
    "time": "2021-01-18T10:30:43.105Z",
    "type": "completion"
   },
   {
    "code": "\"\"\" # BEGIN PROMPT\nnba['degree'] = ...\n\nnba_degree = ...\nnba_no_degree = ...\n\nttest_1c = scipy.stats.ttest_ind(..., ...)\n\ntstat_1c = ttest_1c.statistic\npval_1c = ttest_1c.pvalue\n\"\"\" # END PROMPT\n# BEGIN SOLUTION NO PROMPT\nnba['degree'] = nba['coll'] >= 4\n\nnba_degree = nba[nba['degree'] == True]\nnba_no_degree = nba[nba['degree'] == False]\n\nttest_1c = stats.ttest_ind(nba_degree['wage'], nba_no_degree['wage'])\n\ntstat_1c = ttest_1c.statistic\npval_1c = ttest_1c.pvalue\n# END SOLUTION\n\nprint(\"t-stat: {}\".format(tstat_1c))\nprint(\"p-value: {}\".format(pval_1c))",
    "id": "f24dc03a82554ba58d97ec7cdf9bd782",
    "idx": 10,
    "time": "2021-01-18T10:30:43.999Z",
    "type": "execution"
   },
   {
    "id": "f24dc03a82554ba58d97ec7cdf9bd782",
    "time": "2021-01-18T10:30:44.068Z",
    "type": "completion"
   },
   {
    "code": "\"\"\" # BEGIN PROMPT\nnba['productivity'] = ...\n\nnba_guard = ...\nnba_not_guard = ...\n\nttest_1e = scipy.stats.ttest_ind(..., ...)\n\ntstat_1e = ttest_1e.statistic\npval_1e = ttest_1e.pvalue\n\"\"\" # END PROMPT\n# BEGIN SOLUTION NO PROMPT\nnba['productivity'] = nba['points'] / (nba['minutes'] / nba['games'])\n\nnba_guard = nba[nba['guard'] == 1]\nnba_not_guard = nba[nba['guard'] == 0]\n\nttest_1e = stats.ttest_ind(nba_guard['productivity'], nba_not_guard['productivity'])\n\ntstat_1e = ttest_1e.statistic\npval_1e = ttest_1e.pvalue\n# END SOLUTION\n\nprint(\"t-stat: {}\".format(tstat_1e))\nprint(\"p-value: {}\".format(pval_1e))",
    "id": "2da5d4823b87454298e702f7068e8c83",
    "idx": 14,
    "time": "2021-01-18T10:30:44.853Z",
    "type": "execution"
   },
   {
    "id": "2da5d4823b87454298e702f7068e8c83",
    "time": "2021-01-18T10:30:45.008Z",
    "type": "completion"
   },
   {
    "code": "\"\"\" # BEGIN PROMPT\nnba[['points', 'assists', 'rebounds']]...\n\"\"\" # END PROMPT\n# BEGIN SOLUTION NO PROMPT\nnba[['points', 'assists', 'rebounds']].corr()\n# END SOLUTION",
    "id": "30afb0cb97244a558ebe345270a1a95d",
    "idx": 18,
    "time": "2021-01-18T10:30:45.710Z",
    "type": "execution"
   },
   {
    "id": "30afb0cb97244a558ebe345270a1a95d",
    "time": "2021-01-18T10:30:45.781Z",
    "type": "completion"
   },
   {
    "code": "\"\"\" # BEGIN PROMPT\nnba['index'] = ...\n\nnba_guard = ...\nnba_not_guard = ...\n\nttest_1h = scipy.stats.ttest_ind(..., ...)\n\ntstat_1h = ttest_1h.statistic\npval_1h = ttest_1h.pvalue\n\"\"\" # END PROMPT\n# BEGIN SOLUTION NO PROMPT\nnba['index'] = nba['points'] + nba['rebounds'] + 2 * nba['assists']\n\nnba_guard = nba[nba['guard'] == 1]\nnba_not_guard = nba[nba['guard'] == 0]\n\nttest_1h = stats.ttest_ind(nba_guard['index'], nba_not_guard['index'])\n\ntstat_1h = ttest_1h.statistic\npval_1h = ttest_1h.pvalue\n# END SOLUTION\n\nprint(\"t-stat: {}\".format(tstat_1h))\nprint(\"p-value: {}\".format(pval_1h))",
    "id": "e5b73a86b2144faf88acd54b6d05f8ea",
    "idx": 20,
    "time": "2021-01-18T10:30:46.316Z",
    "type": "execution"
   },
   {
    "id": "e5b73a86b2144faf88acd54b6d05f8ea",
    "time": "2021-01-18T10:30:46.383Z",
    "type": "completion"
   },
   {
    "code": "\"\"\" # BEGIN PROMPT\nnba['payoff'] = ...\n\nnba_guard = ...\nnba_not_guard = ...\n\nttest_1j = scipy.stats.ttest_ind(..., ...)\n\ntstat_1j = ttest_1j.statistic\npval_1j = ttest_1j.pvalue\n\"\"\" # END PROMPT\n# BEGIN SOLUTION NO PROMPT\nnba['payoff'] = nba['index'] / nba['wage']\n\nnba_guard = nba[nba['guard'] == 1]\nnba_not_guard = nba[nba['guard'] == 0]\n\nttest_1j = stats.ttest_ind(nba_guard['payoff'], nba_not_guard['payoff'])\n\ntstat_1j = ttest_1j.statistic\npval_1j = ttest_1j.pvalue\n# END SOLUTION\n\nprint(\"t-stat: {}\".format(tstat_1j))\nprint(\"p-value: {}\".format(pval_1j))",
    "id": "49e0c29ac3324d018fd3ddcb268cace1",
    "idx": 24,
    "time": "2021-01-18T10:30:47.745Z",
    "type": "execution"
   },
   {
    "id": "49e0c29ac3324d018fd3ddcb268cace1",
    "time": "2021-01-18T10:30:47.812Z",
    "type": "completion"
   },
   {
    "code": "crime = pd.read_stata(\"PS1data(campus crime).dta\")\ncrime.head()",
    "id": "6ff7917995244c5e86a88c19fa2d81e1",
    "idx": 29,
    "time": "2021-01-18T10:34:07.212Z",
    "type": "execution"
   },
   {
    "id": "6ff7917995244c5e86a88c19fa2d81e1",
    "time": "2021-01-18T10:34:07.390Z",
    "type": "completion"
   },
   {
    "code": "\"\"\" # BEGIN PROMPT\nnba[['points', 'assists', 'rebounds']]...\n\"\"\" # END PROMPT\n# BEGIN SOLUTION NO PROMPT\ncrime[['enrollment', 'police', 'crime']].corr()\n# END SOLUTION",
    "id": "d74873905bfd4340b71e4cce6131ea46",
    "idx": 35,
    "time": "2021-01-18T10:37:31.407Z",
    "type": "execution"
   },
   {
    "id": "d74873905bfd4340b71e4cce6131ea46",
    "time": "2021-01-18T10:37:31.548Z",
    "type": "completion"
   },
   {
    "code": "\"\"\" # BEGIN PROMPT\nnba['payoff'] = ...\n\nnba_guard = ...\nnba_not_guard = ...\n\nttest_1j = stats.ttest_ind(..., ...)\n\ntstat_1j = ttest_1j.statistic\npval_1j = ttest_1j.pvalue\n\"\"\" # END PROMPT\n# BEGIN SOLUTION NO PROMPT\ncrime_public = crime[crime['private'] == 0]\ncrime_private = crime[crime['private'] == 1]\n\nttest_2d = stats.ttest_ind(crime_public['crime'], crime_private['crime'])\n\ntstat_2d = ttest_2d.statistic\npval_2d = ttest_2d.pvalue\n# END SOLUTION\n\nprint(\"t-stat: {}\".format(tstat_1j))\nprint(\"p-value: {}\".format(pval_1j))",
    "id": "c9d2cf08e29b4f5a820b0cedce77a3e6",
    "idx": 39,
    "time": "2021-01-18T10:46:42.327Z",
    "type": "execution"
   },
   {
    "id": "c9d2cf08e29b4f5a820b0cedce77a3e6",
    "time": "2021-01-18T10:46:42.625Z",
    "type": "completion"
   },
   {
    "code": "\"\"\" # BEGIN PROMPT\nnba['payoff'] = ...\n\nnba_guard = ...\nnba_not_guard = ...\n\nttest_1j = stats.ttest_ind(..., ...)\n\ntstat_1j = ttest_1j.statistic\npval_1j = ttest_1j.pvalue\n\"\"\" # END PROMPT\n# BEGIN SOLUTION NO PROMPT\ncrime_public = crime[crime['private'] == 0]\ncrime_private = crime[crime['private'] == 1]\n\nttest_2d = stats.ttest_ind(crime_public['crime'], crime_private['crime'], equal_var=False)\n\ntstat_2d = ttest_2d.statistic\npval_2d = ttest_2d.pvalue\n# END SOLUTION\n\nprint(\"t-stat: {}\".format(tstat_1j))\nprint(\"p-value: {}\".format(pval_1j))",
    "id": "c9d2cf08e29b4f5a820b0cedce77a3e6",
    "idx": 39,
    "time": "2021-01-18T10:47:23.344Z",
    "type": "execution"
   },
   {
    "id": "c9d2cf08e29b4f5a820b0cedce77a3e6",
    "time": "2021-01-18T10:47:23.417Z",
    "type": "completion"
   },
   {
    "code": "crime = pd.read_stata(\"PS1data(campus crime).dta\")\ncrime.head()",
    "id": "6ff7917995244c5e86a88c19fa2d81e1",
    "idx": 29,
    "time": "2021-01-18T10:48:59.542Z",
    "type": "execution"
   },
   {
    "id": "6ff7917995244c5e86a88c19fa2d81e1",
    "time": "2021-01-18T10:48:59.741Z",
    "type": "completion"
   },
   {
    "code": "# This code cell is for question 2.a.\n",
    "id": "e46e3004a663426b85c8e39cc37dcdb0",
    "idx": 30,
    "time": "2021-01-18T10:49:01.196Z",
    "type": "execution"
   },
   {
    "id": "e46e3004a663426b85c8e39cc37dcdb0",
    "time": "2021-01-18T10:49:01.255Z",
    "type": "completion"
   },
   {
    "code": "\"\"\" # BEGIN PROMPT\ncrime[['enrollment', 'police', 'crime']]...\n\"\"\" # END PROMPT\n# BEGIN SOLUTION NO PROMPT\ncrime[['enrollment', 'police', 'crime']].corr()\n# END SOLUTION",
    "id": "d74873905bfd4340b71e4cce6131ea46",
    "idx": 35,
    "time": "2021-01-18T10:49:04.029Z",
    "type": "execution"
   },
   {
    "id": "d74873905bfd4340b71e4cce6131ea46",
    "time": "2021-01-18T10:49:04.151Z",
    "type": "completion"
   },
   {
    "code": "\"\"\" # BEGIN PROMPT\nnba['payoff'] = ...\n\nnba_guard = ...\nnba_not_guard = ...\n\nttest_1j = stats.ttest_ind(..., ...)\n\ntstat_1j = ttest_1j.statistic\npval_1j = ttest_1j.pvalue\n\"\"\" # END PROMPT\n# BEGIN SOLUTION NO PROMPT\ncrime_public = crime[crime['private'] == 0]\ncrime_private = crime[crime['private'] == 1]\n\nttest_2d = stats.ttest_ind(crime_public['crime'], crime_private['crime'], equal_var=False)\n\ntstat_2d = ttest_2d.statistic\npval_2d = ttest_2d.pvalue\n# END SOLUTION\n\nprint(\"t-stat: {}\".format(tstat_1j))\nprint(\"p-value: {}\".format(pval_1j))",
    "id": "c9d2cf08e29b4f5a820b0cedce77a3e6",
    "idx": 39,
    "time": "2021-01-18T10:49:11.342Z",
    "type": "execution"
   },
   {
    "id": "c9d2cf08e29b4f5a820b0cedce77a3e6",
    "time": "2021-01-18T10:49:11.420Z",
    "type": "completion"
   },
   {
    "code": "\"\"\" # BEGIN PROMPT\nnba['payoff'] = ...\n\nnba_guard = ...\nnba_not_guard = ...\n\nttest_1j = stats.ttest_ind(..., ...)\n\ntstat_1j = ttest_1j.statistic\npval_1j = ttest_1j.pvalue\n\"\"\" # END PROMPT\n# BEGIN SOLUTION NO PROMPT\ncrime_public = crime[crime['private'] == 0]\ncrime_private = crime[crime['private'] == 1]\n\nttest_2d = stats.ttest_ind(crime_public['crime'], crime_private['crime'], equal_var=False)\n\ntstat_2d = ttest_2d.statistic\npval_2d = ttest_2d.pvalue\n# END SOLUTION\n\nprint(\"t-stat: {}\".format(tstat_2d))\nprint(\"p-value: {}\".format(pval_2d))",
    "id": "c9d2cf08e29b4f5a820b0cedce77a3e6",
    "idx": 39,
    "time": "2021-01-18T10:49:19.049Z",
    "type": "execution"
   },
   {
    "id": "c9d2cf08e29b4f5a820b0cedce77a3e6",
    "time": "2021-01-18T10:49:19.113Z",
    "type": "completion"
   },
   {
    "code": "\"\"\" # BEGIN PROMPT\nnba['payoff'] = ...\n\nnba_guard = ...\nnba_not_guard = ...\n\nttest_1j = stats.ttest_ind(..., ...)\n\ntstat_1j = ttest_1j.statistic\npval_1j = ttest_1j.pvalue\n\"\"\" # END PROMPT\n# BEGIN SOLUTION NO PROMPT\ncrime_public = crime[crime['private'] == 0]\ncrime_private = crime[crime['private'] == 1]\n\nttest_2d_unequal_var = stats.ttest_ind(crime_public['crime'], crime_private['crime'], equal_var=False)\n\ntstat_2d_unequal = ttest_2d_unequal_var.statistic\npval_2d_unequal = ttest_2d_unequal_var.pvalue\n\nttest_2d_equal_var = stats.ttest_ind(crime_public['crime'], crime_private['crime'])\n\ntstat_2d_equal = ttest_2d_equal_var.statistic\npval_2d_equal = ttest_2d_equal_var.pvalue\n# END SOLUTION\n\nprint(\"t-stat unequal variance: {}\".format(tstat_2d_unequal))\nprint(\"p-value unequal variance: {}\".format(pval_2d_unequal))\nprint(\"t-stat equal variance: {}\".format(tstat_2d_equal))\nprint(\"p-value equal variance: {}\".format(pval_2d_equal))",
    "id": "c9d2cf08e29b4f5a820b0cedce77a3e6",
    "idx": 39,
    "time": "2021-01-18T10:51:42.603Z",
    "type": "execution"
   },
   {
    "id": "c9d2cf08e29b4f5a820b0cedce77a3e6",
    "time": "2021-01-18T10:51:43.089Z",
    "type": "completion"
   },
   {
    "code": "\"\"\" # BEGIN PROMPT\ncrime_public = ...\ncrime_private = ...\n\nttest_2d_unequal_var = stats.ttest_ind(..., ..., ...)\n\ntstat_2d_unequal = ttest_2d_unequal_var.statistic\npval_2d_unequal = ttest_2d_unequal_var.pvalue\n\nttest_2d_equal_var = stats.ttest_ind(..., ...)\n\ntstat_2d_equal = ttest_2d_equal_var.statistic\npval_2d_equal = ttest_2d_equal_var.pvalue\n\"\"\" # END PROMPT\n# BEGIN SOLUTION NO PROMPT\ncrime['crimerate'] = 1000 * crime['crime'] / crime['enrollment']\n\ncrime_public = crime[crime['private'] == 0]\ncrime_private = crime[crime['private'] == 1]\n\nttest_2d_unequal_var = stats.ttest_ind(crime_public['crimerate'], crime_private['crimerate'], equal_var=False)\n\ntstat_2d_unequal = ttest_2d_unequal_var.statistic\npval_2d_unequal = ttest_2d_unequal_var.pvalue\n\nttest_2d_equal_var = stats.ttest_ind(crime_public['crimerate'], crime_private['crimerate'])\n\ntstat_2d_equal = ttest_2d_equal_var.statistic\npval_2d_equal = ttest_2d_equal_var.pvalue\n# END SOLUTION\n\nprint(\"t-stat unequal variance: {}\".format(tstat_2d_unequal))\nprint(\"p-value unequal variance: {}\".format(pval_2d_unequal))\nprint(\"t-stat equal variance: {}\".format(tstat_2d_equal))\nprint(\"p-value equal variance: {}\".format(pval_2d_equal))",
    "id": "234486f94b4d47e189fdf89ff048a1e4",
    "idx": 43,
    "time": "2021-01-18T10:54:33.916Z",
    "type": "execution"
   },
   {
    "id": "234486f94b4d47e189fdf89ff048a1e4",
    "time": "2021-01-18T10:54:34.029Z",
    "type": "completion"
   },
   {
    "code": "\"\"\" # BEGIN PROMPT\ncrime_public = ...\ncrime_private = ...\n\nttest_2d_unequal_var = stats.ttest_ind(..., ..., ...)\n\ntstat_2d_unequal = ttest_2d_unequal_var.statistic\npval_2d_unequal = ttest_2d_unequal_var.pvalue\n\nttest_2d_equal_var = stats.ttest_ind(..., ...)\n\ntstat_2d_equal = ttest_2d_equal_var.statistic\npval_2d_equal = ttest_2d_equal_var.pvalue\n\"\"\" # END PROMPT\n# BEGIN SOLUTION NO PROMPT\ncrime['crimerate'] = 1000 * crime['crime'] / crime['enrollment']\n\ncrime_public = crime[crime['private'] == 0]\ncrime_private = crime[crime['private'] == 1]\n\nttest_2f_unequal_var = stats.ttest_ind(crime_public['crimerate'], crime_private['crimerate'], equal_var=False)\n\ntstat_2f_unequal = ttest_2f_unequal_var.statistic\npval_2f_unequal = ttest_2f_unequal_var.pvalue\n\nttest_2f_equal_var = stats.ttest_ind(crime_public['crimerate'], crime_private['crimerate'])\n\ntstat_2f_equal = ttest_2f_equal_var.statistic\npval_2f_equal = ttest_2f_equal_var.pvalue\n# END SOLUTION\n\nprint(\"t-stat unequal variance: {}\".format(tstat_2f_unequal))\nprint(\"p-value unequal variance: {}\".format(pval_2f_unequal))\nprint(\"t-stat equal variance: {}\".format(tstat_2f_equal))\nprint(\"p-value equal variance: {}\".format(pval_2f_equal))",
    "id": "234486f94b4d47e189fdf89ff048a1e4",
    "idx": 43,
    "time": "2021-01-18T10:55:16.621Z",
    "type": "execution"
   },
   {
    "id": "234486f94b4d47e189fdf89ff048a1e4",
    "time": "2021-01-18T10:55:16.732Z",
    "type": "completion"
   },
   {
    "code": "\"\"\" # BEGIN PROMPT\ncrime_public = ...\ncrime_private = ...\n\nttest_2d_unequal_var = stats.ttest_ind(..., ..., ...)\n\ntstat_2d_unequal = ttest_2d_unequal_var.statistic\npval_2d_unequal = ttest_2d_unequal_var.pvalue\n\nttest_2d_equal_var = stats.ttest_ind(..., ...)\n\ntstat_2d_equal = ttest_2d_equal_var.statistic\npval_2d_equal = ttest_2d_equal_var.pvalue\n\"\"\" # END PROMPT\n# BEGIN SOLUTION NO PROMPT\ncrime['crimerate'] = 1000 * (crime['crime'] / crime['enrollment'])\n\ncrime_public = crime[crime['private'] == 0]\ncrime_private = crime[crime['private'] == 1]\n\nttest_2f_unequal_var = stats.ttest_ind(crime_public['crimerate'], crime_private['crimerate'], equal_var=False)\n\ntstat_2f_unequal = ttest_2f_unequal_var.statistic\npval_2f_unequal = ttest_2f_unequal_var.pvalue\n\nttest_2f_equal_var = stats.ttest_ind(crime_public['crimerate'], crime_private['crimerate'])\n\ntstat_2f_equal = ttest_2f_equal_var.statistic\npval_2f_equal = ttest_2f_equal_var.pvalue\n# END SOLUTION\n\nprint(\"t-stat unequal variance: {}\".format(tstat_2f_unequal))\nprint(\"p-value unequal variance: {}\".format(pval_2f_unequal))\nprint(\"t-stat equal variance: {}\".format(tstat_2f_equal))\nprint(\"p-value equal variance: {}\".format(pval_2f_equal))",
    "id": "234486f94b4d47e189fdf89ff048a1e4",
    "idx": 43,
    "time": "2021-01-18T10:55:37.343Z",
    "type": "execution"
   },
   {
    "id": "234486f94b4d47e189fdf89ff048a1e4",
    "time": "2021-01-18T10:55:37.452Z",
    "type": "completion"
   },
   {
    "code": "import numpy as np\nimport pandas as pd\nfrom scipy import stats\nimport matplotlib.pyplot as plt",
    "id": "458e59d49de5470a90af3fc5deee55c5",
    "idx": 1,
    "time": "2021-01-18T19:53:00.499Z",
    "type": "execution"
   },
   {
    "code": "nba = pd.read_stata(\"PS1data(NBA).dta\")\nnba.head()",
    "id": "471a6507023840699078daa57f905478",
    "idx": 4,
    "time": "2021-01-18T19:53:01.027Z",
    "type": "execution"
   },
   {
    "code": "\"\"\" # BEGIN PROMPT\nnba_guard = ...\nnba_not_guard = ...\n\nttest_1a = stats.ttest_ind(..., ...)\n\ntstat_1a = ttest_1a.statistic\npval_1a = ttest_1a.pvalue\n\"\"\" # END PROMPT\n# BEGIN SOLUTION NO PROMPT\nnba_guard = nba[nba['guard'] == 1]\nnba_not_guard = nba[nba['guard'] == 0]\n\nttest_1a = stats.ttest_ind(nba_guard['wage'], nba_not_guard['wage'])\n\ntstat_1a = ttest_1a.statistic\npval_1a = ttest_1a.pvalue\n# END SOLUTION\n\nprint(\"t-stat: {}\".format(tstat_1a))\nprint(\"p-value: {}\".format(pval_1a))",
    "id": "a1eec07cfbe84189b4233e64dd52c3bb",
    "idx": 6,
    "time": "2021-01-18T19:53:01.351Z",
    "type": "execution"
   },
   {
    "id": "458e59d49de5470a90af3fc5deee55c5",
    "time": "2021-01-18T19:53:01.408Z",
    "type": "completion"
   },
   {
    "id": "471a6507023840699078daa57f905478",
    "time": "2021-01-18T19:53:01.446Z",
    "type": "completion"
   },
   {
    "id": "a1eec07cfbe84189b4233e64dd52c3bb",
    "time": "2021-01-18T19:53:01.505Z",
    "type": "completion"
   },
   {
    "code": "\"\"\" # BEGIN PROMPT\nnba['degree'] = ...\n\nnba_degree = ...\nnba_no_degree = ...\n\nttest_1c = stats.ttest_ind(..., ...)\n\ntstat_1c = ttest_1c.statistic\npval_1c = ttest_1c.pvalue\n\"\"\" # END PROMPT\n# BEGIN SOLUTION NO PROMPT\nnba['degree'] = nba['coll'] >= 4\n\nnba_degree = nba[nba['degree'] == True]\nnba_no_degree = nba[nba['degree'] == False]\n\nttest_1c = stats.ttest_ind(nba_degree['wage'], nba_no_degree['wage'])\n\ntstat_1c = ttest_1c.statistic\npval_1c = ttest_1c.pvalue\n# END SOLUTION\n\nprint(\"t-stat: {}\".format(tstat_1c))\nprint(\"p-value: {}\".format(pval_1c))",
    "id": "46952d74fc6b43ae81de15654aa6189b",
    "idx": 10,
    "time": "2021-01-18T19:53:01.959Z",
    "type": "execution"
   },
   {
    "id": "46952d74fc6b43ae81de15654aa6189b",
    "time": "2021-01-18T19:53:02.029Z",
    "type": "completion"
   },
   {
    "code": "\"\"\" # BEGIN PROMPT\nnba['productivity'] = ...\n\nnba_guard = ...\nnba_not_guard = ...\n\nttest_1e = stats.ttest_ind(..., ...)\n\ntstat_1e = ttest_1e.statistic\npval_1e = ttest_1e.pvalue\n\"\"\" # END PROMPT\n# BEGIN SOLUTION NO PROMPT\nnba['productivity'] = nba['points'] / (nba['minutes'] / nba['games'])\n\nnba_guard = nba[nba['guard'] == 1]\nnba_not_guard = nba[nba['guard'] == 0]\n\nttest_1e = stats.ttest_ind(nba_guard['productivity'], nba_not_guard['productivity'])\n\ntstat_1e = ttest_1e.statistic\npval_1e = ttest_1e.pvalue\n# END SOLUTION\n\nprint(\"t-stat: {}\".format(tstat_1e))\nprint(\"p-value: {}\".format(pval_1e))",
    "id": "6133c16b211b479d8d905c0f0f5d640e",
    "idx": 14,
    "time": "2021-01-18T19:53:02.635Z",
    "type": "execution"
   },
   {
    "id": "6133c16b211b479d8d905c0f0f5d640e",
    "time": "2021-01-18T19:53:02.715Z",
    "type": "completion"
   },
   {
    "code": "\"\"\" # BEGIN PROMPT\nnba[['points', 'assists', 'rebounds']]...\n\"\"\" # END PROMPT\n# BEGIN SOLUTION NO PROMPT\nnba[['points', 'assists', 'rebounds']].corr()\n# END SOLUTION",
    "id": "4b06500ee6404aeab3872f3a3bf3eeca",
    "idx": 18,
    "time": "2021-01-18T19:53:03.523Z",
    "type": "execution"
   },
   {
    "id": "4b06500ee6404aeab3872f3a3bf3eeca",
    "time": "2021-01-18T19:53:03.605Z",
    "type": "completion"
   },
   {
    "code": "\"\"\" # BEGIN PROMPT\nnba['index'] = ...\n\nnba_guard = ...\nnba_not_guard = ...\n\nttest_1h = stats.ttest_ind(..., ...)\n\ntstat_1h = ttest_1h.statistic\npval_1h = ttest_1h.pvalue\n\"\"\" # END PROMPT\n# BEGIN SOLUTION NO PROMPT\nnba['index'] = nba['points'] + nba['rebounds'] + 2 * nba['assists']\n\nnba_guard = nba[nba['guard'] == 1]\nnba_not_guard = nba[nba['guard'] == 0]\n\nttest_1h = stats.ttest_ind(nba_guard['index'], nba_not_guard['index'])\n\ntstat_1h = ttest_1h.statistic\npval_1h = ttest_1h.pvalue\n# END SOLUTION\n\nprint(\"t-stat: {}\".format(tstat_1h))\nprint(\"p-value: {}\".format(pval_1h))",
    "id": "eb2d2eb45db540bb88cd4b1c61221145",
    "idx": 20,
    "time": "2021-01-18T19:53:04.131Z",
    "type": "execution"
   },
   {
    "id": "eb2d2eb45db540bb88cd4b1c61221145",
    "time": "2021-01-18T19:53:04.224Z",
    "type": "completion"
   },
   {
    "code": "\"\"\" # BEGIN PROMPT\nnba['payoff'] = ...\n\nnba_guard = ...\nnba_not_guard = ...\n\nttest_1j = stats.ttest_ind(..., ...)\n\ntstat_1j = ttest_1j.statistic\npval_1j = ttest_1j.pvalue\n\"\"\" # END PROMPT\n# BEGIN SOLUTION NO PROMPT\nnba['payoff'] = nba['index'] / nba['wage']\n\nnba_guard = nba[nba['guard'] == 1]\nnba_not_guard = nba[nba['guard'] == 0]\n\nttest_1j = stats.ttest_ind(nba_guard['payoff'], nba_not_guard['payoff'])\n\ntstat_1j = ttest_1j.statistic\npval_1j = ttest_1j.pvalue\n# END SOLUTION\n\nprint(\"t-stat: {}\".format(tstat_1j))\nprint(\"p-value: {}\".format(pval_1j))",
    "id": "70d9f35319124f5aac04ecc23ecafd1e",
    "idx": 24,
    "time": "2021-01-18T19:53:05.161Z",
    "type": "execution"
   },
   {
    "id": "70d9f35319124f5aac04ecc23ecafd1e",
    "time": "2021-01-18T19:53:05.223Z",
    "type": "completion"
   },
   {
    "code": "crime = pd.read_stata(\"PS1data(campus crime).dta\")\ncrime.head()",
    "id": "271fcec5eb1e48498bb392a05d18c8e0",
    "idx": 29,
    "time": "2021-01-18T19:53:06.280Z",
    "type": "execution"
   },
   {
    "id": "271fcec5eb1e48498bb392a05d18c8e0",
    "time": "2021-01-18T19:53:06.365Z",
    "type": "completion"
   },
   {
    "code": "# This code cell is for question 2.a.\n",
    "id": "e8782cb7cb80404fb831f227614a421a",
    "idx": 30,
    "time": "2021-01-18T19:53:06.460Z",
    "type": "execution"
   },
   {
    "id": "e8782cb7cb80404fb831f227614a421a",
    "time": "2021-01-18T19:53:06.517Z",
    "type": "completion"
   },
   {
    "code": "\"\"\" # BEGIN PROMPT\ncrime[['enrollment', 'police', 'crime']]...\n\"\"\" # END PROMPT\n# BEGIN SOLUTION NO PROMPT\ncrime[['enrollment', 'police', 'crime']].corr()\n# END SOLUTION",
    "id": "3a6edb7310a549cc859171c11aca490b",
    "idx": 35,
    "time": "2021-01-18T19:53:08.193Z",
    "type": "execution"
   },
   {
    "id": "3a6edb7310a549cc859171c11aca490b",
    "time": "2021-01-18T19:53:08.268Z",
    "type": "completion"
   },
   {
    "code": "\"\"\" # BEGIN PROMPT\ncrime_public = ...\ncrime_private = ...\n\nttest_2d_unequal_var = stats.ttest_ind(..., ..., ...)\n\ntstat_2d_unequal = ttest_2d_unequal_var.statistic\npval_2d_unequal = ttest_2d_unequal_var.pvalue\n\nttest_2d_equal_var = stats.ttest_ind(..., ...)\n\ntstat_2d_equal = ttest_2d_equal_var.statistic\npval_2d_equal = ttest_2d_equal_var.pvalue\n\"\"\" # END PROMPT\n# BEGIN SOLUTION NO PROMPT\ncrime_public = crime[crime['private'] == 0]\ncrime_private = crime[crime['private'] == 1]\n\nttest_2d_unequal_var = stats.ttest_ind(crime_public['crime'], crime_private['crime'], equal_var=False)\n\ntstat_2d_unequal = ttest_2d_unequal_var.statistic\npval_2d_unequal = ttest_2d_unequal_var.pvalue\n\nttest_2d_equal_var = stats.ttest_ind(crime_public['crime'], crime_private['crime'])\n\ntstat_2d_equal = ttest_2d_equal_var.statistic\npval_2d_equal = ttest_2d_equal_var.pvalue\n# END SOLUTION\n\nprint(\"t-stat unequal variance: {}\".format(tstat_2d_unequal))\nprint(\"p-value unequal variance: {}\".format(pval_2d_unequal))\nprint(\"t-stat equal variance: {}\".format(tstat_2d_equal))\nprint(\"p-value equal variance: {}\".format(pval_2d_equal))",
    "id": "8266b61efc5e451d8f584a28cf9f129d",
    "idx": 39,
    "time": "2021-01-18T19:53:09.025Z",
    "type": "execution"
   },
   {
    "id": "8266b61efc5e451d8f584a28cf9f129d",
    "time": "2021-01-18T19:53:09.184Z",
    "type": "completion"
   },
   {
    "code": "\"\"\" # BEGIN PROMPT\ncrime['crimerate'] = ...\n\ncrime_public = ...\ncrime_private = ...\n\nttest_2f_unequal_var = stats.ttest_ind(..., ..., ...)\n\ntstat_2f_unequal = ttest_2f_unequal_var.statistic\npval_2f_unequal = ttest_2f_unequal_var.pvalue\n\nttest_2f_equal_var = stats.ttest_ind(..., ...)\n\ntstat_2f_equal = ttest_2f_equal_var.statistic\npval_2f_equal = ttest_2f_equal_var.pvalue\n\"\"\" # END PROMPT\n# BEGIN SOLUTION NO PROMPT\ncrime['crimerate'] = 1000 * (crime['crime'] / crime['enrollment'])\n\ncrime_public = crime[crime['private'] == 0]\ncrime_private = crime[crime['private'] == 1]\n\nttest_2f_unequal_var = stats.ttest_ind(crime_public['crimerate'], crime_private['crimerate'], equal_var=False)\n\ntstat_2f_unequal = ttest_2f_unequal_var.statistic\npval_2f_unequal = ttest_2f_unequal_var.pvalue\n\nttest_2f_equal_var = stats.ttest_ind(crime_public['crimerate'], crime_private['crimerate'])\n\ntstat_2f_equal = ttest_2f_equal_var.statistic\npval_2f_equal = ttest_2f_equal_var.pvalue\n# END SOLUTION\n\nprint(\"t-stat unequal variance: {}\".format(tstat_2f_unequal))\nprint(\"p-value unequal variance: {}\".format(pval_2f_unequal))\nprint(\"t-stat equal variance: {}\".format(tstat_2f_equal))\nprint(\"p-value equal variance: {}\".format(pval_2f_equal))",
    "id": "d87885a26b4b479187f9a4e7aba7902d",
    "idx": 43,
    "time": "2021-01-18T19:53:09.766Z",
    "type": "execution"
   },
   {
    "id": "d87885a26b4b479187f9a4e7aba7902d",
    "time": "2021-01-18T19:53:09.875Z",
    "type": "completion"
   },
   {
    "code": "pollution = pd.read_stata(\"PS1data(pollution).dta\")\npollution.head()",
    "id": "a3f9d84c8787401c8980230ef00dbe19",
    "idx": 62,
    "time": "2021-01-18T19:53:14.442Z",
    "type": "execution"
   },
   {
    "id": "a3f9d84c8787401c8980230ef00dbe19",
    "time": "2021-01-18T19:53:14.546Z",
    "type": "completion"
   },
   {
    "code": "# This code cell is for question 4.a.\n",
    "id": "79e1fd638c334f9a8aecc76bf0c53af8",
    "idx": 63,
    "time": "2021-01-18T19:53:14.875Z",
    "type": "execution"
   },
   {
    "id": "79e1fd638c334f9a8aecc76bf0c53af8",
    "time": "2021-01-18T19:53:14.931Z",
    "type": "completion"
   },
   {
    "code": "\"\"\" # BEGIN PROMPT\nnba['payoff'] = ...\n\nnba_guard = ...\nnba_not_guard = ...\n\nttest_1j = stats.ttest_ind(..., ...)\n\ntstat_1j = ttest_1j.statistic\npval_1j = ttest_1j.pvalue\n\"\"\" # END PROMPT\n# BEGIN SOLUTION NO PROMPT\npollution_oecd = pollution[pollution['oecd'] == 1]\npollution_no_oecd = pollution[pollution['oecd'] == 0]\n\nttest_4b = stats.ttest_ind(pollution_oecd['co2pc'], pollution_no_oecd['co2pc'], equal_var=False)\n\ntstat_4b = ttest_4b.statistic\npval_4b = ttest_4b.pvalue\n# END SOLUTION\n\nprint(\"t-stat: {}\".format(tstat_4b))\nprint(\"p-value: {}\".format(pval_4b))",
    "id": "156e8f7abffd4eed84ebd8760d28eb06",
    "idx": 67,
    "time": "2021-01-18T19:53:16.483Z",
    "type": "execution"
   },
   {
    "id": "156e8f7abffd4eed84ebd8760d28eb06",
    "time": "2021-01-18T19:53:16.551Z",
    "type": "completion"
   },
   {
    "code": "pollution_oecd",
    "id": "c4a0b90c525044ff90d679915b61f92b",
    "idx": 68,
    "time": "2021-01-18T19:53:31.278Z",
    "type": "execution"
   },
   {
    "id": "c4a0b90c525044ff90d679915b61f92b",
    "time": "2021-01-18T19:53:31.403Z",
    "type": "completion"
   },
   {
    "code": "pollution_no_oecd",
    "id": "c4a0b90c525044ff90d679915b61f92b",
    "idx": 68,
    "time": "2021-01-18T19:53:40.203Z",
    "type": "execution"
   },
   {
    "id": "c4a0b90c525044ff90d679915b61f92b",
    "time": "2021-01-18T19:53:40.352Z",
    "type": "completion"
   },
   {
    "code": "ttest_4b",
    "id": "c4a0b90c525044ff90d679915b61f92b",
    "idx": 68,
    "time": "2021-01-18T19:53:54.983Z",
    "type": "execution"
   },
   {
    "id": "c4a0b90c525044ff90d679915b61f92b",
    "time": "2021-01-18T19:53:55.137Z",
    "type": "completion"
   },
   {
    "code": "pollution_oecd['co2pc']",
    "id": "c4a0b90c525044ff90d679915b61f92b",
    "idx": 68,
    "time": "2021-01-18T19:54:07.919Z",
    "type": "execution"
   },
   {
    "id": "c4a0b90c525044ff90d679915b61f92b",
    "time": "2021-01-18T19:54:08.011Z",
    "type": "completion"
   },
   {
    "code": "pollution_no_oecd['co2pc']",
    "id": "c4a0b90c525044ff90d679915b61f92b",
    "idx": 68,
    "time": "2021-01-18T19:54:15.447Z",
    "type": "execution"
   },
   {
    "id": "c4a0b90c525044ff90d679915b61f92b",
    "time": "2021-01-18T19:54:15.514Z",
    "type": "completion"
   },
   {
    "code": "pollution = pd.read_stata(\"PS1data(pollution).dta\").dropna(subset='co2pc')\npollution.head()",
    "id": "a3f9d84c8787401c8980230ef00dbe19",
    "idx": 62,
    "time": "2021-01-18T19:55:52.230Z",
    "type": "execution"
   },
   {
    "id": "a3f9d84c8787401c8980230ef00dbe19",
    "time": "2021-01-18T19:55:52.464Z",
    "type": "completion"
   },
   {
    "code": "pollution = pd.read_stata(\"PS1data(pollution).dta\").dropna(subset=['co2pc'])\npollution.head()",
    "id": "a3f9d84c8787401c8980230ef00dbe19",
    "idx": 62,
    "time": "2021-01-18T19:56:07.901Z",
    "type": "execution"
   },
   {
    "id": "a3f9d84c8787401c8980230ef00dbe19",
    "time": "2021-01-18T19:56:08.021Z",
    "type": "completion"
   },
   {
    "code": "\"\"\" # BEGIN PROMPT\nnba['payoff'] = ...\n\nnba_guard = ...\nnba_not_guard = ...\n\nttest_1j = stats.ttest_ind(..., ...)\n\ntstat_1j = ttest_1j.statistic\npval_1j = ttest_1j.pvalue\n\"\"\" # END PROMPT\n# BEGIN SOLUTION NO PROMPT\npollution_oecd = pollution[pollution['oecd'] == 1]\npollution_no_oecd = pollution[pollution['oecd'] == 0]\n\nttest_4b = stats.ttest_ind(pollution_oecd['co2pc'], pollution_no_oecd['co2pc'], equal_var=False)\n\ntstat_4b = ttest_4b.statistic\npval_4b = ttest_4b.pvalue\n# END SOLUTION\n\nprint(\"t-stat: {}\".format(tstat_4b))\nprint(\"p-value: {}\".format(pval_4b))",
    "id": "156e8f7abffd4eed84ebd8760d28eb06",
    "idx": 67,
    "time": "2021-01-18T19:56:12.840Z",
    "type": "execution"
   },
   {
    "id": "156e8f7abffd4eed84ebd8760d28eb06",
    "time": "2021-01-18T19:56:12.947Z",
    "type": "completion"
   },
   {
    "code": "pollution['log_gdp'] = np.log(pollution['gdp'])\npollution['log_co2'] = np.log(pollution['co2'])\n\npollution.head()",
    "id": "29703a1543404f2c804f455161c19899",
    "idx": 72,
    "time": "2021-01-18T20:02:03.137Z",
    "type": "execution"
   },
   {
    "id": "29703a1543404f2c804f455161c19899",
    "time": "2021-01-18T20:02:03.216Z",
    "type": "completion"
   },
   {
    "code": "pollution = pd.read_stata(\"PS1data(pollution).dta\").dropna(subset=['co2pc', 'gdp'])\npollution.head()",
    "id": "a3f9d84c8787401c8980230ef00dbe19",
    "idx": 62,
    "time": "2021-01-18T20:02:15.501Z",
    "type": "execution"
   },
   {
    "id": "a3f9d84c8787401c8980230ef00dbe19",
    "time": "2021-01-18T20:02:15.681Z",
    "type": "completion"
   },
   {
    "code": "# This code cell is for question 4.a.\n",
    "id": "79e1fd638c334f9a8aecc76bf0c53af8",
    "idx": 63,
    "time": "2021-01-18T20:02:18.909Z",
    "type": "execution"
   },
   {
    "id": "79e1fd638c334f9a8aecc76bf0c53af8",
    "time": "2021-01-18T20:02:18.979Z",
    "type": "completion"
   },
   {
    "code": "\"\"\" # BEGIN PROMPT\npollution_oecd = ...\npollution_no_oecd = ...\n\nttest_4b = stats.ttest_ind(..., ..., ...)\n\ntstat_4b = ttest_4b.statistic\npval_4b = ttest_4b.pvalue\n\"\"\" # END PROMPT\n# BEGIN SOLUTION NO PROMPT\npollution_oecd = pollution[pollution['oecd'] == 1]\npollution_no_oecd = pollution[pollution['oecd'] == 0]\n\nttest_4b = stats.ttest_ind(pollution_oecd['co2pc'], pollution_no_oecd['co2pc'], equal_var=False)\n\ntstat_4b = ttest_4b.statistic\npval_4b = ttest_4b.pvalue\n# END SOLUTION\n\nprint(\"t-stat: {}\".format(tstat_4b))\nprint(\"p-value: {}\".format(pval_4b))",
    "id": "156e8f7abffd4eed84ebd8760d28eb06",
    "idx": 67,
    "time": "2021-01-18T20:02:22.128Z",
    "type": "execution"
   },
   {
    "id": "156e8f7abffd4eed84ebd8760d28eb06",
    "time": "2021-01-18T20:02:22.192Z",
    "type": "completion"
   },
   {
    "code": "pollution = pd.read_stata(\"PS1data(pollution).dta\").dropna(subset=['co2pc'])\npollution.head()",
    "id": "a3f9d84c8787401c8980230ef00dbe19",
    "idx": 62,
    "time": "2021-01-18T20:02:31.836Z",
    "type": "execution"
   },
   {
    "id": "a3f9d84c8787401c8980230ef00dbe19",
    "time": "2021-01-18T20:02:32.032Z",
    "type": "completion"
   },
   {
    "code": "# This code cell is for question 4.a.\n",
    "id": "79e1fd638c334f9a8aecc76bf0c53af8",
    "idx": 63,
    "time": "2021-01-18T20:02:33.512Z",
    "type": "execution"
   },
   {
    "id": "79e1fd638c334f9a8aecc76bf0c53af8",
    "time": "2021-01-18T20:02:33.571Z",
    "type": "completion"
   },
   {
    "code": "\"\"\" # BEGIN PROMPT\npollution_oecd = ...\npollution_no_oecd = ...\n\nttest_4b = stats.ttest_ind(..., ..., ...)\n\ntstat_4b = ttest_4b.statistic\npval_4b = ttest_4b.pvalue\n\"\"\" # END PROMPT\n# BEGIN SOLUTION NO PROMPT\npollution_oecd = pollution[pollution['oecd'] == 1]\npollution_no_oecd = pollution[pollution['oecd'] == 0]\n\nttest_4b = stats.ttest_ind(pollution_oecd['co2pc'], pollution_no_oecd['co2pc'], equal_var=False)\n\ntstat_4b = ttest_4b.statistic\npval_4b = ttest_4b.pvalue\n# END SOLUTION\n\nprint(\"t-stat: {}\".format(tstat_4b))\nprint(\"p-value: {}\".format(pval_4b))",
    "id": "156e8f7abffd4eed84ebd8760d28eb06",
    "idx": 67,
    "time": "2021-01-18T20:02:39.485Z",
    "type": "execution"
   },
   {
    "id": "156e8f7abffd4eed84ebd8760d28eb06",
    "time": "2021-01-18T20:02:39.548Z",
    "type": "completion"
   },
   {
    "code": "\"\"\" # BEGIN PROMPT\npollution['log_gdp'] = ...\npollution['log_co2'] = ...\n\"\"\" # END PROMPT\n# BEGIN SOLUTION NO PROMPT\npollution['log_gdp'] = np.log(pollution['gdp'])\npollution['log_co2'] = np.log(pollution['co2'])\n# END SOLUTION\n\npollution.head()",
    "id": "29703a1543404f2c804f455161c19899",
    "idx": 72,
    "time": "2021-01-18T20:04:48.198Z",
    "type": "execution"
   },
   {
    "id": "29703a1543404f2c804f455161c19899",
    "time": "2021-01-18T20:04:48.342Z",
    "type": "completion"
   },
   {
    "code": "plt.scatter(pollution['log_gdp'], pollution['log_co2'])",
    "id": "851780e01f2142158bf31c3779ff4d24",
    "idx": 76,
    "time": "2021-01-18T20:05:20.170Z",
    "type": "execution"
   },
   {
    "id": "851780e01f2142158bf31c3779ff4d24",
    "time": "2021-01-18T20:05:20.506Z",
    "type": "completion"
   },
   {
    "code": "plt.scatter(pollution['log_gdp'], pollution['log_co2']);",
    "id": "851780e01f2142158bf31c3779ff4d24",
    "idx": 76,
    "time": "2021-01-18T20:05:22.993Z",
    "type": "execution"
   },
   {
    "id": "851780e01f2142158bf31c3779ff4d24",
    "time": "2021-01-18T20:05:23.226Z",
    "type": "completion"
   },
   {
    "code": "plt.scatter(pollution['log_gdp'], pollution['co2']);",
    "id": "851780e01f2142158bf31c3779ff4d24",
    "idx": 76,
    "time": "2021-01-18T20:06:20.807Z",
    "type": "execution"
   },
   {
    "id": "851780e01f2142158bf31c3779ff4d24",
    "time": "2021-01-18T20:06:21.034Z",
    "type": "completion"
   },
   {
    "code": "plt.scatter(pollution['gdp'], pollution['co2']);",
    "id": "851780e01f2142158bf31c3779ff4d24",
    "idx": 76,
    "time": "2021-01-18T20:06:53.522Z",
    "type": "execution"
   },
   {
    "id": "851780e01f2142158bf31c3779ff4d24",
    "time": "2021-01-18T20:06:53.716Z",
    "type": "completion"
   },
   {
    "code": "plt.scatter(pollution['gdp'], pollution['log_co2']);",
    "id": "851780e01f2142158bf31c3779ff4d24",
    "idx": 76,
    "time": "2021-01-18T20:07:00.801Z",
    "type": "execution"
   },
   {
    "id": "851780e01f2142158bf31c3779ff4d24",
    "time": "2021-01-18T20:07:01.009Z",
    "type": "completion"
   },
   {
    "code": "plt.scatter(pollution['log_gdp'], pollution['log_co2']);",
    "id": "851780e01f2142158bf31c3779ff4d24",
    "idx": 76,
    "time": "2021-01-18T20:07:07.360Z",
    "type": "execution"
   },
   {
    "id": "851780e01f2142158bf31c3779ff4d24",
    "time": "2021-01-18T20:07:07.594Z",
    "type": "completion"
   },
   {
    "code": "plt.scatter(pollution['log_gdp'], pollution['log_co2'])\nplt.xlabel(\"log gdp\")\nplt.ylabel(\"log co2\");",
    "id": "851780e01f2142158bf31c3779ff4d24",
    "idx": 76,
    "time": "2021-01-18T20:07:39.388Z",
    "type": "execution"
   },
   {
    "id": "851780e01f2142158bf31c3779ff4d24",
    "time": "2021-01-18T20:07:39.685Z",
    "type": "completion"
   },
   {
    "code": "\"\"\" # BEGIN PROMPT\npollution['log_gdppc'] = ...\npollution['log_co2pc'] = ...\n\nplt.scatter(..., ...)\n\"\"\" # END PROMPT\n# BEGIN SOLUTION NO PROMPT\npollution['log_gdppc'] = np.log(pollution['gdppc'])\npollution['log_co2pc'] = np.log(pollution['co2pc'])\n\nplt.scatter(pollution['log_gdp'], pollution['log_co2'])\n# END SOLUTION\nplt.xlabel(\"log gdppc\")\nplt.ylabel(\"log co2pc\");",
    "id": "9b18354107be4b859d915d754744c833",
    "idx": 78,
    "time": "2021-01-18T20:13:15.720Z",
    "type": "execution"
   },
   {
    "id": "9b18354107be4b859d915d754744c833",
    "time": "2021-01-18T20:13:15.995Z",
    "type": "completion"
   },
   {
    "code": "\"\"\" # BEGIN PROMPT\npollution['log_gdppc'] = ...\npollution['log_co2pc'] = ...\n\nplt.scatter(..., ...)\n\"\"\" # END PROMPT\n# BEGIN SOLUTION NO PROMPT\npollution['log_gdppc'] = np.log(pollution['gdppc'])\npollution['log_co2pc'] = np.log(pollution['co2pc'])\n\nplt.scatter(pollution['log_gdppc'], pollution['log_co2pc'])\n# END SOLUTION\nplt.xlabel(\"log gdppc\")\nplt.ylabel(\"log co2pc\");",
    "id": "9b18354107be4b859d915d754744c833",
    "idx": 78,
    "time": "2021-01-18T20:13:23.785Z",
    "type": "execution"
   },
   {
    "id": "9b18354107be4b859d915d754744c833",
    "time": "2021-01-18T20:13:24.026Z",
    "type": "completion"
   },
   {
    "code": "la.describe()",
    "id": "ff1e2d32583d4dbb8b3f3b4efa3c5d51",
    "idx": 85,
    "time": "2021-01-18T20:15:09.344Z",
    "type": "execution"
   },
   {
    "id": "ff1e2d32583d4dbb8b3f3b4efa3c5d51",
    "time": "2021-01-18T20:15:09.423Z",
    "type": "completion"
   },
   {
    "code": "la = pd.read_stata(\"PS1data(LA wages).dta\")\nla.head()",
    "id": "d77af0b04aed4b9d88da7d7e7776c3dc",
    "idx": 83,
    "time": "2021-01-18T20:15:11.672Z",
    "type": "execution"
   },
   {
    "id": "d77af0b04aed4b9d88da7d7e7776c3dc",
    "time": "2021-01-18T20:15:11.754Z",
    "type": "completion"
   },
   {
    "code": "la.describe()",
    "id": "ff1e2d32583d4dbb8b3f3b4efa3c5d51",
    "idx": 85,
    "time": "2021-01-18T20:15:12.271Z",
    "type": "execution"
   },
   {
    "id": "ff1e2d32583d4dbb8b3f3b4efa3c5d51",
    "time": "2021-01-18T20:15:12.387Z",
    "type": "completion"
   },
   {
    "code": "la.hist(column='wage', bins=80); # SOLUTION",
    "id": "d21b4e5dbd2b4447ab40a783adc28091",
    "idx": 87,
    "time": "2021-01-18T20:18:14.458Z",
    "type": "execution"
   },
   {
    "id": "d21b4e5dbd2b4447ab40a783adc28091",
    "time": "2021-01-18T20:18:14.808Z",
    "type": "completion"
   },
   {
    "code": "la['log_wage'] = np.log(la['wage'])",
    "id": "b9d9c22bbd14489d92eff9616b23cab7",
    "idx": 92,
    "time": "2021-01-18T20:19:30.260Z",
    "type": "execution"
   },
   {
    "id": "b9d9c22bbd14489d92eff9616b23cab7",
    "time": "2021-01-18T20:19:30.317Z",
    "type": "completion"
   },
   {
    "code": "la['log_wage'] = np.log(la['wage'])\n\nla.head()",
    "id": "b9d9c22bbd14489d92eff9616b23cab7",
    "idx": 92,
    "time": "2021-01-18T20:19:37.054Z",
    "type": "execution"
   },
   {
    "id": "b9d9c22bbd14489d92eff9616b23cab7",
    "time": "2021-01-18T20:19:37.128Z",
    "type": "completion"
   },
   {
    "code": "\"\"\" # BEGIN PROMPT\nla['log_wage'] = ...\n\"\"\" # END PROMPT\n# BEGIN SOLUTION NO PROMPT\nla['log_wage'] = np.log(la['wage'])\n# END SOLUTION\n\nla.head()",
    "id": "b9d9c22bbd14489d92eff9616b23cab7",
    "idx": 92,
    "time": "2021-01-18T20:20:15.012Z",
    "type": "execution"
   },
   {
    "id": "b9d9c22bbd14489d92eff9616b23cab7",
    "time": "2021-01-18T20:20:15.157Z",
    "type": "completion"
   },
   {
    "code": "la.value_counts(subset='education', sort=False, normalize=True)",
    "id": "15a29073574549dda753d06175b09108",
    "idx": 94,
    "time": "2021-01-18T20:20:58.259Z",
    "type": "execution"
   },
   {
    "id": "15a29073574549dda753d06175b09108",
    "time": "2021-01-18T20:20:58.336Z",
    "type": "completion"
   },
   {
    "code": "la.value_counts(subset=['education'], sort=False, normalize=True)",
    "id": "15a29073574549dda753d06175b09108",
    "idx": 94,
    "time": "2021-01-18T20:21:05.040Z",
    "type": "execution"
   },
   {
    "id": "15a29073574549dda753d06175b09108",
    "time": "2021-01-18T20:21:05.104Z",
    "type": "completion"
   },
   {
    "code": "la.value_counts(subset='education', sort=False, normalize=True)",
    "id": "15a29073574549dda753d06175b09108",
    "idx": 94,
    "time": "2021-01-18T20:21:11.376Z",
    "type": "execution"
   },
   {
    "id": "15a29073574549dda753d06175b09108",
    "time": "2021-01-18T20:21:11.443Z",
    "type": "completion"
   },
   {
    "code": "la.value_counts(subset='education', sort=False, normalize=True) # SOLUTION",
    "id": "15a29073574549dda753d06175b09108",
    "idx": 94,
    "time": "2021-01-18T20:21:47.252Z",
    "type": "execution"
   },
   {
    "id": "15a29073574549dda753d06175b09108",
    "time": "2021-01-18T20:21:47.323Z",
    "type": "completion"
   },
   {
    "code": "\"\"\" # BEGIN PROMPT\npollution['log_gdppc'] = ...\npollution['log_co2pc'] = ...\n\nplt.scatter(..., ...)\n\"\"\" # END PROMPT\n# BEGIN SOLUTION NO PROMPT\nplt.scatter(la['log_wage'], la['schooling'])\n# END SOLUTION\nplt.xlabel(\"log gdppc\")\nplt.ylabel(\"log co2pc\");",
    "id": "1dd6dd4fc618417284c9ddec5df34472",
    "idx": 96,
    "time": "2021-01-18T20:22:35.323Z",
    "type": "execution"
   },
   {
    "id": "1dd6dd4fc618417284c9ddec5df34472",
    "time": "2021-01-18T20:22:35.542Z",
    "type": "completion"
   },
   {
    "code": "\"\"\" # BEGIN PROMPT\npollution['log_gdppc'] = ...\npollution['log_co2pc'] = ...\n\nplt.scatter(..., ...)\n\"\"\" # END PROMPT\n# BEGIN SOLUTION NO PROMPT\nplt.scatter(la['log_wage'], la['education'])\n# END SOLUTION\nplt.xlabel(\"log gdppc\")\nplt.ylabel(\"log co2pc\");",
    "id": "1dd6dd4fc618417284c9ddec5df34472",
    "idx": 96,
    "time": "2021-01-18T20:22:46.112Z",
    "type": "execution"
   },
   {
    "id": "1dd6dd4fc618417284c9ddec5df34472",
    "time": "2021-01-18T20:22:46.462Z",
    "type": "completion"
   },
   {
    "code": "\"\"\" # BEGIN PROMPT\npollution['log_gdppc'] = ...\npollution['log_co2pc'] = ...\n\nplt.scatter(..., ...)\n\"\"\" # END PROMPT\n# BEGIN SOLUTION NO PROMPT\nplt.scatter(la['education'], la['log_wage'])\n# END SOLUTION\nplt.xlabel(\"education\")\nplt.ylabel(\"log wage\");",
    "id": "1dd6dd4fc618417284c9ddec5df34472",
    "idx": 96,
    "time": "2021-01-18T20:23:06.723Z",
    "type": "execution"
   },
   {
    "id": "1dd6dd4fc618417284c9ddec5df34472",
    "time": "2021-01-18T20:23:06.963Z",
    "type": "completion"
   },
   {
    "code": "\"\"\" # BEGIN PROMPT\n...\n...\n...\n\"\"\" # END PROMPT\n# BEGIN SOLUTION NO PROMPT\nplt.scatter(la['education'], la['log_wage'])\nplt.xlabel(\"education\")\nplt.ylabel(\"log wage\");\n# END SOLUTION",
    "id": "1dd6dd4fc618417284c9ddec5df34472",
    "idx": 96,
    "time": "2021-01-18T20:23:37.120Z",
    "type": "execution"
   },
   {
    "id": "1dd6dd4fc618417284c9ddec5df34472",
    "time": "2021-01-18T20:23:37.451Z",
    "type": "completion"
   },
   {
    "code": "pollution = pd.read_stata(\"PS1data(pollution).dta\")\npollution.head()",
    "id": "a3f9d84c8787401c8980230ef00dbe19",
    "idx": 62,
    "time": "2021-01-18T20:25:18.639Z",
    "type": "execution"
   },
   {
    "id": "a3f9d84c8787401c8980230ef00dbe19",
    "time": "2021-01-18T20:25:18.863Z",
    "type": "completion"
   },
   {
    "code": "\"\"\" # BEGIN PROMPT\npollution_oecd = ...\npollution_no_oecd = ...\n\nttest_4b = stats.ttest_ind(..., ..., ...)\n\ntstat_4b = ttest_4b.statistic\npval_4b = ttest_4b.pvalue\n\"\"\" # END PROMPT\n# BEGIN SOLUTION NO PROMPT\npollution_oecd = pollution[pollution['oecd'] == 1]\npollution_no_oecd = pollution[pollution['oecd'] == 0]\n\nttest_4b = stats.ttest_ind(pollution_oecd['co2pc'], pollution_no_oecd['co2pc'], equal_var=False, nan_policy='omit')\n\ntstat_4b = ttest_4b.statistic\npval_4b = ttest_4b.pvalue\n# END SOLUTION\n\nprint(\"t-stat: {}\".format(tstat_4b))\nprint(\"p-value: {}\".format(pval_4b))",
    "id": "156e8f7abffd4eed84ebd8760d28eb06",
    "idx": 67,
    "time": "2021-01-18T20:25:36.459Z",
    "type": "execution"
   },
   {
    "id": "156e8f7abffd4eed84ebd8760d28eb06",
    "time": "2021-01-18T20:25:36.526Z",
    "type": "completion"
   },
   {
    "code": "ttest_1a",
    "id": "66b6f50375b64b6e86413cc6384405a2",
    "idx": 6,
    "time": "2021-01-18T20:37:55.288Z",
    "type": "execution"
   },
   {
    "id": "66b6f50375b64b6e86413cc6384405a2",
    "time": "2021-01-18T20:37:55.401Z",
    "type": "completion"
   },
   {
    "code": "import numpy as np\nimport pandas as pd\nfrom scipy import stats\nimport matplotlib.pyplot as plt",
    "id": "458e59d49de5470a90af3fc5deee55c5",
    "idx": 3,
    "time": "2021-01-18T20:56:47.764Z",
    "type": "execution"
   },
   {
    "code": "nba = pd.read_stata(\"PS1data(NBA).dta\")\nnba.head()",
    "id": "471a6507023840699078daa57f905478",
    "idx": 5,
    "time": "2021-01-18T20:56:47.770Z",
    "type": "execution"
   },
   {
    "code": "\"\"\" # BEGIN PROMPT\nnba_guard = ...\nnba_not_guard = ...\n\nttest_1a = stats.ttest_ind(..., ...)\n\ntstat_1a = ttest_1a.statistic\npval_1a = ttest_1a.pvalue\n\"\"\" # END PROMPT\n# BEGIN SOLUTION NO PROMPT\nnba_guard = nba[nba['guard'] == 1]\nnba_not_guard = nba[nba['guard'] == 0]\n\nttest_1a = stats.ttest_ind(nba_guard['wage'], nba_not_guard['wage'])\n\ntstat_1a = ttest_1a.statistic\npval_1a = ttest_1a.pvalue\n# END SOLUTION\n\nprint(\"t-stat: {}\".format(tstat_1a))\nprint(\"p-value: {}\".format(pval_1a))",
    "id": "a1eec07cfbe84189b4233e64dd52c3bb",
    "idx": 7,
    "time": "2021-01-18T20:56:47.772Z",
    "type": "execution"
   },
   {
    "code": "\"\"\" # BEGIN PROMPT\nnba['degree'] = ...\n\nnba_degree = ...\nnba_no_degree = ...\n\nttest_1c = stats.ttest_ind(..., ...)\n\ntstat_1c = ttest_1c.statistic\npval_1c = ttest_1c.pvalue\n\"\"\" # END PROMPT\n# BEGIN SOLUTION NO PROMPT\nnba['degree'] = nba['coll'] >= 4\n\nnba_degree = nba[nba['degree'] == True]\nnba_no_degree = nba[nba['degree'] == False]\n\nttest_1c = stats.ttest_ind(nba_degree['wage'], nba_no_degree['wage'])\n\ntstat_1c = ttest_1c.statistic\npval_1c = ttest_1c.pvalue\n# END SOLUTION\n\nprint(\"t-stat: {}\".format(tstat_1c))\nprint(\"p-value: {}\".format(pval_1c))",
    "id": "46952d74fc6b43ae81de15654aa6189b",
    "idx": 11,
    "time": "2021-01-18T20:56:47.775Z",
    "type": "execution"
   },
   {
    "code": "\"\"\" # BEGIN PROMPT\nnba['productivity'] = ...\n\nnba_guard = ...\nnba_not_guard = ...\n\nttest_1e = stats.ttest_ind(..., ...)\n\ntstat_1e = ttest_1e.statistic\npval_1e = ttest_1e.pvalue\n\"\"\" # END PROMPT\n# BEGIN SOLUTION NO PROMPT\nnba['productivity'] = nba['points'] / (nba['minutes'] / nba['games'])\n\nnba_guard = nba[nba['guard'] == 1]\nnba_not_guard = nba[nba['guard'] == 0]\n\nttest_1e = stats.ttest_ind(nba_guard['productivity'], nba_not_guard['productivity'])\n\ntstat_1e = ttest_1e.statistic\npval_1e = ttest_1e.pvalue\n# END SOLUTION\n\nprint(\"t-stat: {}\".format(tstat_1e))\nprint(\"p-value: {}\".format(pval_1e))",
    "id": "6133c16b211b479d8d905c0f0f5d640e",
    "idx": 15,
    "time": "2021-01-18T20:56:47.779Z",
    "type": "execution"
   },
   {
    "code": "\"\"\" # BEGIN PROMPT\nnba[['points', 'assists', 'rebounds']]...\n\"\"\" # END PROMPT\n# BEGIN SOLUTION NO PROMPT\nnba[['points', 'assists', 'rebounds']].corr()\n# END SOLUTION",
    "id": "4b06500ee6404aeab3872f3a3bf3eeca",
    "idx": 19,
    "time": "2021-01-18T20:56:47.782Z",
    "type": "execution"
   },
   {
    "code": "\"\"\" # BEGIN PROMPT\nnba['index'] = ...\n\nnba_guard = ...\nnba_not_guard = ...\n\nttest_1h = stats.ttest_ind(..., ...)\n\ntstat_1h = ttest_1h.statistic\npval_1h = ttest_1h.pvalue\n\"\"\" # END PROMPT\n# BEGIN SOLUTION NO PROMPT\nnba['index'] = nba['points'] + nba['rebounds'] + 2 * nba['assists']\n\nnba_guard = nba[nba['guard'] == 1]\nnba_not_guard = nba[nba['guard'] == 0]\n\nttest_1h = stats.ttest_ind(nba_guard['index'], nba_not_guard['index'])\n\ntstat_1h = ttest_1h.statistic\npval_1h = ttest_1h.pvalue\n# END SOLUTION\n\nprint(\"t-stat: {}\".format(tstat_1h))\nprint(\"p-value: {}\".format(pval_1h))",
    "id": "eb2d2eb45db540bb88cd4b1c61221145",
    "idx": 21,
    "time": "2021-01-18T20:56:47.785Z",
    "type": "execution"
   },
   {
    "code": "\"\"\" # BEGIN PROMPT\nnba['payoff'] = ...\n\nnba_guard = ...\nnba_not_guard = ...\n\nttest_1j = stats.ttest_ind(..., ...)\n\ntstat_1j = ttest_1j.statistic\npval_1j = ttest_1j.pvalue\n\"\"\" # END PROMPT\n# BEGIN SOLUTION NO PROMPT\nnba['payoff'] = nba['index'] / nba['wage']\n\nnba_guard = nba[nba['guard'] == 1]\nnba_not_guard = nba[nba['guard'] == 0]\n\nttest_1j = stats.ttest_ind(nba_guard['payoff'], nba_not_guard['payoff'])\n\ntstat_1j = ttest_1j.statistic\npval_1j = ttest_1j.pvalue\n# END SOLUTION\n\nprint(\"t-stat: {}\".format(tstat_1j))\nprint(\"p-value: {}\".format(pval_1j))",
    "id": "70d9f35319124f5aac04ecc23ecafd1e",
    "idx": 25,
    "time": "2021-01-18T20:56:47.788Z",
    "type": "execution"
   },
   {
    "code": "crime = pd.read_stata(\"PS1data(campus crime).dta\")\ncrime.head()",
    "id": "271fcec5eb1e48498bb392a05d18c8e0",
    "idx": 30,
    "time": "2021-01-18T20:56:47.792Z",
    "type": "execution"
   },
   {
    "code": "# This code cell is for question 2.a.\n",
    "id": "e8782cb7cb80404fb831f227614a421a",
    "idx": 31,
    "time": "2021-01-18T20:56:47.794Z",
    "type": "execution"
   },
   {
    "code": "\"\"\" # BEGIN PROMPT\ncrime[['enrollment', 'police', 'crime']]...\n\"\"\" # END PROMPT\n# BEGIN SOLUTION NO PROMPT\ncrime[['enrollment', 'police', 'crime']].corr()\n# END SOLUTION",
    "id": "3a6edb7310a549cc859171c11aca490b",
    "idx": 36,
    "time": "2021-01-18T20:56:47.797Z",
    "type": "execution"
   },
   {
    "code": "\"\"\" # BEGIN PROMPT\ncrime_public = ...\ncrime_private = ...\n\nttest_2d_unequal_var = stats.ttest_ind(..., ..., ...)\n\ntstat_2d_unequal = ttest_2d_unequal_var.statistic\npval_2d_unequal = ttest_2d_unequal_var.pvalue\n\nttest_2d_equal_var = stats.ttest_ind(..., ...)\n\ntstat_2d_equal = ttest_2d_equal_var.statistic\npval_2d_equal = ttest_2d_equal_var.pvalue\n\"\"\" # END PROMPT\n# BEGIN SOLUTION NO PROMPT\ncrime_public = crime[crime['private'] == 0]\ncrime_private = crime[crime['private'] == 1]\n\nttest_2d_unequal_var = stats.ttest_ind(crime_public['crime'], crime_private['crime'], equal_var=False)\n\ntstat_2d_unequal = ttest_2d_unequal_var.statistic\npval_2d_unequal = ttest_2d_unequal_var.pvalue\n\nttest_2d_equal_var = stats.ttest_ind(crime_public['crime'], crime_private['crime'])\n\ntstat_2d_equal = ttest_2d_equal_var.statistic\npval_2d_equal = ttest_2d_equal_var.pvalue\n# END SOLUTION\n\nprint(\"t-stat unequal variance: {}\".format(tstat_2d_unequal))\nprint(\"p-value unequal variance: {}\".format(pval_2d_unequal))\nprint(\"t-stat equal variance: {}\".format(tstat_2d_equal))\nprint(\"p-value equal variance: {}\".format(pval_2d_equal))",
    "id": "8266b61efc5e451d8f584a28cf9f129d",
    "idx": 40,
    "time": "2021-01-18T20:56:47.800Z",
    "type": "execution"
   },
   {
    "code": "\"\"\" # BEGIN PROMPT\ncrime['crimerate'] = ...\n\ncrime_public = ...\ncrime_private = ...\n\nttest_2f_unequal_var = stats.ttest_ind(..., ..., ...)\n\ntstat_2f_unequal = ttest_2f_unequal_var.statistic\npval_2f_unequal = ttest_2f_unequal_var.pvalue\n\nttest_2f_equal_var = stats.ttest_ind(..., ...)\n\ntstat_2f_equal = ttest_2f_equal_var.statistic\npval_2f_equal = ttest_2f_equal_var.pvalue\n\"\"\" # END PROMPT\n# BEGIN SOLUTION NO PROMPT\ncrime['crimerate'] = 1000 * (crime['crime'] / crime['enrollment'])\n\ncrime_public = crime[crime['private'] == 0]\ncrime_private = crime[crime['private'] == 1]\n\nttest_2f_unequal_var = stats.ttest_ind(crime_public['crimerate'], crime_private['crimerate'], equal_var=False)\n\ntstat_2f_unequal = ttest_2f_unequal_var.statistic\npval_2f_unequal = ttest_2f_unequal_var.pvalue\n\nttest_2f_equal_var = stats.ttest_ind(crime_public['crimerate'], crime_private['crimerate'])\n\ntstat_2f_equal = ttest_2f_equal_var.statistic\npval_2f_equal = ttest_2f_equal_var.pvalue\n# END SOLUTION\n\nprint(\"t-stat unequal variance: {}\".format(tstat_2f_unequal))\nprint(\"p-value unequal variance: {}\".format(pval_2f_unequal))\nprint(\"t-stat equal variance: {}\".format(tstat_2f_equal))\nprint(\"p-value equal variance: {}\".format(pval_2f_equal))",
    "id": "d87885a26b4b479187f9a4e7aba7902d",
    "idx": 44,
    "time": "2021-01-18T20:56:47.803Z",
    "type": "execution"
   },
   {
    "code": "pollution = pd.read_stata(\"PS1data(pollution).dta\")\npollution.head()",
    "id": "a3f9d84c8787401c8980230ef00dbe19",
    "idx": 63,
    "time": "2021-01-18T20:56:47.809Z",
    "type": "execution"
   },
   {
    "code": "# This code cell is for question 4.a.\n",
    "id": "79e1fd638c334f9a8aecc76bf0c53af8",
    "idx": 64,
    "time": "2021-01-18T20:56:47.812Z",
    "type": "execution"
   },
   {
    "code": "\"\"\" # BEGIN PROMPT\npollution_oecd = ...\npollution_no_oecd = ...\n\nttest_4b = stats.ttest_ind(..., ..., ..., nan_policy='omit')\n\ntstat_4b = ttest_4b.statistic\npval_4b = ttest_4b.pvalue\n\"\"\" # END PROMPT\n# BEGIN SOLUTION NO PROMPT\npollution_oecd = pollution[pollution['oecd'] == 1]\npollution_no_oecd = pollution[pollution['oecd'] == 0]\n\nttest_4b = stats.ttest_ind(pollution_oecd['co2pc'], pollution_no_oecd['co2pc'], equal_var=False, nan_policy='omit')\n\ntstat_4b = ttest_4b.statistic\npval_4b = ttest_4b.pvalue\n# END SOLUTION\n\nprint(\"t-stat: {}\".format(tstat_4b))\nprint(\"p-value: {}\".format(pval_4b))",
    "id": "156e8f7abffd4eed84ebd8760d28eb06",
    "idx": 68,
    "time": "2021-01-18T20:56:47.814Z",
    "type": "execution"
   },
   {
    "code": "\"\"\" # BEGIN PROMPT\npollution['log_gdp'] = ...\npollution['log_co2'] = ...\n\"\"\" # END PROMPT\n# BEGIN SOLUTION NO PROMPT\npollution['log_gdp'] = np.log(pollution['gdp'])\npollution['log_co2'] = np.log(pollution['co2'])\n# END SOLUTION\n\npollution.head()",
    "id": "29703a1543404f2c804f455161c19899",
    "idx": 73,
    "time": "2021-01-18T20:56:47.818Z",
    "type": "execution"
   },
   {
    "code": "plt.scatter(pollution['log_gdp'], pollution['log_co2'])\nplt.xlabel(\"log gdp\")\nplt.ylabel(\"log co2\");",
    "id": "851780e01f2142158bf31c3779ff4d24",
    "idx": 77,
    "time": "2021-01-18T20:56:47.821Z",
    "type": "execution"
   },
   {
    "code": "\"\"\" # BEGIN PROMPT\npollution['log_gdppc'] = ...\npollution['log_co2pc'] = ...\n\nplt.scatter(..., ...)\n\"\"\" # END PROMPT\n# BEGIN SOLUTION NO PROMPT\npollution['log_gdppc'] = np.log(pollution['gdppc'])\npollution['log_co2pc'] = np.log(pollution['co2pc'])\n\nplt.scatter(pollution['log_gdppc'], pollution['log_co2pc'])\n# END SOLUTION\nplt.xlabel(\"log gdppc\")\nplt.ylabel(\"log co2pc\");",
    "id": "9b18354107be4b859d915d754744c833",
    "idx": 79,
    "time": "2021-01-18T20:56:47.824Z",
    "type": "execution"
   },
   {
    "code": "la = pd.read_stata(\"PS1data(LA wages).dta\")\nla.head()",
    "id": "d77af0b04aed4b9d88da7d7e7776c3dc",
    "idx": 84,
    "time": "2021-01-18T20:56:47.827Z",
    "type": "execution"
   },
   {
    "code": "la.describe() # SOLUTION",
    "id": "ff1e2d32583d4dbb8b3f3b4efa3c5d51",
    "idx": 86,
    "time": "2021-01-18T20:56:47.830Z",
    "type": "execution"
   },
   {
    "code": "la.hist(column='wage', bins=80); # SOLUTION",
    "id": "d21b4e5dbd2b4447ab40a783adc28091",
    "idx": 88,
    "time": "2021-01-18T20:56:47.833Z",
    "type": "execution"
   },
   {
    "code": "# This code cell is for question 5.c.\n",
    "id": "b8096706c3224af4892d050800938410",
    "idx": 89,
    "time": "2021-01-18T20:56:47.835Z",
    "type": "execution"
   },
   {
    "code": "\"\"\" # BEGIN PROMPT\nla['log_wage'] = ...\n\"\"\" # END PROMPT\n# BEGIN SOLUTION NO PROMPT\nla['log_wage'] = np.log(la['wage'])\n# END SOLUTION\n\nla.head()",
    "id": "b9d9c22bbd14489d92eff9616b23cab7",
    "idx": 93,
    "time": "2021-01-18T20:56:47.838Z",
    "type": "execution"
   },
   {
    "code": "la.value_counts(subset='education', sort=False, normalize=True) # SOLUTION",
    "id": "15a29073574549dda753d06175b09108",
    "idx": 95,
    "time": "2021-01-18T20:56:47.840Z",
    "type": "execution"
   },
   {
    "code": "\"\"\" # BEGIN PROMPT\n...\n...\n...\n\"\"\" # END PROMPT\n# BEGIN SOLUTION NO PROMPT\nplt.scatter(la['education'], la['log_wage'])\nplt.xlabel(\"education\")\nplt.ylabel(\"log wage\");\n# END SOLUTION",
    "id": "1dd6dd4fc618417284c9ddec5df34472",
    "idx": 97,
    "time": "2021-01-18T20:56:47.843Z",
    "type": "execution"
   },
   {
    "id": "458e59d49de5470a90af3fc5deee55c5",
    "time": "2021-01-18T20:56:48.725Z",
    "type": "completion"
   },
   {
    "id": "471a6507023840699078daa57f905478",
    "time": "2021-01-18T20:56:48.731Z",
    "type": "completion"
   },
   {
    "id": "a1eec07cfbe84189b4233e64dd52c3bb",
    "time": "2021-01-18T20:56:48.778Z",
    "type": "completion"
   },
   {
    "id": "46952d74fc6b43ae81de15654aa6189b",
    "time": "2021-01-18T20:56:48.780Z",
    "type": "completion"
   },
   {
    "id": "6133c16b211b479d8d905c0f0f5d640e",
    "time": "2021-01-18T20:56:48.783Z",
    "type": "completion"
   },
   {
    "id": "4b06500ee6404aeab3872f3a3bf3eeca",
    "time": "2021-01-18T20:56:48.786Z",
    "type": "completion"
   },
   {
    "id": "eb2d2eb45db540bb88cd4b1c61221145",
    "time": "2021-01-18T20:56:48.788Z",
    "type": "completion"
   },
   {
    "id": "70d9f35319124f5aac04ecc23ecafd1e",
    "time": "2021-01-18T20:56:48.834Z",
    "type": "completion"
   },
   {
    "id": "271fcec5eb1e48498bb392a05d18c8e0",
    "time": "2021-01-18T20:56:48.837Z",
    "type": "completion"
   },
   {
    "id": "e8782cb7cb80404fb831f227614a421a",
    "time": "2021-01-18T20:56:48.839Z",
    "type": "completion"
   },
   {
    "id": "3a6edb7310a549cc859171c11aca490b",
    "time": "2021-01-18T20:56:48.843Z",
    "type": "completion"
   },
   {
    "id": "8266b61efc5e451d8f584a28cf9f129d",
    "time": "2021-01-18T20:56:48.887Z",
    "type": "completion"
   },
   {
    "id": "d87885a26b4b479187f9a4e7aba7902d",
    "time": "2021-01-18T20:56:48.889Z",
    "type": "completion"
   },
   {
    "id": "a3f9d84c8787401c8980230ef00dbe19",
    "time": "2021-01-18T20:56:48.927Z",
    "type": "completion"
   },
   {
    "id": "79e1fd638c334f9a8aecc76bf0c53af8",
    "time": "2021-01-18T20:56:48.969Z",
    "type": "completion"
   },
   {
    "id": "156e8f7abffd4eed84ebd8760d28eb06",
    "time": "2021-01-18T20:56:48.971Z",
    "type": "completion"
   },
   {
    "id": "29703a1543404f2c804f455161c19899",
    "time": "2021-01-18T20:56:48.975Z",
    "type": "completion"
   },
   {
    "id": "851780e01f2142158bf31c3779ff4d24",
    "time": "2021-01-18T20:56:49.173Z",
    "type": "completion"
   },
   {
    "id": "9b18354107be4b859d915d754744c833",
    "time": "2021-01-18T20:56:49.320Z",
    "type": "completion"
   },
   {
    "id": "d77af0b04aed4b9d88da7d7e7776c3dc",
    "time": "2021-01-18T20:56:49.335Z",
    "type": "completion"
   },
   {
    "id": "ff1e2d32583d4dbb8b3f3b4efa3c5d51",
    "time": "2021-01-18T20:56:49.402Z",
    "type": "completion"
   },
   {
    "id": "d21b4e5dbd2b4447ab40a783adc28091",
    "time": "2021-01-18T20:56:49.748Z",
    "type": "completion"
   },
   {
    "id": "b8096706c3224af4892d050800938410",
    "time": "2021-01-18T20:56:49.749Z",
    "type": "completion"
   },
   {
    "id": "b9d9c22bbd14489d92eff9616b23cab7",
    "time": "2021-01-18T20:56:49.752Z",
    "type": "completion"
   },
   {
    "id": "15a29073574549dda753d06175b09108",
    "time": "2021-01-18T20:56:49.754Z",
    "type": "completion"
   },
   {
    "id": "1dd6dd4fc618417284c9ddec5df34472",
    "time": "2021-01-18T20:56:49.859Z",
    "type": "completion"
   },
   {
    "code": "import numpy as np\nimport pandas as pd\nfrom scipy import stats\nimport matplotlib.pyplot as plt",
    "id": "8d1918a1eeda4a109ff1ab9f2784b352",
    "idx": 4,
    "time": "2021-01-19T23:06:46.572Z",
    "type": "execution"
   },
   {
    "id": "8d1918a1eeda4a109ff1ab9f2784b352",
    "time": "2021-01-19T23:06:47.501Z",
    "type": "completion"
   },
   {
    "code": "# Don't forget to run this cell that reads in the data\nnba = pd.read_stata(\"PS1data(NBA).dta\")\nnba.head()",
    "id": "def3672c0002440aa4f8643cd1dbcd00",
    "idx": 6,
    "time": "2021-01-19T23:06:48.141Z",
    "type": "execution"
   },
   {
    "id": "def3672c0002440aa4f8643cd1dbcd00",
    "time": "2021-01-19T23:06:48.247Z",
    "type": "completion"
   },
   {
    "code": "nba.to_csv()",
    "id": "532fb3a33eb34c7b834490cebc3cfb8e",
    "idx": 7,
    "time": "2021-01-19T23:06:55.945Z",
    "type": "execution"
   },
   {
    "id": "532fb3a33eb34c7b834490cebc3cfb8e",
    "time": "2021-01-19T23:06:56.048Z",
    "type": "completion"
   },
   {
    "code": "nba.to_csv(\"nba.csv\")",
    "id": "532fb3a33eb34c7b834490cebc3cfb8e",
    "idx": 7,
    "time": "2021-01-19T23:07:24.726Z",
    "type": "execution"
   },
   {
    "id": "532fb3a33eb34c7b834490cebc3cfb8e",
    "time": "2021-01-19T23:07:24.786Z",
    "type": "completion"
   },
   {
    "code": "nba = pd.read_csv(\"nba.csv\")",
    "id": "713b677c54b145e486185569452f87a8",
    "idx": 8,
    "time": "2021-01-19T23:07:39.113Z",
    "type": "execution"
   },
   {
    "id": "713b677c54b145e486185569452f87a8",
    "time": "2021-01-19T23:07:39.174Z",
    "type": "completion"
   },
   {
    "code": "nba",
    "id": "08003a0efb8842478679e9ea9b70590f",
    "idx": 9,
    "time": "2021-01-19T23:07:43.145Z",
    "type": "execution"
   },
   {
    "id": "08003a0efb8842478679e9ea9b70590f",
    "time": "2021-01-19T23:07:43.231Z",
    "type": "completion"
   },
   {
    "code": "# Don't forget to run this cell that reads in the data\nnba = pd.read_stata(\"PS1data(NBA).dta\")\nnba.head()",
    "id": "def3672c0002440aa4f8643cd1dbcd00",
    "idx": 6,
    "time": "2021-01-19T23:08:33.449Z",
    "type": "execution"
   },
   {
    "id": "def3672c0002440aa4f8643cd1dbcd00",
    "time": "2021-01-19T23:08:33.547Z",
    "type": "completion"
   },
   {
    "code": "nba.to_csv(\"nba.csv\", index=False)",
    "id": "532fb3a33eb34c7b834490cebc3cfb8e",
    "idx": 7,
    "time": "2021-01-19T23:08:34.940Z",
    "type": "execution"
   },
   {
    "id": "532fb3a33eb34c7b834490cebc3cfb8e",
    "time": "2021-01-19T23:08:35.002Z",
    "type": "completion"
   },
   {
    "code": "nba = pd.read_csv(\"nba.csv\")",
    "id": "713b677c54b145e486185569452f87a8",
    "idx": 8,
    "time": "2021-01-19T23:08:35.843Z",
    "type": "execution"
   },
   {
    "id": "713b677c54b145e486185569452f87a8",
    "time": "2021-01-19T23:08:35.903Z",
    "type": "completion"
   },
   {
    "code": "nba",
    "id": "08003a0efb8842478679e9ea9b70590f",
    "idx": 9,
    "time": "2021-01-19T23:08:36.271Z",
    "type": "execution"
   },
   {
    "id": "08003a0efb8842478679e9ea9b70590f",
    "time": "2021-01-19T23:08:36.361Z",
    "type": "completion"
   },
   {
    "code": "\"\"\" # BEGIN PROMPT\nnba_guard = ...\nnba_not_guard = ...\n\nttest_1a = stats.ttest_ind(..., ...)\n\ntstat_1a = ttest_1a.statistic\npval_1a = ttest_1a.pvalue\n\"\"\" # END PROMPT\n# BEGIN SOLUTION NO PROMPT\nnba_guard = nba[nba['guard'] == 1]\nnba_not_guard = nba[nba['guard'] == 0]\n\nttest_1a = stats.ttest_ind(nba_guard['wage'], nba_not_guard['wage'])\n\ntstat_1a = ttest_1a.statistic\npval_1a = ttest_1a.pvalue\n# END SOLUTION\n\nprint(\"t-stat: {}\".format(tstat_1a))\nprint(\"p-value: {}\".format(pval_1a))",
    "id": "c67905a56d894bd4819965fa6df7c783",
    "idx": 11,
    "time": "2021-01-19T23:08:52.730Z",
    "type": "execution"
   },
   {
    "id": "c67905a56d894bd4819965fa6df7c783",
    "time": "2021-01-19T23:08:52.789Z",
    "type": "completion"
   },
   {
    "code": "\"\"\" # BEGIN PROMPT\nnba['degree'] = ...\n\nnba_degree = ...\nnba_no_degree = ...\n\nttest_1c = stats.ttest_ind(..., ...)\n\ntstat_1c = ttest_1c.statistic\npval_1c = ttest_1c.pvalue\n\"\"\" # END PROMPT\n# BEGIN SOLUTION NO PROMPT\nnba['degree'] = nba['coll'] >= 4\n\nnba_degree = nba[nba['degree'] == True]\nnba_no_degree = nba[nba['degree'] == False]\n\nttest_1c = stats.ttest_ind(nba_degree['wage'], nba_no_degree['wage'])\n\ntstat_1c = ttest_1c.statistic\npval_1c = ttest_1c.pvalue\n# END SOLUTION\n\nprint(\"t-stat: {}\".format(tstat_1c))\nprint(\"p-value: {}\".format(pval_1c))",
    "id": "6c346d291c474523875daf06c0529bc3",
    "idx": 15,
    "time": "2021-01-19T23:08:57.560Z",
    "type": "execution"
   },
   {
    "id": "6c346d291c474523875daf06c0529bc3",
    "time": "2021-01-19T23:08:57.619Z",
    "type": "completion"
   },
   {
    "code": "\"\"\" # BEGIN PROMPT\nnba['productivity'] = ...\n\nnba_guard = ...\nnba_not_guard = ...\n\nttest_1e = stats.ttest_ind(..., ...)\n\ntstat_1e = ttest_1e.statistic\npval_1e = ttest_1e.pvalue\n\"\"\" # END PROMPT\n# BEGIN SOLUTION NO PROMPT\nnba['productivity'] = nba['points'] / (nba['minutes'] / nba['games'])\n\nnba_guard = nba[nba['guard'] == 1]\nnba_not_guard = nba[nba['guard'] == 0]\n\nttest_1e = stats.ttest_ind(nba_guard['productivity'], nba_not_guard['productivity'])\n\ntstat_1e = ttest_1e.statistic\npval_1e = ttest_1e.pvalue\n# END SOLUTION\n\nprint(\"t-stat: {}\".format(tstat_1e))\nprint(\"p-value: {}\".format(pval_1e))",
    "id": "2f0f2cb0407349218605e9dab2d2adef",
    "idx": 19,
    "time": "2021-01-19T23:09:01.444Z",
    "type": "execution"
   },
   {
    "id": "2f0f2cb0407349218605e9dab2d2adef",
    "time": "2021-01-19T23:09:01.505Z",
    "type": "completion"
   },
   {
    "code": "\"\"\" # BEGIN PROMPT\nnba[['points', 'assists', 'rebounds']]...\n\"\"\" # END PROMPT\n# BEGIN SOLUTION NO PROMPT\nnba[['points', 'assists', 'rebounds']].corr()\n# END SOLUTION",
    "id": "786f823d997443a0a9dce74a51912e7a",
    "idx": 23,
    "time": "2021-01-19T23:09:05.474Z",
    "type": "execution"
   },
   {
    "id": "786f823d997443a0a9dce74a51912e7a",
    "time": "2021-01-19T23:09:05.540Z",
    "type": "completion"
   },
   {
    "code": "\"\"\" # BEGIN PROMPT\nnba['index'] = ...\n\nnba_guard = ...\nnba_not_guard = ...\n\nttest_1h = stats.ttest_ind(..., ...)\n\ntstat_1h = ttest_1h.statistic\npval_1h = ttest_1h.pvalue\n\"\"\" # END PROMPT\n# BEGIN SOLUTION NO PROMPT\nnba['index'] = nba['points'] + nba['rebounds'] + 2 * nba['assists']\n\nnba_guard = nba[nba['guard'] == 1]\nnba_not_guard = nba[nba['guard'] == 0]\n\nttest_1h = stats.ttest_ind(nba_guard['index'], nba_not_guard['index'])\n\ntstat_1h = ttest_1h.statistic\npval_1h = ttest_1h.pvalue\n# END SOLUTION\n\nprint(\"t-stat: {}\".format(tstat_1h))\nprint(\"p-value: {}\".format(pval_1h))",
    "id": "ac61df3099cd4a008283ea64fc12827c",
    "idx": 25,
    "time": "2021-01-19T23:09:09.076Z",
    "type": "execution"
   },
   {
    "id": "ac61df3099cd4a008283ea64fc12827c",
    "time": "2021-01-19T23:09:09.136Z",
    "type": "completion"
   },
   {
    "code": "\"\"\" # BEGIN PROMPT\nnba['payoff'] = ...\n\nnba_guard = ...\nnba_not_guard = ...\n\nttest_1j = stats.ttest_ind(..., ...)\n\ntstat_1j = ttest_1j.statistic\npval_1j = ttest_1j.pvalue\n\"\"\" # END PROMPT\n# BEGIN SOLUTION NO PROMPT\nnba['payoff'] = nba['index'] / nba['wage']\n\nnba_guard = nba[nba['guard'] == 1]\nnba_not_guard = nba[nba['guard'] == 0]\n\nttest_1j = stats.ttest_ind(nba_guard['payoff'], nba_not_guard['payoff'])\n\ntstat_1j = ttest_1j.statistic\npval_1j = ttest_1j.pvalue\n# END SOLUTION\n\nprint(\"t-stat: {}\".format(tstat_1j))\nprint(\"p-value: {}\".format(pval_1j))",
    "id": "cc1e1fccd9c34d0a8fb1e220d66fd85d",
    "idx": 29,
    "time": "2021-01-19T23:09:12.798Z",
    "type": "execution"
   },
   {
    "id": "cc1e1fccd9c34d0a8fb1e220d66fd85d",
    "time": "2021-01-19T23:09:12.857Z",
    "type": "completion"
   },
   {
    "code": "# Don't forget to run this cell that reads in the data\nnba = pd.read_csv(\"nba.csv\")\nnba.head()",
    "id": "713b677c54b145e486185569452f87a8",
    "idx": 6,
    "time": "2021-01-19T23:09:51.240Z",
    "type": "execution"
   },
   {
    "id": "713b677c54b145e486185569452f87a8",
    "time": "2021-01-19T23:09:51.320Z",
    "type": "completion"
   },
   {
    "code": "crime = pd.read_stata(\"PS1data(campus crime).dta\")\ncrime.head()",
    "id": "0fba356fa9a146928ce080b446e2cd5c",
    "idx": 31,
    "time": "2021-01-19T23:10:18.788Z",
    "type": "execution"
   },
   {
    "id": "0fba356fa9a146928ce080b446e2cd5c",
    "time": "2021-01-19T23:10:18.858Z",
    "type": "completion"
   },
   {
    "code": "crime.to_csv(\"crime.csv\", index=False)",
    "id": "c70acf7008424fce87781b94d8cbe031",
    "idx": 32,
    "time": "2021-01-19T23:10:33.539Z",
    "type": "execution"
   },
   {
    "id": "c70acf7008424fce87781b94d8cbe031",
    "time": "2021-01-19T23:10:33.598Z",
    "type": "completion"
   },
   {
    "code": "crime = pd.read_csv(\"crime.csv\")\ncrime.head()",
    "id": "59b4a96ade01442288550541733274eb",
    "idx": 33,
    "time": "2021-01-19T23:10:54.563Z",
    "type": "execution"
   },
   {
    "id": "59b4a96ade01442288550541733274eb",
    "time": "2021-01-19T23:10:54.631Z",
    "type": "completion"
   },
   {
    "code": "\"\"\" # BEGIN PROMPT\ncrime[['enrollment', 'police', 'crime']]...\n\"\"\" # END PROMPT\n# BEGIN SOLUTION NO PROMPT\ncrime[['enrollment', 'police', 'crime']].corr()\n# END SOLUTION",
    "id": "820e0587e9d148b98ca90cb936df6a6e",
    "idx": 39,
    "time": "2021-01-19T23:11:01.495Z",
    "type": "execution"
   },
   {
    "id": "820e0587e9d148b98ca90cb936df6a6e",
    "time": "2021-01-19T23:11:01.561Z",
    "type": "completion"
   },
   {
    "code": "\"\"\" # BEGIN PROMPT\ncrime_public = ...\ncrime_private = ...\n\nttest_2d_unequal_var = stats.ttest_ind(..., ..., ...)\n\ntstat_2d_unequal = ttest_2d_unequal_var.statistic\npval_2d_unequal = ttest_2d_unequal_var.pvalue\n\nttest_2d_equal_var = stats.ttest_ind(..., ...)\n\ntstat_2d_equal = ttest_2d_equal_var.statistic\npval_2d_equal = ttest_2d_equal_var.pvalue\n\"\"\" # END PROMPT\n# BEGIN SOLUTION NO PROMPT\ncrime_public = crime[crime['private'] == 0]\ncrime_private = crime[crime['private'] == 1]\n\nttest_2d_unequal_var = stats.ttest_ind(crime_public['crime'], crime_private['crime'], equal_var=False)\n\ntstat_2d_unequal = ttest_2d_unequal_var.statistic\npval_2d_unequal = ttest_2d_unequal_var.pvalue\n\nttest_2d_equal_var = stats.ttest_ind(crime_public['crime'], crime_private['crime'])\n\ntstat_2d_equal = ttest_2d_equal_var.statistic\npval_2d_equal = ttest_2d_equal_var.pvalue\n# END SOLUTION\n\nprint(\"t-stat unequal variance: {}\".format(tstat_2d_unequal))\nprint(\"p-value unequal variance: {}\".format(pval_2d_unequal))\nprint(\"t-stat equal variance: {}\".format(tstat_2d_equal))\nprint(\"p-value equal variance: {}\".format(pval_2d_equal))",
    "id": "305e82e1e0db44fe80a87918716db8c6",
    "idx": 43,
    "time": "2021-01-19T23:11:05.882Z",
    "type": "execution"
   },
   {
    "id": "305e82e1e0db44fe80a87918716db8c6",
    "time": "2021-01-19T23:11:05.942Z",
    "type": "completion"
   },
   {
    "code": "\"\"\" # BEGIN PROMPT\ncrime['crimerate'] = ...\n\ncrime_public = ...\ncrime_private = ...\n\nttest_2f_unequal_var = stats.ttest_ind(..., ..., ...)\n\ntstat_2f_unequal = ttest_2f_unequal_var.statistic\npval_2f_unequal = ttest_2f_unequal_var.pvalue\n\nttest_2f_equal_var = stats.ttest_ind(..., ...)\n\ntstat_2f_equal = ttest_2f_equal_var.statistic\npval_2f_equal = ttest_2f_equal_var.pvalue\n\"\"\" # END PROMPT\n# BEGIN SOLUTION NO PROMPT\ncrime['crimerate'] = 1000 * (crime['crime'] / crime['enrollment'])\n\ncrime_public = crime[crime['private'] == 0]\ncrime_private = crime[crime['private'] == 1]\n\nttest_2f_unequal_var = stats.ttest_ind(crime_public['crimerate'], crime_private['crimerate'], equal_var=False)\n\ntstat_2f_unequal = ttest_2f_unequal_var.statistic\npval_2f_unequal = ttest_2f_unequal_var.pvalue\n\nttest_2f_equal_var = stats.ttest_ind(crime_public['crimerate'], crime_private['crimerate'])\n\ntstat_2f_equal = ttest_2f_equal_var.statistic\npval_2f_equal = ttest_2f_equal_var.pvalue\n# END SOLUTION\n\nprint(\"t-stat unequal variance: {}\".format(tstat_2f_unequal))\nprint(\"p-value unequal variance: {}\".format(pval_2f_unequal))\nprint(\"t-stat equal variance: {}\".format(tstat_2f_equal))\nprint(\"p-value equal variance: {}\".format(pval_2f_equal))",
    "id": "41194885f18b4c7a976fd4d5c4322b26",
    "idx": 47,
    "time": "2021-01-19T23:11:10.838Z",
    "type": "execution"
   },
   {
    "id": "41194885f18b4c7a976fd4d5c4322b26",
    "time": "2021-01-19T23:11:10.899Z",
    "type": "completion"
   },
   {
    "code": "pollution = pd.read_stata(\"PS1data(pollution).dta\")\npollution.head()",
    "id": "3a6c07848d6746b9825854a1572913bc",
    "idx": 63,
    "time": "2021-01-19T23:12:11.943Z",
    "type": "execution"
   },
   {
    "id": "3a6c07848d6746b9825854a1572913bc",
    "time": "2021-01-19T23:12:12.032Z",
    "type": "completion"
   },
   {
    "code": "pollution.to_csv(\"pollution.csv\")",
    "id": "00036468bb4e4d13b3044f95fd647771",
    "idx": 64,
    "time": "2021-01-19T23:12:25.792Z",
    "type": "execution"
   },
   {
    "id": "00036468bb4e4d13b3044f95fd647771",
    "time": "2021-01-19T23:12:25.857Z",
    "type": "completion"
   },
   {
    "code": "pollution = pd.read_csv(\"pollution.csv\")\npollution.head()",
    "id": "ce98c969496e41e081cb8726901dd9c5",
    "idx": 65,
    "time": "2021-01-19T23:12:44.354Z",
    "type": "execution"
   },
   {
    "id": "ce98c969496e41e081cb8726901dd9c5",
    "time": "2021-01-19T23:12:44.431Z",
    "type": "completion"
   },
   {
    "code": "# This code cell is for question 4.a.\n",
    "id": "9e38a4b9592440068bb43fd4820193e7",
    "idx": 68,
    "time": "2021-01-19T23:12:51.581Z",
    "type": "execution"
   },
   {
    "id": "9e38a4b9592440068bb43fd4820193e7",
    "time": "2021-01-19T23:12:51.637Z",
    "type": "completion"
   },
   {
    "code": "\"\"\" # BEGIN PROMPT\npollution_oecd = ...\npollution_no_oecd = ...\n\nttest_4b = stats.ttest_ind(..., ..., ..., nan_policy='omit')\n\ntstat_4b = ttest_4b.statistic\npval_4b = ttest_4b.pvalue\n\"\"\" # END PROMPT\n# BEGIN SOLUTION NO PROMPT\npollution_oecd = pollution[pollution['oecd'] == 1]\npollution_no_oecd = pollution[pollution['oecd'] == 0]\n\nttest_4b = stats.ttest_ind(pollution_oecd['co2pc'], pollution_no_oecd['co2pc'], equal_var=False, nan_policy='omit')\n\ntstat_4b = ttest_4b.statistic\npval_4b = ttest_4b.pvalue\n# END SOLUTION\n\nprint(\"t-stat: {}\".format(tstat_4b))\nprint(\"p-value: {}\".format(pval_4b))",
    "id": "2bdb98fcc3944380806e6490818782e8",
    "idx": 71,
    "time": "2021-01-19T23:12:55.628Z",
    "type": "execution"
   },
   {
    "id": "2bdb98fcc3944380806e6490818782e8",
    "time": "2021-01-19T23:12:55.690Z",
    "type": "completion"
   },
   {
    "code": "\"\"\" # BEGIN PROMPT\npollution['log_gdp'] = ...\npollution['log_co2'] = ...\n\"\"\" # END PROMPT\n# BEGIN SOLUTION NO PROMPT\npollution['log_gdp'] = np.log(pollution['gdp'])\npollution['log_co2'] = np.log(pollution['co2'])\n# END SOLUTION\n\npollution.head()",
    "id": "bf5adc709a9d49f08cdc468728a4d823",
    "idx": 76,
    "time": "2021-01-19T23:12:59.460Z",
    "type": "execution"
   },
   {
    "id": "bf5adc709a9d49f08cdc468728a4d823",
    "time": "2021-01-19T23:12:59.536Z",
    "type": "completion"
   },
   {
    "code": "pollution = pd.read_stata(\"PS1data(pollution).dta\")\npollution.head()",
    "id": "3a6c07848d6746b9825854a1572913bc",
    "idx": 63,
    "time": "2021-01-19T23:13:22.102Z",
    "type": "execution"
   },
   {
    "id": "3a6c07848d6746b9825854a1572913bc",
    "time": "2021-01-19T23:13:22.197Z",
    "type": "completion"
   },
   {
    "code": "pollution.to_csv(\"pollution.csv\", index=False)",
    "id": "00036468bb4e4d13b3044f95fd647771",
    "idx": 64,
    "time": "2021-01-19T23:13:22.805Z",
    "type": "execution"
   },
   {
    "id": "00036468bb4e4d13b3044f95fd647771",
    "time": "2021-01-19T23:13:22.866Z",
    "type": "completion"
   },
   {
    "code": "pollution = pd.read_csv(\"pollution.csv\")\npollution.head()",
    "id": "ce98c969496e41e081cb8726901dd9c5",
    "idx": 65,
    "time": "2021-01-19T23:13:24.425Z",
    "type": "execution"
   },
   {
    "id": "ce98c969496e41e081cb8726901dd9c5",
    "time": "2021-01-19T23:13:24.499Z",
    "type": "completion"
   },
   {
    "code": "# This code cell is for question 4.a.\n",
    "id": "9e38a4b9592440068bb43fd4820193e7",
    "idx": 68,
    "time": "2021-01-19T23:13:36.191Z",
    "type": "execution"
   },
   {
    "id": "9e38a4b9592440068bb43fd4820193e7",
    "time": "2021-01-19T23:13:36.242Z",
    "type": "completion"
   },
   {
    "code": "\"\"\" # BEGIN PROMPT\npollution_oecd = ...\npollution_no_oecd = ...\n\nttest_4b = stats.ttest_ind(..., ..., ..., nan_policy='omit')\n\ntstat_4b = ttest_4b.statistic\npval_4b = ttest_4b.pvalue\n\"\"\" # END PROMPT\n# BEGIN SOLUTION NO PROMPT\npollution_oecd = pollution[pollution['oecd'] == 1]\npollution_no_oecd = pollution[pollution['oecd'] == 0]\n\nttest_4b = stats.ttest_ind(pollution_oecd['co2pc'], pollution_no_oecd['co2pc'], equal_var=False, nan_policy='omit')\n\ntstat_4b = ttest_4b.statistic\npval_4b = ttest_4b.pvalue\n# END SOLUTION\n\nprint(\"t-stat: {}\".format(tstat_4b))\nprint(\"p-value: {}\".format(pval_4b))",
    "id": "2bdb98fcc3944380806e6490818782e8",
    "idx": 71,
    "time": "2021-01-19T23:13:37.941Z",
    "type": "execution"
   },
   {
    "id": "2bdb98fcc3944380806e6490818782e8",
    "time": "2021-01-19T23:13:37.999Z",
    "type": "completion"
   },
   {
    "code": "\"\"\" # BEGIN PROMPT\npollution['log_gdp'] = ...\npollution['log_co2'] = ...\n\"\"\" # END PROMPT\n# BEGIN SOLUTION NO PROMPT\npollution['log_gdp'] = np.log(pollution['gdp'])\npollution['log_co2'] = np.log(pollution['co2'])\n# END SOLUTION\n\npollution.head()",
    "id": "bf5adc709a9d49f08cdc468728a4d823",
    "idx": 76,
    "time": "2021-01-19T23:13:41.541Z",
    "type": "execution"
   },
   {
    "id": "bf5adc709a9d49f08cdc468728a4d823",
    "time": "2021-01-19T23:13:41.614Z",
    "type": "completion"
   },
   {
    "code": "plt.scatter(pollution['log_gdp'], pollution['log_co2'])\nplt.xlabel(\"log gdp\")\nplt.ylabel(\"log co2\");",
    "id": "59216a472700488f8056fcb424f1b549",
    "idx": 80,
    "time": "2021-01-19T23:13:50.997Z",
    "type": "execution"
   },
   {
    "id": "59216a472700488f8056fcb424f1b549",
    "time": "2021-01-19T23:13:51.324Z",
    "type": "completion"
   },
   {
    "code": "\"\"\" # BEGIN PROMPT\npollution['log_gdppc'] = ...\npollution['log_co2pc'] = ...\n\nplt.scatter(..., ...)\n\"\"\" # END PROMPT\n# BEGIN SOLUTION NO PROMPT\npollution['log_gdppc'] = np.log(pollution['gdppc'])\npollution['log_co2pc'] = np.log(pollution['co2pc'])\n\nplt.scatter(pollution['log_gdppc'], pollution['log_co2pc'])\n# END SOLUTION\nplt.xlabel(\"log gdppc\")\nplt.ylabel(\"log co2pc\");",
    "id": "d9904d48b4f54fd0948d6edb053bcb62",
    "idx": 82,
    "time": "2021-01-19T23:13:53.555Z",
    "type": "execution"
   },
   {
    "id": "d9904d48b4f54fd0948d6edb053bcb62",
    "time": "2021-01-19T23:13:53.798Z",
    "type": "completion"
   },
   {
    "code": "la = pd.read_stata(\"PS1data(LA wages).dta\")\nla.head()",
    "id": "29e5d9e6e8034432b3d40ec5f04b1097",
    "idx": 85,
    "time": "2021-01-19T23:14:12.905Z",
    "type": "execution"
   },
   {
    "id": "29e5d9e6e8034432b3d40ec5f04b1097",
    "time": "2021-01-19T23:14:12.980Z",
    "type": "completion"
   },
   {
    "code": "la.to_csv(\"la.csv\")",
    "id": "25f64889e1b34b67abd88cb5c32c7c7a",
    "idx": 86,
    "time": "2021-01-19T23:14:23.213Z",
    "type": "execution"
   },
   {
    "id": "25f64889e1b34b67abd88cb5c32c7c7a",
    "time": "2021-01-19T23:14:23.275Z",
    "type": "completion"
   },
   {
    "code": "la = pd.read_stata(\"PS1data(LA wages).dta\")\nla.head()",
    "id": "29e5d9e6e8034432b3d40ec5f04b1097",
    "idx": 85,
    "time": "2021-01-19T23:14:33.529Z",
    "type": "execution"
   },
   {
    "id": "29e5d9e6e8034432b3d40ec5f04b1097",
    "time": "2021-01-19T23:14:33.606Z",
    "type": "completion"
   },
   {
    "code": "la.to_csv(\"la.csv\", index=False)",
    "id": "25f64889e1b34b67abd88cb5c32c7c7a",
    "idx": 86,
    "time": "2021-01-19T23:14:34.015Z",
    "type": "execution"
   },
   {
    "id": "25f64889e1b34b67abd88cb5c32c7c7a",
    "time": "2021-01-19T23:14:34.078Z",
    "type": "completion"
   },
   {
    "code": "la = pd.read_csv(\"la.csv\")\nla.head()",
    "id": "5dca6498fa0847e480fe4e65ee056c9c",
    "idx": 87,
    "time": "2021-01-19T23:15:15.957Z",
    "type": "execution"
   },
   {
    "id": "5dca6498fa0847e480fe4e65ee056c9c",
    "time": "2021-01-19T23:15:16.028Z",
    "type": "completion"
   },
   {
    "code": "la.describe() # SOLUTION",
    "id": "f752891718f8483f95d84f466be47517",
    "idx": 89,
    "time": "2021-01-19T23:15:20.845Z",
    "type": "execution"
   },
   {
    "id": "f752891718f8483f95d84f466be47517",
    "time": "2021-01-19T23:15:20.934Z",
    "type": "completion"
   },
   {
    "code": "la.hist(column='wage', bins=80); # SOLUTION",
    "id": "0de472d51d7e4448bf248ec9d3fedcc4",
    "idx": 91,
    "time": "2021-01-19T23:15:23.012Z",
    "type": "execution"
   },
   {
    "id": "0de472d51d7e4448bf248ec9d3fedcc4",
    "time": "2021-01-19T23:15:23.335Z",
    "type": "completion"
   },
   {
    "code": "# This code cell is for question 5.c.\n",
    "id": "d5a9aa43ae5549878e5b85f6fdd4a94c",
    "idx": 94,
    "time": "2021-01-19T23:15:26.236Z",
    "type": "execution"
   },
   {
    "id": "d5a9aa43ae5549878e5b85f6fdd4a94c",
    "time": "2021-01-19T23:15:26.289Z",
    "type": "completion"
   },
   {
    "code": "\"\"\" # BEGIN PROMPT\nla['log_wage'] = ...\n\"\"\" # END PROMPT\n# BEGIN SOLUTION NO PROMPT\nla['log_wage'] = np.log(la['wage'])\n# END SOLUTION\n\nla.head()",
    "id": "b2e6459694f64f8b8e889ed6275d5836",
    "idx": 97,
    "time": "2021-01-19T23:15:30.247Z",
    "type": "execution"
   },
   {
    "id": "b2e6459694f64f8b8e889ed6275d5836",
    "time": "2021-01-19T23:15:30.315Z",
    "type": "completion"
   },
   {
    "code": "la.value_counts(subset='education', sort=False, normalize=True) # SOLUTION",
    "id": "74995e5f61c843d89f98990ce2982334",
    "idx": 99,
    "time": "2021-01-19T23:15:37.582Z",
    "type": "execution"
   },
   {
    "id": "74995e5f61c843d89f98990ce2982334",
    "time": "2021-01-19T23:15:37.640Z",
    "type": "completion"
   },
   {
    "code": "\"\"\" # BEGIN PROMPT\n...\n...\n...\n\"\"\" # END PROMPT\n# BEGIN SOLUTION NO PROMPT\nplt.scatter(la['education'], la['log_wage'])\nplt.xlabel(\"education\")\nplt.ylabel(\"log wage\");\n# END SOLUTION",
    "id": "2fc6e4ca385f461d888043e40ad16a9b",
    "idx": 101,
    "time": "2021-01-19T23:15:39.558Z",
    "type": "execution"
   },
   {
    "id": "2fc6e4ca385f461d888043e40ad16a9b",
    "time": "2021-01-19T23:15:39.801Z",
    "type": "completion"
   },
   {
    "code": "import numpy as np\nimport pandas as pd\nfrom scipy import stats\nimport matplotlib.pyplot as plt",
    "id": "95c28f6d0a7f4cc185cc2750c76ab478",
    "idx": 4,
    "time": "2021-01-20T18:11:53.326Z",
    "type": "execution"
   },
   {
    "code": "# Don't forget to run this cell that reads in the data\nnba = pd.read_csv(\"nba.csv\")\nnba.head()",
    "id": "1cecdf82f97c4c838056af1d3f659eae",
    "idx": 6,
    "time": "2021-01-20T18:11:53.332Z",
    "type": "execution"
   },
   {
    "code": "\"\"\" # BEGIN PROMPT\nnba_guard = ...\nnba_not_guard = ...\n\nttest_1a = stats.ttest_ind(..., ...)\n\ntstat_1a = ttest_1a.statistic\npval_1a = ttest_1a.pvalue\n\"\"\" # END PROMPT\n# BEGIN SOLUTION NO PROMPT\nnba_guard = nba[nba['guard'] == 1]\nnba_not_guard = nba[nba['guard'] == 0]\n\nttest_1a = stats.ttest_ind(nba_guard['wage'], nba_not_guard['wage'])\n\ntstat_1a = ttest_1a.statistic\npval_1a = ttest_1a.pvalue\n# END SOLUTION\n\nprint(\"t-stat: {}\".format(tstat_1a))\nprint(\"p-value: {}\".format(pval_1a))",
    "id": "455d2e5b541547319e98c4ce5b095017",
    "idx": 8,
    "time": "2021-01-20T18:11:53.335Z",
    "type": "execution"
   },
   {
    "code": "\"\"\" # BEGIN PROMPT\nnba['degree'] = ...\n\nnba_degree = ...\nnba_no_degree = ...\n\nttest_1c = stats.ttest_ind(..., ...)\n\ntstat_1c = ttest_1c.statistic\npval_1c = ttest_1c.pvalue\n\"\"\" # END PROMPT\n# BEGIN SOLUTION NO PROMPT\nnba['degree'] = nba['coll'] >= 4\n\nnba_degree = nba[nba['degree'] == True]\nnba_no_degree = nba[nba['degree'] == False]\n\nttest_1c = stats.ttest_ind(nba_degree['wage'], nba_no_degree['wage'])\n\ntstat_1c = ttest_1c.statistic\npval_1c = ttest_1c.pvalue\n# END SOLUTION\n\nprint(\"t-stat: {}\".format(tstat_1c))\nprint(\"p-value: {}\".format(pval_1c))",
    "id": "72862f5469134c5283829a887acaff8d",
    "idx": 12,
    "time": "2021-01-20T18:11:53.339Z",
    "type": "execution"
   },
   {
    "code": "\"\"\" # BEGIN PROMPT\nnba['productivity'] = ...\n\nnba_guard = ...\nnba_not_guard = ...\n\nttest_1e = stats.ttest_ind(..., ...)\n\ntstat_1e = ttest_1e.statistic\npval_1e = ttest_1e.pvalue\n\"\"\" # END PROMPT\n# BEGIN SOLUTION NO PROMPT\nnba['productivity'] = nba['points'] / (nba['minutes'] / nba['games'])\n\nnba_guard = nba[nba['guard'] == 1]\nnba_not_guard = nba[nba['guard'] == 0]\n\nttest_1e = stats.ttest_ind(nba_guard['productivity'], nba_not_guard['productivity'])\n\ntstat_1e = ttest_1e.statistic\npval_1e = ttest_1e.pvalue\n# END SOLUTION\n\nprint(\"t-stat: {}\".format(tstat_1e))\nprint(\"p-value: {}\".format(pval_1e))",
    "id": "d6b9536ee67f489288bd9a1bc0a5bc1f",
    "idx": 16,
    "time": "2021-01-20T18:11:53.342Z",
    "type": "execution"
   },
   {
    "code": "\"\"\" # BEGIN PROMPT\nnba[['points', 'assists', 'rebounds']]...\n\"\"\" # END PROMPT\n# BEGIN SOLUTION NO PROMPT\nnba[['points', 'assists', 'rebounds']].corr()\n# END SOLUTION",
    "id": "50fb7915b34f4e54b575d18659557068",
    "idx": 20,
    "time": "2021-01-20T18:11:53.346Z",
    "type": "execution"
   },
   {
    "code": "\"\"\" # BEGIN PROMPT\nnba['index'] = ...\n\nnba_guard = ...\nnba_not_guard = ...\n\nttest_1h = stats.ttest_ind(..., ...)\n\ntstat_1h = ttest_1h.statistic\npval_1h = ttest_1h.pvalue\n\"\"\" # END PROMPT\n# BEGIN SOLUTION NO PROMPT\nnba['index'] = nba['points'] + nba['rebounds'] + 2 * nba['assists']\n\nnba_guard = nba[nba['guard'] == 1]\nnba_not_guard = nba[nba['guard'] == 0]\n\nttest_1h = stats.ttest_ind(nba_guard['index'], nba_not_guard['index'])\n\ntstat_1h = ttest_1h.statistic\npval_1h = ttest_1h.pvalue\n# END SOLUTION\n\nprint(\"t-stat: {}\".format(tstat_1h))\nprint(\"p-value: {}\".format(pval_1h))",
    "id": "c2e7905ba84c4ec68abbda63c913da8e",
    "idx": 22,
    "time": "2021-01-20T18:11:53.348Z",
    "type": "execution"
   },
   {
    "code": "\"\"\" # BEGIN PROMPT\nnba['payoff'] = ...\n\nnba_guard = ...\nnba_not_guard = ...\n\nttest_1j = stats.ttest_ind(..., ...)\n\ntstat_1j = ttest_1j.statistic\npval_1j = ttest_1j.pvalue\n\"\"\" # END PROMPT\n# BEGIN SOLUTION NO PROMPT\nnba['payoff'] = nba['index'] / nba['wage']\n\nnba_guard = nba[nba['guard'] == 1]\nnba_not_guard = nba[nba['guard'] == 0]\n\nttest_1j = stats.ttest_ind(nba_guard['payoff'], nba_not_guard['payoff'])\n\ntstat_1j = ttest_1j.statistic\npval_1j = ttest_1j.pvalue\n# END SOLUTION\n\nprint(\"t-stat: {}\".format(tstat_1j))\nprint(\"p-value: {}\".format(pval_1j))",
    "id": "4f049e7ffce94248918f1386796eb59e",
    "idx": 26,
    "time": "2021-01-20T18:11:53.351Z",
    "type": "execution"
   },
   {
    "code": "crime = pd.read_csv(\"crime.csv\")\ncrime.head()",
    "id": "72c9eb94cbe04857a63d27baeef132d3",
    "idx": 31,
    "time": "2021-01-20T18:11:53.355Z",
    "type": "execution"
   },
   {
    "code": "# This code cell is for question 2.a.\n",
    "id": "349ae95b6ecd4d9ba6d4672153f5fb5c",
    "idx": 32,
    "time": "2021-01-20T18:11:53.356Z",
    "type": "execution"
   },
   {
    "code": "\"\"\" # BEGIN PROMPT\ncrime[['enrollment', 'police', 'crime']]...\n\"\"\" # END PROMPT\n# BEGIN SOLUTION NO PROMPT\ncrime[['enrollment', 'police', 'crime']].corr()\n# END SOLUTION",
    "id": "e083bc37e898455486ca9ace1d5515f4",
    "idx": 37,
    "time": "2021-01-20T18:11:53.360Z",
    "type": "execution"
   },
   {
    "code": "\"\"\" # BEGIN PROMPT\ncrime_public = ...\ncrime_private = ...\n\nttest_2d_unequal_var = stats.ttest_ind(..., ..., ...)\n\ntstat_2d_unequal = ttest_2d_unequal_var.statistic\npval_2d_unequal = ttest_2d_unequal_var.pvalue\n\nttest_2d_equal_var = stats.ttest_ind(..., ...)\n\ntstat_2d_equal = ttest_2d_equal_var.statistic\npval_2d_equal = ttest_2d_equal_var.pvalue\n\"\"\" # END PROMPT\n# BEGIN SOLUTION NO PROMPT\ncrime_public = crime[crime['private'] == 0]\ncrime_private = crime[crime['private'] == 1]\n\nttest_2d_unequal_var = stats.ttest_ind(crime_public['crime'], crime_private['crime'], equal_var=False)\n\ntstat_2d_unequal = ttest_2d_unequal_var.statistic\npval_2d_unequal = ttest_2d_unequal_var.pvalue\n\nttest_2d_equal_var = stats.ttest_ind(crime_public['crime'], crime_private['crime'])\n\ntstat_2d_equal = ttest_2d_equal_var.statistic\npval_2d_equal = ttest_2d_equal_var.pvalue\n# END SOLUTION\n\nprint(\"t-stat unequal variance: {}\".format(tstat_2d_unequal))\nprint(\"p-value unequal variance: {}\".format(pval_2d_unequal))\nprint(\"t-stat equal variance: {}\".format(tstat_2d_equal))\nprint(\"p-value equal variance: {}\".format(pval_2d_equal))",
    "id": "3deaa58edc2c4e8c8d7ab1390793ce03",
    "idx": 41,
    "time": "2021-01-20T18:11:53.365Z",
    "type": "execution"
   },
   {
    "code": "\"\"\" # BEGIN PROMPT\ncrime['crimerate'] = ...\n\ncrime_public = ...\ncrime_private = ...\n\nttest_2f_unequal_var = stats.ttest_ind(..., ..., ...)\n\ntstat_2f_unequal = ttest_2f_unequal_var.statistic\npval_2f_unequal = ttest_2f_unequal_var.pvalue\n\nttest_2f_equal_var = stats.ttest_ind(..., ...)\n\ntstat_2f_equal = ttest_2f_equal_var.statistic\npval_2f_equal = ttest_2f_equal_var.pvalue\n\"\"\" # END PROMPT\n# BEGIN SOLUTION NO PROMPT\ncrime['crimerate'] = 1000 * (crime['crime'] / crime['enrollment'])\n\ncrime_public = crime[crime['private'] == 0]\ncrime_private = crime[crime['private'] == 1]\n\nttest_2f_unequal_var = stats.ttest_ind(crime_public['crimerate'], crime_private['crimerate'], equal_var=False)\n\ntstat_2f_unequal = ttest_2f_unequal_var.statistic\npval_2f_unequal = ttest_2f_unequal_var.pvalue\n\nttest_2f_equal_var = stats.ttest_ind(crime_public['crimerate'], crime_private['crimerate'])\n\ntstat_2f_equal = ttest_2f_equal_var.statistic\npval_2f_equal = ttest_2f_equal_var.pvalue\n# END SOLUTION\n\nprint(\"t-stat unequal variance: {}\".format(tstat_2f_unequal))\nprint(\"p-value unequal variance: {}\".format(pval_2f_unequal))\nprint(\"t-stat equal variance: {}\".format(tstat_2f_equal))\nprint(\"p-value equal variance: {}\".format(pval_2f_equal))",
    "id": "10fe58833a7c4b1dbf5abcde63d3061f",
    "idx": 45,
    "time": "2021-01-20T18:11:53.368Z",
    "type": "execution"
   },
   {
    "code": "pollution = pd.read_csv(\"pollution.csv\")\npollution.head()",
    "id": "77523435175a4422b864d2a61f7b498c",
    "idx": 63,
    "time": "2021-01-20T18:11:53.379Z",
    "type": "execution"
   },
   {
    "code": "# This code cell is for question 4.a.\n",
    "id": "fd9b8e13ef184684845f4947845d3c6b",
    "idx": 64,
    "time": "2021-01-20T18:11:53.380Z",
    "type": "execution"
   },
   {
    "code": "# This code cell is for question 4.a.\n",
    "id": "34ac8cf5f51d4dd097e4056465d968b5",
    "idx": 65,
    "time": "2021-01-20T18:11:53.382Z",
    "type": "execution"
   },
   {
    "code": "\"\"\" # BEGIN PROMPT\npollution_oecd = ...\npollution_no_oecd = ...\n\nttest_4b = stats.ttest_ind(..., ..., ..., nan_policy='omit')\n\ntstat_4b = ttest_4b.statistic\npval_4b = ttest_4b.pvalue\n\"\"\" # END PROMPT\n# BEGIN SOLUTION NO PROMPT\npollution_oecd = pollution[pollution['oecd'] == 1]\npollution_no_oecd = pollution[pollution['oecd'] == 0]\n\nttest_4b = stats.ttest_ind(pollution_oecd['co2pc'], pollution_no_oecd['co2pc'], equal_var=False, nan_policy='omit')\n\ntstat_4b = ttest_4b.statistic\npval_4b = ttest_4b.pvalue\n# END SOLUTION\n\nprint(\"t-stat: {}\".format(tstat_4b))\nprint(\"p-value: {}\".format(pval_4b))",
    "id": "daaf8f254b8e4925b1b4c28e746f56a4",
    "idx": 69,
    "time": "2021-01-20T18:11:53.386Z",
    "type": "execution"
   },
   {
    "code": "\"\"\" # BEGIN PROMPT\npollution['log_gdp'] = ...\npollution['log_co2'] = ...\n\"\"\" # END PROMPT\n# BEGIN SOLUTION NO PROMPT\npollution['log_gdp'] = np.log(pollution['gdp'])\npollution['log_co2'] = np.log(pollution['co2'])\n# END SOLUTION\n\npollution.head()",
    "id": "d6b8602c995141938bee6924fbf53c9a",
    "idx": 74,
    "time": "2021-01-20T18:11:53.390Z",
    "type": "execution"
   },
   {
    "code": "plt.scatter(pollution['log_gdp'], pollution['log_co2'])\nplt.xlabel(\"log gdp\")\nplt.ylabel(\"log co2\");",
    "id": "3afbdfec27be4995819da5cc2dcd6408",
    "idx": 78,
    "time": "2021-01-20T18:11:53.392Z",
    "type": "execution"
   },
   {
    "code": "\"\"\" # BEGIN PROMPT\npollution['log_gdppc'] = ...\npollution['log_co2pc'] = ...\n\nplt.scatter(..., ...)\n\"\"\" # END PROMPT\n# BEGIN SOLUTION NO PROMPT\npollution['log_gdppc'] = np.log(pollution['gdppc'])\npollution['log_co2pc'] = np.log(pollution['co2pc'])\n\nplt.scatter(pollution['log_gdppc'], pollution['log_co2pc'])\n# END SOLUTION\nplt.xlabel(\"log gdppc\")\nplt.ylabel(\"log co2pc\");",
    "id": "34583e69b57d442989739586006cf932",
    "idx": 80,
    "time": "2021-01-20T18:11:53.395Z",
    "type": "execution"
   },
   {
    "code": "la = pd.read_csv(\"la.csv\")\nla.head()",
    "id": "97d29170656347c2874c29dada53ad8b",
    "idx": 85,
    "time": "2021-01-20T18:11:53.398Z",
    "type": "execution"
   },
   {
    "code": "la.describe() # SOLUTION",
    "id": "ea20964397cf47d19d32fb07ecd33bb0",
    "idx": 87,
    "time": "2021-01-20T18:11:53.401Z",
    "type": "execution"
   },
   {
    "code": "la.hist(column='wage', bins=80); # SOLUTION",
    "id": "5f646fd659af48b6949e0e31462fe5a6",
    "idx": 89,
    "time": "2021-01-20T18:11:53.403Z",
    "type": "execution"
   },
   {
    "code": "# This code cell is for question 5.c.\n",
    "id": "97a926f5aef340948a6709328374dd74",
    "idx": 90,
    "time": "2021-01-20T18:11:53.404Z",
    "type": "execution"
   },
   {
    "code": "\"\"\" # BEGIN PROMPT\nla['log_wage'] = ...\n\"\"\" # END PROMPT\n# BEGIN SOLUTION NO PROMPT\nla['log_wage'] = np.log(la['wage'])\n# END SOLUTION\n\nla.head()",
    "id": "9838a9ad5dcb462ea4f59e916509566e",
    "idx": 94,
    "time": "2021-01-20T18:11:53.408Z",
    "type": "execution"
   },
   {
    "code": "la.value_counts(subset='education', sort=False, normalize=True) # SOLUTION",
    "id": "f8d0a4388bc54255b8e7b9cb48beb6cc",
    "idx": 96,
    "time": "2021-01-20T18:11:53.410Z",
    "type": "execution"
   },
   {
    "code": "\"\"\" # BEGIN PROMPT\n...\n...\n...\n\"\"\" # END PROMPT\n# BEGIN SOLUTION NO PROMPT\nplt.scatter(la['education'], la['log_wage'])\nplt.xlabel(\"education\")\nplt.ylabel(\"log wage\");\n# END SOLUTION",
    "id": "b8d531a3803a4b9eb0833920c46775f1",
    "idx": 98,
    "time": "2021-01-20T18:11:53.411Z",
    "type": "execution"
   },
   {
    "id": "95c28f6d0a7f4cc185cc2750c76ab478",
    "time": "2021-01-20T18:11:54.277Z",
    "type": "completion"
   },
   {
    "id": "1cecdf82f97c4c838056af1d3f659eae",
    "time": "2021-01-20T18:11:54.315Z",
    "type": "completion"
   },
   {
    "id": "455d2e5b541547319e98c4ce5b095017",
    "time": "2021-01-20T18:11:54.339Z",
    "type": "completion"
   },
   {
    "id": "72862f5469134c5283829a887acaff8d",
    "time": "2021-01-20T18:11:54.350Z",
    "type": "completion"
   },
   {
    "id": "d6b9536ee67f489288bd9a1bc0a5bc1f",
    "time": "2021-01-20T18:11:54.358Z",
    "type": "completion"
   },
   {
    "id": "50fb7915b34f4e54b575d18659557068",
    "time": "2021-01-20T18:11:54.378Z",
    "type": "completion"
   },
   {
    "id": "c2e7905ba84c4ec68abbda63c913da8e",
    "time": "2021-01-20T18:11:54.386Z",
    "type": "completion"
   },
   {
    "id": "4f049e7ffce94248918f1386796eb59e",
    "time": "2021-01-20T18:11:54.401Z",
    "type": "completion"
   },
   {
    "id": "72c9eb94cbe04857a63d27baeef132d3",
    "time": "2021-01-20T18:11:54.423Z",
    "type": "completion"
   },
   {
    "id": "349ae95b6ecd4d9ba6d4672153f5fb5c",
    "time": "2021-01-20T18:11:54.434Z",
    "type": "completion"
   },
   {
    "id": "e083bc37e898455486ca9ace1d5515f4",
    "time": "2021-01-20T18:11:54.442Z",
    "type": "completion"
   },
   {
    "id": "3deaa58edc2c4e8c8d7ab1390793ce03",
    "time": "2021-01-20T18:11:54.450Z",
    "type": "completion"
   },
   {
    "id": "10fe58833a7c4b1dbf5abcde63d3061f",
    "time": "2021-01-20T18:11:54.463Z",
    "type": "completion"
   },
   {
    "id": "77523435175a4422b864d2a61f7b498c",
    "time": "2021-01-20T18:11:54.495Z",
    "type": "completion"
   },
   {
    "id": "fd9b8e13ef184684845f4947845d3c6b",
    "time": "2021-01-20T18:11:54.499Z",
    "type": "completion"
   },
   {
    "id": "34ac8cf5f51d4dd097e4056465d968b5",
    "time": "2021-01-20T18:11:54.502Z",
    "type": "completion"
   },
   {
    "id": "daaf8f254b8e4925b1b4c28e746f56a4",
    "time": "2021-01-20T18:11:54.518Z",
    "type": "completion"
   },
   {
    "id": "d6b8602c995141938bee6924fbf53c9a",
    "time": "2021-01-20T18:11:54.544Z",
    "type": "completion"
   },
   {
    "id": "3afbdfec27be4995819da5cc2dcd6408",
    "time": "2021-01-20T18:11:54.773Z",
    "type": "completion"
   },
   {
    "id": "34583e69b57d442989739586006cf932",
    "time": "2021-01-20T18:11:54.920Z",
    "type": "completion"
   },
   {
    "id": "97d29170656347c2874c29dada53ad8b",
    "time": "2021-01-20T18:11:54.957Z",
    "type": "completion"
   },
   {
    "id": "ea20964397cf47d19d32fb07ecd33bb0",
    "time": "2021-01-20T18:11:54.996Z",
    "type": "completion"
   },
   {
    "id": "5f646fd659af48b6949e0e31462fe5a6",
    "time": "2021-01-20T18:11:55.280Z",
    "type": "completion"
   },
   {
    "id": "97a926f5aef340948a6709328374dd74",
    "time": "2021-01-20T18:11:55.285Z",
    "type": "completion"
   },
   {
    "id": "9838a9ad5dcb462ea4f59e916509566e",
    "time": "2021-01-20T18:11:55.305Z",
    "type": "completion"
   },
   {
    "id": "f8d0a4388bc54255b8e7b9cb48beb6cc",
    "time": "2021-01-20T18:11:55.329Z",
    "type": "completion"
   },
   {
    "id": "b8d531a3803a4b9eb0833920c46775f1",
    "time": "2021-01-20T18:11:55.477Z",
    "type": "completion"
   }
  ],
  "kernelspec": {
   "display_name": "Python 3 (ipykernel)",
   "language": "python",
   "name": "python3"
  },
  "language_info": {
   "codemirror_mode": {
    "name": "ipython",
    "version": 3
   },
   "file_extension": ".py",
   "mimetype": "text/x-python",
   "name": "python",
   "nbconvert_exporter": "python",
   "pygments_lexer": "ipython3",
   "version": "3.9.7"
  }
 },
 "nbformat": 4,
 "nbformat_minor": 2
}
